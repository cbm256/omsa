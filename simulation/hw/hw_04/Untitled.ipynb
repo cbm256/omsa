{
 "cells": [
  {
   "cell_type": "code",
   "execution_count": 16,
   "metadata": {},
   "outputs": [],
   "source": [
    "import numpy as np\n",
    "import pandas as pd\n",
    "from random import uniform \n",
    "import matplotlib.pyplot as plt\n",
    "%matplotlib inline"
   ]
  },
  {
   "cell_type": "code",
   "execution_count": 19,
   "metadata": {},
   "outputs": [],
   "source": [
    "r = range(10000)\n",
    "\n",
    "\n",
    "l = []\n",
    "\n",
    "for i in range(500):\n",
    "    # expenses\n",
    "    tuition = 8400\n",
    "    dorm = 5400\n",
    "\n",
    "    meals = np.array([uniform(900, 1350) for i in r])\n",
    "    entertainment = np.array([uniform(600, 1200) for i in r])\n",
    "    transportation = np.array([uniform(200, 600) for i in r])\n",
    "    books = np.array([uniform(400, 800) for i in r])\n",
    "\n",
    "\n",
    "    # income\n",
    "    scholarship = 3000\n",
    "    parents = 4000\n",
    "    \n",
    "    waiting_tables = np.array([uniform(3000, 5000) for i in r])\n",
    "    library_job = np.array([uniform(2000, 3000) for i in r])\n",
    "    \n",
    "    # loan\n",
    "    \n",
    "    expenses = tuition + dorm + meals + entertainment + transportation + books\n",
    "    income = scholarship + parents + waiting_tables + library_job\n",
    "\n",
    "    loan = (expenses - income).mean()\n",
    "    l.append(loan)\n",
    "    "
   ]
  },
  {
   "cell_type": "code",
   "execution_count": 20,
   "metadata": {},
   "outputs": [
    {
     "data": {
      "text/plain": [
       "<matplotlib.axes._subplots.AxesSubplot at 0x7f5fa5229750>"
      ]
     },
     "execution_count": 20,
     "metadata": {},
     "output_type": "execute_result"
    },
    {
     "data": {
      "image/png": "[encoded data removed]",
      "text/plain": [
       "<Figure size 432x288 with 1 Axes>"
      ]
     },
     "metadata": {
      "needs_background": "light"
     },
     "output_type": "display_data"
    }
   ],
   "source": [
    "df = pd.DataFrame({\"loan\":l})\n",
    "\n",
    "df.plot.hist()\n",
    "\n"
   ]
  },
  {
   "cell_type": "code",
   "execution_count": 21,
   "metadata": {},
   "outputs": [
    {
     "data": {
      "text/plain": [
       "loan    3324.907313\n",
       "dtype: float64"
      ]
     },
     "execution_count": 21,
     "metadata": {},
     "output_type": "execute_result"
    }
   ],
   "source": [
    "df.mean()"
   ]
  },
  {
   "cell_type": "code",
   "execution_count": 22,
   "metadata": {},
   "outputs": [
    {
     "data": {
      "text/plain": [
       "(3324.2821309037204, 3325.5324955012825)"
      ]
     },
     "execution_count": 22,
     "metadata": {},
     "output_type": "execute_result"
    }
   ],
   "source": [
    "# confidence intervals\n",
    "import statsmodels.stats.api as sms\n",
    "\n",
    "sms.DescrStatsW(df[\"loan\"]).tconfint_mean()"
   ]
  },
  {
   "cell_type": "code",
   "execution_count": 23,
   "metadata": {},
   "outputs": [
    {
     "data": {
      "text/plain": [
       "(3324.2821309037204, 3325.5324955012825)"
      ]
     },
     "execution_count": 23,
     "metadata": {},
     "output_type": "execute_result"
    }
   ],
   "source": [
    "import numpy as np, scipy.stats as st\n",
    "\n",
    "st.t.interval(0.95, len(df[\"loan\"])-1, loc=np.mean(df[\"loan\"]), scale=st.sem(df[\"loan\"]))"
   ]
  }
 ],
 "metadata": {
  "kernelspec": {
   "display_name": "omsa",
   "language": "python",
   "name": "omsa"
  },
  "language_info": {
   "codemirror_mode": {
    "name": "ipython",
    "version": 3
   },
   "file_extension": ".py",
   "mimetype": "text/x-python",
   "name": "python",
   "nbconvert_exporter": "python",
   "pygments_lexer": "ipython3",
   "version": "3.7.6"
  }
 },
 "nbformat": 4,
 "nbformat_minor": 2
}

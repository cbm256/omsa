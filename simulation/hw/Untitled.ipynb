{
 "cells": [
  {
   "cell_type": "code",
   "execution_count": 1,
   "metadata": {},
   "outputs": [],
   "source": [
    "from random import uniform\n",
    "import pandas as pd\n",
    "import matplotlib.pyplot as plt\n",
    "%matplotlib inline"
   ]
  },
  {
   "cell_type": "code",
   "execution_count": 12,
   "metadata": {},
   "outputs": [
    {
     "data": {
      "text/html": [
       "<div>\n",
       "<style scoped>\n",
       "    .dataframe tbody tr th:only-of-type {\n",
       "        vertical-align: middle;\n",
       "    }\n",
       "\n",
       "    .dataframe tbody tr th {\n",
       "        vertical-align: top;\n",
       "    }\n",
       "\n",
       "    .dataframe thead th {\n",
       "        text-align: right;\n",
       "    }\n",
       "</style>\n",
       "<table border=\"1\" class=\"dataframe\">\n",
       "  <thead>\n",
       "    <tr style=\"text-align: right;\">\n",
       "      <th></th>\n",
       "      <th>u1</th>\n",
       "      <th>u2</th>\n",
       "    </tr>\n",
       "  </thead>\n",
       "  <tbody>\n",
       "    <tr>\n",
       "      <th>0</th>\n",
       "      <td>0.655670</td>\n",
       "      <td>0.855881</td>\n",
       "    </tr>\n",
       "    <tr>\n",
       "      <th>1</th>\n",
       "      <td>0.405380</td>\n",
       "      <td>0.448803</td>\n",
       "    </tr>\n",
       "    <tr>\n",
       "      <th>2</th>\n",
       "      <td>0.228102</td>\n",
       "      <td>0.083886</td>\n",
       "    </tr>\n",
       "    <tr>\n",
       "      <th>3</th>\n",
       "      <td>0.762462</td>\n",
       "      <td>0.650291</td>\n",
       "    </tr>\n",
       "    <tr>\n",
       "      <th>4</th>\n",
       "      <td>0.742950</td>\n",
       "      <td>0.605154</td>\n",
       "    </tr>\n",
       "    <tr>\n",
       "      <th>...</th>\n",
       "      <td>...</td>\n",
       "      <td>...</td>\n",
       "    </tr>\n",
       "    <tr>\n",
       "      <th>9995</th>\n",
       "      <td>0.277681</td>\n",
       "      <td>0.902505</td>\n",
       "    </tr>\n",
       "    <tr>\n",
       "      <th>9996</th>\n",
       "      <td>0.410990</td>\n",
       "      <td>0.124015</td>\n",
       "    </tr>\n",
       "    <tr>\n",
       "      <th>9997</th>\n",
       "      <td>0.632472</td>\n",
       "      <td>0.442975</td>\n",
       "    </tr>\n",
       "    <tr>\n",
       "      <th>9998</th>\n",
       "      <td>0.195080</td>\n",
       "      <td>0.081209</td>\n",
       "    </tr>\n",
       "    <tr>\n",
       "      <th>9999</th>\n",
       "      <td>0.891749</td>\n",
       "      <td>0.764003</td>\n",
       "    </tr>\n",
       "  </tbody>\n",
       "</table>\n",
       "<p>10000 rows × 2 columns</p>\n",
       "</div>"
      ],
      "text/plain": [
       "            u1        u2\n",
       "0     0.655670  0.855881\n",
       "1     0.405380  0.448803\n",
       "2     0.228102  0.083886\n",
       "3     0.762462  0.650291\n",
       "4     0.742950  0.605154\n",
       "...        ...       ...\n",
       "9995  0.277681  0.902505\n",
       "9996  0.410990  0.124015\n",
       "9997  0.632472  0.442975\n",
       "9998  0.195080  0.081209\n",
       "9999  0.891749  0.764003\n",
       "\n",
       "[10000 rows x 2 columns]"
      ]
     },
     "execution_count": 12,
     "metadata": {},
     "output_type": "execute_result"
    }
   ],
   "source": [
    "u1 = [uniform(0,1) for i in range(10000)]\n",
    "u2 = [uniform(0,1) for i in range(10000)]\n",
    "df = pd.DataFrame({\"u1\":u1, \"u2\":u2})\n",
    "df"
   ]
  },
  {
   "cell_type": "code",
   "execution_count": 13,
   "metadata": {},
   "outputs": [
    {
     "data": {
      "text/plain": [
       "<matplotlib.axes._subplots.AxesSubplot at 0x7f3c62f88690>"
      ]
     },
     "execution_count": 13,
     "metadata": {},
     "output_type": "execute_result"
    },
    {
     "data": {
      "image/png": "[encoded data removed]",
      "text/plain": [
       "<Figure size 432x288 with 1 Axes>"
      ]
     },
     "metadata": {
      "needs_background": "light"
     },
     "output_type": "display_data"
    }
   ],
   "source": [
    "import numpy as np\n",
    "df = pd.DataFrame({'data':[-np.log(x) for x in u1]})\n",
    "df.iloc[1:].plot.hist(alpha=0.5)"
   ]
  },
  {
   "cell_type": "code",
   "execution_count": 19,
   "metadata": {},
   "outputs": [
    {
     "data": {
      "text/plain": [
       "<matplotlib.axes._subplots.AxesSubplot at 0x7f3c62b9b0d0>"
      ]
     },
     "execution_count": 19,
     "metadata": {},
     "output_type": "execute_result"
    },
    {
     "data": {
      "image/png": "[encoded data removed]",
      "text/plain": [
       "<Figure size 432x288 with 1 Axes>"
      ]
     },
     "metadata": {
      "needs_background": "light"
     },
     "output_type": "display_data"
    }
   ],
   "source": [
    "df = pd.DataFrame({'u1':u1,'u2':u2})\n",
    "df['u3'] = df['u1']*df['u2']\n",
    "(df).iloc[1:].plot.hist(alpha=0.5)"
   ]
  },
  {
   "cell_type": "code",
   "execution_count": 13,
   "metadata": {},
   "outputs": [],
   "source": [
    "df[\"U\"] = df[\"u1\"] + df[\"u2\"]\n"
   ]
  },
  {
   "cell_type": "code",
   "execution_count": 14,
   "metadata": {},
   "outputs": [
    {
     "data": {
      "text/plain": [
       "<matplotlib.axes._subplots.AxesSubplot at 0x7f55e9e5c510>"
      ]
     },
     "execution_count": 14,
     "metadata": {},
     "output_type": "execute_result"
    },
    {
     "data": {
      "image/png": "[encoded data removed]",
      "text/plain": [
       "<Figure size 432x288 with 1 Axes>"
      ]
     },
     "metadata": {
      "needs_background": "light"
     },
     "output_type": "display_data"
    }
   ],
   "source": [
    "df.plot.hist(alpha=0.5)"
   ]
  },
  {
   "cell_type": "code",
   "execution_count": 3,
   "metadata": {},
   "outputs": [
    {
     "data": {
      "text/plain": [
       "901.847108553054"
      ]
     },
     "execution_count": 3,
     "metadata": {},
     "output_type": "execute_result"
    }
   ],
   "source": [
    "import numpy as np\n",
    "np.random.normal(loc=900, scale=1.0, size=None)"
   ]
  },
  {
   "cell_type": "code",
   "execution_count": 4,
   "metadata": {},
   "outputs": [],
   "source": [
    "from scipy.stats import norm"
   ]
  },
  {
   "cell_type": "code",
   "execution_count": 35,
   "metadata": {},
   "outputs": [],
   "source": [
    "rng = 10000\n",
    "X = np.random.normal(loc=0, scale=1.0, size=rng)\n",
    "r = [np.random.choice(X) for i in range(rng)]"
   ]
  },
  {
   "cell_type": "code",
   "execution_count": 42,
   "metadata": {},
   "outputs": [],
   "source": [
    "U = [norm.cdf(i) for i in X]"
   ]
  },
  {
   "cell_type": "code",
   "execution_count": 43,
   "metadata": {},
   "outputs": [
    {
     "data": {
      "text/plain": [
       "<matplotlib.axes._subplots.AxesSubplot at 0x7fbf7b4e0790>"
      ]
     },
     "execution_count": 43,
     "metadata": {},
     "output_type": "execute_result"
    },
    {
     "data": {
      "image/png": "[encoded data removed]",
      "text/plain": [
       "<Figure size 432x288 with 1 Axes>"
      ]
     },
     "metadata": {
      "needs_background": "light"
     },
     "output_type": "display_data"
    }
   ],
   "source": [
    "df = pd.DataFrame({\"X\":X,\"r\":r,\"U\":U})\n",
    "df.plot.hist(alpha=.5)"
   ]
  },
  {
   "cell_type": "code",
   "execution_count": 44,
   "metadata": {},
   "outputs": [
    {
     "data": {
      "text/plain": [
       "array([[<matplotlib.axes._subplots.AxesSubplot object at 0x7fbf7b42c4d0>,\n",
       "        <matplotlib.axes._subplots.AxesSubplot object at 0x7fbf7b3d0590>],\n",
       "       [<matplotlib.axes._subplots.AxesSubplot object at 0x7fbf7b384d90>,\n",
       "        <matplotlib.axes._subplots.AxesSubplot object at 0x7fbf7b3455d0>]],\n",
       "      dtype=object)"
      ]
     },
     "execution_count": 44,
     "metadata": {},
     "output_type": "execute_result"
    },
    {
     "data": {
      "image/png": "[encoded data removed]",
      "text/plain": [
       "<Figure size 432x288 with 4 Axes>"
      ]
     },
     "metadata": {
      "needs_background": "light"
     },
     "output_type": "display_data"
    }
   ],
   "source": [
    "df.hist(color='k', alpha=0.5)"
   ]
  },
  {
   "cell_type": "code",
   "execution_count": 25,
   "metadata": {},
   "outputs": [
    {
     "data": {
      "text/plain": [
       "array([[ 2., -1.],\n",
       "       [-1.,  4.]])"
      ]
     },
     "execution_count": 25,
     "metadata": {},
     "output_type": "execute_result"
    }
   ],
   "source": [
    "a = np.array([[2,-1], [-1,4]])\n",
    "C = np.linalg.cholesky(a)\n",
    "np.dot(C,C.T)"
   ]
  },
  {
   "cell_type": "code",
   "execution_count": 64,
   "metadata": {},
   "outputs": [
    {
     "data": {
      "text/plain": [
       "0.7600102120000001"
      ]
     },
     "execution_count": 64,
     "metadata": {},
     "output_type": "execute_result"
    }
   ],
   "source": [
    "\n",
    "P = np.array([[.8,.2],[.4,.6]])\n",
    "wed = np.zeros(5000)\n",
    "for d in range(5000):\n",
    "    w = np.zeros(100000)\n",
    "    for i in range(100000):\n",
    "        state = 0\n",
    "        for u in range(2):\n",
    "            p = P[state,0]\n",
    "            u_i = uniform(0,1)\n",
    "            if u_i > p:\n",
    "                if state == 0:\n",
    "                    state = 1\n",
    "                elif state == 1:\n",
    "                    state = 0\n",
    "        w[i] = state\n",
    "\n",
    "    wed[d] = (len(w) - w.sum())/len(w)    \n",
    "wed.mean()   "
   ]
  },
  {
   "cell_type": "code",
   "execution_count": 59,
   "metadata": {},
   "outputs": [
    {
     "data": {
      "text/plain": [
       "array([0., 0., 0., 0., 0., 0., 1., 0., 0., 0.])"
      ]
     },
     "execution_count": 59,
     "metadata": {},
     "output_type": "execute_result"
    }
   ],
   "source": [
    "w[:10]\n"
   ]
  },
  {
   "cell_type": "code",
   "execution_count": 77,
   "metadata": {},
   "outputs": [
    {
     "data": {
      "text/plain": [
       "array([[0.98962582, 0.34780777],\n",
       "       [0.34780777, 1.02585661]])"
      ]
     },
     "execution_count": 77,
     "metadata": {},
     "output_type": "execute_result"
    }
   ],
   "source": [
    "y_2 = np.zeros(10000)\n",
    "y_5 = np.zeros(10000)\n",
    "\n",
    "for idx in range(10000):\n",
    "    y = np.random.normal(loc=0, scale=1, size=None)\n",
    "    for i in range(6):\n",
    "        e = np.random.normal(loc=0, scale=.51**.5, size=None)\n",
    "        y = .7*y + e\n",
    "        if i == 2:\n",
    "            y_2[idx] = y\n",
    "        if i == 5:\n",
    "            y_5[idx] = y\n",
    "             \n",
    "np.cov(y_2,y_5)    "
   ]
  },
  {
   "cell_type": "code",
   "execution_count": 78,
   "metadata": {},
   "outputs": [
    {
     "data": {
      "text/plain": [
       "1.0257540253942135"
      ]
     },
     "execution_count": 78,
     "metadata": {},
     "output_type": "execute_result"
    }
   ],
   "source": [
    "np.var(y_5)"
   ]
  },
  {
   "cell_type": "code",
   "execution_count": 79,
   "metadata": {},
   "outputs": [],
   "source": [
    "\"\"\"\n",
    "brownian() implements one dimensional Brownian motion (i.e. the Wiener process).\n",
    "\"\"\"\n",
    "\n",
    "# File: brownian.py\n",
    "\n",
    "from math import sqrt\n",
    "from scipy.stats import norm\n",
    "import numpy as np\n",
    "\n",
    "\n",
    "def brownian(x0, n, dt, delta, out=None):\n",
    "    \"\"\"\n",
    "    Generate an instance of Brownian motion (i.e. the Wiener process):\n",
    "\n",
    "        X(t) = X(0) + N(0, delta**2 * t; 0, t)\n",
    "\n",
    "    where N(a,b; t0, t1) is a normally distributed random variable with mean a and\n",
    "    variance b.  The parameters t0 and t1 make explicit the statistical\n",
    "    independence of N on different time intervals; that is, if [t0, t1) and\n",
    "    [t2, t3) are disjoint intervals, then N(a, b; t0, t1) and N(a, b; t2, t3)\n",
    "    are independent.\n",
    "    \n",
    "    Written as an iteration scheme,\n",
    "\n",
    "        X(t + dt) = X(t) + N(0, delta**2 * dt; t, t+dt)\n",
    "\n",
    "\n",
    "    If `x0` is an array (or array-like), each value in `x0` is treated as\n",
    "    an initial condition, and the value returned is a numpy array with one\n",
    "    more dimension than `x0`.\n",
    "\n",
    "    Arguments\n",
    "    ---------\n",
    "    x0 : float or numpy array (or something that can be converted to a numpy array\n",
    "         using numpy.asarray(x0)).\n",
    "        The initial condition(s) (i.e. position(s)) of the Brownian motion.\n",
    "    n : int\n",
    "        The number of steps to take.\n",
    "    dt : float\n",
    "        The time step.\n",
    "    delta : float\n",
    "        delta determines the \"speed\" of the Brownian motion.  The random variable\n",
    "        of the position at time t, X(t), has a normal distribution whose mean is\n",
    "        the position at time t=0 and whose variance is delta**2*t.\n",
    "    out : numpy array or None\n",
    "        If `out` is not None, it specifies the array in which to put the\n",
    "        result.  If `out` is None, a new numpy array is created and returned.\n",
    "\n",
    "    Returns\n",
    "    -------\n",
    "    A numpy array of floats with shape `x0.shape + (n,)`.\n",
    "    \n",
    "    Note that the initial value `x0` is not included in the returned array.\n",
    "    \"\"\"\n",
    "\n",
    "    x0 = np.asarray(x0)\n",
    "\n",
    "    # For each element of x0, generate a sample of n numbers from a\n",
    "    # normal distribution.\n",
    "    r = norm.rvs(size=x0.shape + (n,), scale=delta*sqrt(dt))\n",
    "\n",
    "    # If `out` was not given, create an output array.\n",
    "    if out is None:\n",
    "        out = np.empty(r.shape)\n",
    "\n",
    "    # This computes the Brownian motion by forming the cumulative sum of\n",
    "    # the random samples. \n",
    "    np.cumsum(r, axis=-1, out=out)\n",
    "\n",
    "    # Add the initial condition.\n",
    "    out += np.expand_dims(x0, axis=-1)\n",
    "\n",
    "    return out"
   ]
  },
  {
   "cell_type": "code",
   "execution_count": 83,
   "metadata": {},
   "outputs": [
    {
     "data": {
      "text/plain": [
       "array([[46.58627615, 19.4093902 ],\n",
       "       [19.4093902 , 37.43425035]])"
      ]
     },
     "execution_count": 83,
     "metadata": {},
     "output_type": "execute_result"
    }
   ],
   "source": [
    "w3=brownian(x0=0, n=100, dt=3, delta=1, out=None)\n",
    "w5 = brownian(x0=0, n=100, dt=5, delta=1, out=None)\n",
    "np.cov(w3,w5)"
   ]
  },
  {
   "cell_type": "code",
   "execution_count": 84,
   "metadata": {},
   "outputs": [
    {
     "ename": "ParserError",
     "evalue": "Error tokenizing data. C error: Expected 6 fields in line 93, saw 558\n",
     "output_type": "error",
     "traceback": [
      "\u001b[0;31m---------------------------------------------------------------------------\u001b[0m",
      "\u001b[0;31mParserError\u001b[0m                               Traceback (most recent call last)",
      "\u001b[0;32m<ipython-input-84-9fc0586d5490>\u001b[0m in \u001b[0;36m<module>\u001b[0;34m\u001b[0m\n\u001b[1;32m      1\u001b[0m df = pd.read_csv(\n\u001b[0;32m----> 2\u001b[0;31m     \"https://docs.google.com/spreadsheets/d/1avGWWl1J19O_Zm0NGTGy2E-fOG05i4ljRfjl87P7FiA/edit?ts=5e5e9222#gid=0\")\n\u001b[0m",
      "\u001b[0;32m~/anaconda3/envs/omsa/lib/python3.7/site-packages/pandas/io/parsers.py\u001b[0m in \u001b[0;36mparser_f\u001b[0;34m(filepath_or_buffer, sep, delimiter, header, names, index_col, usecols, squeeze, prefix, mangle_dupe_cols, dtype, engine, converters, true_values, false_values, skipinitialspace, skiprows, skipfooter, nrows, na_values, keep_default_na, na_filter, verbose, skip_blank_lines, parse_dates, infer_datetime_format, keep_date_col, date_parser, dayfirst, cache_dates, iterator, chunksize, compression, thousands, decimal, lineterminator, quotechar, quoting, doublequote, escapechar, comment, encoding, dialect, error_bad_lines, warn_bad_lines, delim_whitespace, low_memory, memory_map, float_precision)\u001b[0m\n\u001b[1;32m    683\u001b[0m         )\n\u001b[1;32m    684\u001b[0m \u001b[0;34m\u001b[0m\u001b[0m\n\u001b[0;32m--> 685\u001b[0;31m         \u001b[0;32mreturn\u001b[0m \u001b[0m_read\u001b[0m\u001b[0;34m(\u001b[0m\u001b[0mfilepath_or_buffer\u001b[0m\u001b[0;34m,\u001b[0m \u001b[0mkwds\u001b[0m\u001b[0;34m)\u001b[0m\u001b[0;34m\u001b[0m\u001b[0;34m\u001b[0m\u001b[0m\n\u001b[0m\u001b[1;32m    686\u001b[0m \u001b[0;34m\u001b[0m\u001b[0m\n\u001b[1;32m    687\u001b[0m     \u001b[0mparser_f\u001b[0m\u001b[0;34m.\u001b[0m\u001b[0m__name__\u001b[0m \u001b[0;34m=\u001b[0m \u001b[0mname\u001b[0m\u001b[0;34m\u001b[0m\u001b[0;34m\u001b[0m\u001b[0m\n",
      "\u001b[0;32m~/anaconda3/envs/omsa/lib/python3.7/site-packages/pandas/io/parsers.py\u001b[0m in \u001b[0;36m_read\u001b[0;34m(filepath_or_buffer, kwds)\u001b[0m\n\u001b[1;32m    461\u001b[0m \u001b[0;34m\u001b[0m\u001b[0m\n\u001b[1;32m    462\u001b[0m     \u001b[0;32mtry\u001b[0m\u001b[0;34m:\u001b[0m\u001b[0;34m\u001b[0m\u001b[0;34m\u001b[0m\u001b[0m\n\u001b[0;32m--> 463\u001b[0;31m         \u001b[0mdata\u001b[0m \u001b[0;34m=\u001b[0m \u001b[0mparser\u001b[0m\u001b[0;34m.\u001b[0m\u001b[0mread\u001b[0m\u001b[0;34m(\u001b[0m\u001b[0mnrows\u001b[0m\u001b[0;34m)\u001b[0m\u001b[0;34m\u001b[0m\u001b[0;34m\u001b[0m\u001b[0m\n\u001b[0m\u001b[1;32m    464\u001b[0m     \u001b[0;32mfinally\u001b[0m\u001b[0;34m:\u001b[0m\u001b[0;34m\u001b[0m\u001b[0;34m\u001b[0m\u001b[0m\n\u001b[1;32m    465\u001b[0m         \u001b[0mparser\u001b[0m\u001b[0;34m.\u001b[0m\u001b[0mclose\u001b[0m\u001b[0;34m(\u001b[0m\u001b[0;34m)\u001b[0m\u001b[0;34m\u001b[0m\u001b[0;34m\u001b[0m\u001b[0m\n",
      "\u001b[0;32m~/anaconda3/envs/omsa/lib/python3.7/site-packages/pandas/io/parsers.py\u001b[0m in \u001b[0;36mread\u001b[0;34m(self, nrows)\u001b[0m\n\u001b[1;32m   1152\u001b[0m     \u001b[0;32mdef\u001b[0m \u001b[0mread\u001b[0m\u001b[0;34m(\u001b[0m\u001b[0mself\u001b[0m\u001b[0;34m,\u001b[0m \u001b[0mnrows\u001b[0m\u001b[0;34m=\u001b[0m\u001b[0;32mNone\u001b[0m\u001b[0;34m)\u001b[0m\u001b[0;34m:\u001b[0m\u001b[0;34m\u001b[0m\u001b[0;34m\u001b[0m\u001b[0m\n\u001b[1;32m   1153\u001b[0m         \u001b[0mnrows\u001b[0m \u001b[0;34m=\u001b[0m \u001b[0m_validate_integer\u001b[0m\u001b[0;34m(\u001b[0m\u001b[0;34m\"nrows\"\u001b[0m\u001b[0;34m,\u001b[0m \u001b[0mnrows\u001b[0m\u001b[0;34m)\u001b[0m\u001b[0;34m\u001b[0m\u001b[0;34m\u001b[0m\u001b[0m\n\u001b[0;32m-> 1154\u001b[0;31m         \u001b[0mret\u001b[0m \u001b[0;34m=\u001b[0m \u001b[0mself\u001b[0m\u001b[0;34m.\u001b[0m\u001b[0m_engine\u001b[0m\u001b[0;34m.\u001b[0m\u001b[0mread\u001b[0m\u001b[0;34m(\u001b[0m\u001b[0mnrows\u001b[0m\u001b[0;34m)\u001b[0m\u001b[0;34m\u001b[0m\u001b[0;34m\u001b[0m\u001b[0m\n\u001b[0m\u001b[1;32m   1155\u001b[0m \u001b[0;34m\u001b[0m\u001b[0m\n\u001b[1;32m   1156\u001b[0m         \u001b[0;31m# May alter columns / col_dict\u001b[0m\u001b[0;34m\u001b[0m\u001b[0;34m\u001b[0m\u001b[0;34m\u001b[0m\u001b[0m\n",
      "\u001b[0;32m~/anaconda3/envs/omsa/lib/python3.7/site-packages/pandas/io/parsers.py\u001b[0m in \u001b[0;36mread\u001b[0;34m(self, nrows)\u001b[0m\n\u001b[1;32m   2057\u001b[0m     \u001b[0;32mdef\u001b[0m \u001b[0mread\u001b[0m\u001b[0;34m(\u001b[0m\u001b[0mself\u001b[0m\u001b[0;34m,\u001b[0m \u001b[0mnrows\u001b[0m\u001b[0;34m=\u001b[0m\u001b[0;32mNone\u001b[0m\u001b[0;34m)\u001b[0m\u001b[0;34m:\u001b[0m\u001b[0;34m\u001b[0m\u001b[0;34m\u001b[0m\u001b[0m\n\u001b[1;32m   2058\u001b[0m         \u001b[0;32mtry\u001b[0m\u001b[0;34m:\u001b[0m\u001b[0;34m\u001b[0m\u001b[0;34m\u001b[0m\u001b[0m\n\u001b[0;32m-> 2059\u001b[0;31m             \u001b[0mdata\u001b[0m \u001b[0;34m=\u001b[0m \u001b[0mself\u001b[0m\u001b[0;34m.\u001b[0m\u001b[0m_reader\u001b[0m\u001b[0;34m.\u001b[0m\u001b[0mread\u001b[0m\u001b[0;34m(\u001b[0m\u001b[0mnrows\u001b[0m\u001b[0;34m)\u001b[0m\u001b[0;34m\u001b[0m\u001b[0;34m\u001b[0m\u001b[0m\n\u001b[0m\u001b[1;32m   2060\u001b[0m         \u001b[0;32mexcept\u001b[0m \u001b[0mStopIteration\u001b[0m\u001b[0;34m:\u001b[0m\u001b[0;34m\u001b[0m\u001b[0;34m\u001b[0m\u001b[0m\n\u001b[1;32m   2061\u001b[0m             \u001b[0;32mif\u001b[0m \u001b[0mself\u001b[0m\u001b[0;34m.\u001b[0m\u001b[0m_first_chunk\u001b[0m\u001b[0;34m:\u001b[0m\u001b[0;34m\u001b[0m\u001b[0;34m\u001b[0m\u001b[0m\n",
      "\u001b[0;32mpandas/_libs/parsers.pyx\u001b[0m in \u001b[0;36mpandas._libs.parsers.TextReader.read\u001b[0;34m()\u001b[0m\n",
      "\u001b[0;32mpandas/_libs/parsers.pyx\u001b[0m in \u001b[0;36mpandas._libs.parsers.TextReader._read_low_memory\u001b[0;34m()\u001b[0m\n",
      "\u001b[0;32mpandas/_libs/parsers.pyx\u001b[0m in \u001b[0;36mpandas._libs.parsers.TextReader._read_rows\u001b[0;34m()\u001b[0m\n",
      "\u001b[0;32mpandas/_libs/parsers.pyx\u001b[0m in \u001b[0;36mpandas._libs.parsers.TextReader._tokenize_rows\u001b[0;34m()\u001b[0m\n",
      "\u001b[0;32mpandas/_libs/parsers.pyx\u001b[0m in \u001b[0;36mpandas._libs.parsers.raise_parser_error\u001b[0;34m()\u001b[0m\n",
      "\u001b[0;31mParserError\u001b[0m: Error tokenizing data. C error: Expected 6 fields in line 93, saw 558\n"
     ]
    }
   ],
   "source": [
    "df = pd.read_csv(\n",
    "    \"https://docs.google.com/spreadsheets/d/1avGWWl1J19O_Zm0NGTGy2E-fOG05i4ljRfjl87P7FiA/edit?ts=5e5e9222#gid=0\")\n"
   ]
  },
  {
   "cell_type": "code",
   "execution_count": 1,
   "metadata": {},
   "outputs": [
    {
     "data": {
      "text/plain": [
       "0.3350960359874167"
      ]
     },
     "execution_count": 1,
     "metadata": {},
     "output_type": "execute_result"
    }
   ],
   "source": [
    "import numpy as np\n",
    "\n",
    "np.random.exponential(1/8)"
   ]
  },
  {
   "cell_type": "code",
   "execution_count": 3,
   "metadata": {},
   "outputs": [
    {
     "data": {
      "text/plain": [
       "4.0"
      ]
     },
     "execution_count": 3,
     "metadata": {},
     "output_type": "execute_result"
    }
   ],
   "source": [
    "np.var([-3,-2,-1,0,1,2,3])"
   ]
  },
  {
   "cell_type": "code",
   "execution_count": null,
   "metadata": {},
   "outputs": [],
   "source": [
    "\"\"\" bank07: One Counter,random arrivals \"\"\"\n",
    "from SimPy.Simulation import *\n",
    "from random import expovariate, seed\n",
    "\n",
    "## Model components ------------------------\n",
    "\n",
    "class Source(Process):\n",
    "    \"\"\" Source generates customers randomly \"\"\"\n",
    "\n",
    "    def generate(self,number,meanTBA,resource):     \n",
    "        for i in range(number):\n",
    "            c = Customer(name = \"Customer%02d\"%(i,))\n",
    "            activate(c,c.visit(timeInBank=12.0,\n",
    "                               res=resource))          \n",
    "            t = expovariate(1.0/meanTBA)\n",
    "            yield hold,self,t\n",
    "\n",
    "class Customer(Process):\n",
    "    \"\"\" Customer arrives, is served and  leaves \"\"\"\n",
    "        \n",
    "    def visit(self,timeInBank,res):       \n",
    "        arrive = now()       # arrival time        \n",
    "        print \"%8.3f %s: Here I am     \"%(now(),self.name)\n",
    "\n",
    "        yield request,self,res                       \n",
    "        wait = now()-arrive  # waiting time        \n",
    "        print \"%8.3f %s: Waited %6.3f\"%(now(),self.name,wait)\n",
    "        yield hold,self,timeInBank               \n",
    "        yield release,self,res                     \n",
    "        \n",
    "        print \"%8.3f %s: Finished      \"%(now(),self.name)\n",
    "\n",
    "## Experiment data -------------------------\n",
    "\n",
    "maxNumber = 5                                      \n",
    "maxTime = 400.0  # minutes                                \n",
    "ARRint = 10.0    # mean, minutes\n",
    "k = Resource(name=\"Counter\",unitName=\"Clerk\")     \n",
    "\n",
    "## Model/Experiment ------------------------------\n",
    "seed(99999)\n",
    "initialize()\n",
    "s = Source('Source')\n",
    "activate(s,s.generate(number=maxNumber,            \n",
    "                      meanTBA=ARRint, resource=k),at=0.0)        \n",
    "simulate(until=maxTime)"
   ]
  },
  {
   "cell_type": "code",
   "execution_count": 5,
   "metadata": {},
   "outputs": [],
   "source": [
    "import random\n",
    "import urllib.request\n",
    "def download_web_image(url):\n",
    "    name = random.randrange(1, 1000)\n",
    "    full_name = str(name) + \".jpg\"\n",
    "    urllib.request.urlretrieve(url, full_name)\n",
    "download_web_image(\"https://avatars2.githubusercontent.com/u/8547538?s=460&u=8a4be84ff4870a332fe94c11fca02b432fb9f83e&v=4\") "
   ]
  },
  {
   "cell_type": "code",
   "execution_count": 25,
   "metadata": {},
   "outputs": [],
   "source": [
    "import pandas as pd\n",
    "index = pd.date_range('2013-08-14 22:15:00', periods=1000, freq='S')\n",
    "df = pd.DataFrame(data=range(1000), index=index)\n",
    "loffset='1H1S'"
   ]
  },
  {
   "cell_type": "code",
   "execution_count": 30,
   "metadata": {},
   "outputs": [
    {
     "data": {
      "text/html": [
       "<div>\n",
       "<style scoped>\n",
       "    .dataframe tbody tr th:only-of-type {\n",
       "        vertical-align: middle;\n",
       "    }\n",
       "\n",
       "    .dataframe tbody tr th {\n",
       "        vertical-align: top;\n",
       "    }\n",
       "\n",
       "    .dataframe thead th {\n",
       "        text-align: right;\n",
       "    }\n",
       "</style>\n",
       "<table border=\"1\" class=\"dataframe\">\n",
       "  <thead>\n",
       "    <tr style=\"text-align: right;\">\n",
       "      <th></th>\n",
       "      <th>0</th>\n",
       "    </tr>\n",
       "  </thead>\n",
       "  <tbody>\n",
       "    <tr>\n",
       "      <th>2013-08-14 22:15:00</th>\n",
       "      <td>149.5</td>\n",
       "    </tr>\n",
       "    <tr>\n",
       "      <th>2013-08-14 22:25:00</th>\n",
       "      <td>599.5</td>\n",
       "    </tr>\n",
       "    <tr>\n",
       "      <th>2013-08-14 22:35:00</th>\n",
       "      <td>949.5</td>\n",
       "    </tr>\n",
       "  </tbody>\n",
       "</table>\n",
       "</div>"
      ],
      "text/plain": [
       "                         0\n",
       "2013-08-14 22:15:00  149.5\n",
       "2013-08-14 22:25:00  599.5\n",
       "2013-08-14 22:35:00  949.5"
      ]
     },
     "execution_count": 30,
     "metadata": {},
     "output_type": "execute_result"
    }
   ],
   "source": [
    "df.resample('10Min',loffset='5min').mean()"
   ]
  },
  {
   "cell_type": "code",
   "execution_count": 31,
   "metadata": {},
   "outputs": [],
   "source": [
    "d= {\"type\":\"LineString\",\"coordinates\":[[77.29,29.07],[77.42,29.26],[77.27,29.31],[77.29,29.07]]}"
   ]
  },
  {
   "cell_type": "code",
   "execution_count": 35,
   "metadata": {},
   "outputs": [],
   "source": [
    "d= {\"type\":\"LineString\",\"coordinates\":[[77.29,29.07],[77.42,29.26],[77.27,29.31],[77.29,29.07]]}\n",
    "def coords_to_dict(coords):\n",
    "    new_coords = []\n",
    "    for c in coords:\n",
    "        x,y = c\n",
    "        new_coords.append({\"x\":x, \"y\":y})\n",
    "        \n",
    "    return new_coords\n",
    "new_coords =coords_to_dict(d[\"coordinates\"])\n",
    "d[\"coordinates\"] = new_coords\n",
    "        "
   ]
  },
  {
   "cell_type": "code",
   "execution_count": 36,
   "metadata": {},
   "outputs": [
    {
     "data": {
      "text/plain": [
       "{'type': 'LineString',\n",
       " 'coordinates': [{'x': 77.29, 'y': 29.07},\n",
       "  {'x': 77.42, 'y': 29.26},\n",
       "  {'x': 77.27, 'y': 29.31},\n",
       "  {'x': 77.29, 'y': 29.07}]}"
      ]
     },
     "execution_count": 36,
     "metadata": {},
     "output_type": "execute_result"
    }
   ],
   "source": [
    "d"
   ]
  }
 ],
 "metadata": {
  "kernelspec": {
   "display_name": "omsa",
   "language": "python",
   "name": "omsa"
  },
  "language_info": {
   "codemirror_mode": {
    "name": "ipython",
    "version": 3
   },
   "file_extension": ".py",
   "mimetype": "text/x-python",
   "name": "python",
   "nbconvert_exporter": "python",
   "pygments_lexer": "ipython3",
   "version": "3.7.6"
  }
 },
 "nbformat": 4,
 "nbformat_minor": 2
}

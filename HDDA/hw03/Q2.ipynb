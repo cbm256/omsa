{
 "cells": [
  {
   "cell_type": "code",
   "execution_count": 2,
   "metadata": {},
   "outputs": [],
   "source": [
    "import tensorly\n",
    "import numpy as np"
   ]
  },
  {
   "cell_type": "code",
   "execution_count": 35,
   "metadata": {},
   "outputs": [],
   "source": [
    "ab = np.array([1,2,3,4]).reshape(2,2)\n",
    "ac = np.array([5,6,7,8]).reshape(2,2)\n",
    "cdd = np.array([6,4,16,10]).reshape(2,2)\n",
    "y = np.array([1,2,3,4]).reshape(4,1)"
   ]
  },
  {
   "cell_type": "markdown",
   "metadata": {},
   "source": [
    "Given:\n",
    "$$\\hat{\\beta} = argmin_{\\beta}||y-\\{[(A \\otimes C)^T *(B^T \\otimes A^T)][(B \\odot C)*(A \\odot D) + A*B \\odot D]\\}\\beta||^2_2$$\n",
    "\n",
    "Reduces to:\n",
    "$$\\hat{\\beta} = argmin_{\\beta}||y-\\{[(A*B) \\otimes (A*C)]^T[A*B \\odot ((C*D)+D)]\\beta||^2_2$$\n"
   ]
  },
  {
   "cell_type": "code",
   "execution_count": 20,
   "metadata": {},
   "outputs": [],
   "source": [
    "first_bracket = tensorly.tenalg.kronecker([ab,ac]).T\n",
    "second_bracket = tensorly.tenalg.khatri_rao([ab,cdd])\n",
    "m = np.dot(first_bracket, second_bracket)"
   ]
  },
  {
   "cell_type": "code",
   "execution_count": 66,
   "metadata": {},
   "outputs": [
    {
     "data": {
      "text/plain": [
       "array([[-0.0309884 ],\n",
       "       [ 0.03603101]])"
      ]
     },
     "execution_count": 66,
     "metadata": {},
     "output_type": "execute_result"
    }
   ],
   "source": [
    "# beta\n",
    "np.linalg.lstsq(m, y, rcond=None)[0]"
   ]
  }
 ],
 "metadata": {
  "kernelspec": {
   "display_name": "omsa",
   "language": "python",
   "name": "omsa"
  },
  "language_info": {
   "codemirror_mode": {
    "name": "ipython",
    "version": 3
   },
   "file_extension": ".py",
   "mimetype": "text/x-python",
   "name": "python",
   "nbconvert_exporter": "python",
   "pygments_lexer": "ipython3",
   "version": "3.7.6"
  }
 },
 "nbformat": 4,
 "nbformat_minor": 2
}

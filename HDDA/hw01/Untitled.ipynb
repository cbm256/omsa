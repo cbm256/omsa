{
 "cells": [
  {
   "cell_type": "code",
   "execution_count": 15,
   "metadata": {},
   "outputs": [
    {
     "data": {
      "text/plain": [
       "'(x - 2 )/ (2) * B2,1 + (5 - x ) / (2) * B3,1'"
      ]
     },
     "execution_count": 15,
     "metadata": {},
     "output_type": "execute_result"
    }
   ],
   "source": [
    "def spline(i,j):\n",
    "    tau = [0,1,2,3,4,5,6,7]\n",
    "    p1 = f\"(x - {tau[i]} )/ ({tau[i+j]-tau[i]}) * B{i},{j-1}\"\n",
    "    p2 = f\"({tau[i+j+1]} - x ) / ({tau[i+j+1] - tau[i+1]}) * B{i+1},{j-1}\"\n",
    "    return ' + '.join([p1, p2])\n",
    "\n",
    "spline(2,2)\n",
    "                    \n",
    "\n"
   ]
  },
  {
   "cell_type": "code",
   "execution_count": null,
   "metadata": {},
   "outputs": [],
   "source": []
  }
 ],
 "metadata": {
  "kernelspec": {
   "display_name": "omsa",
   "language": "python",
   "name": "omsa"
  },
  "language_info": {
   "codemirror_mode": {
    "name": "ipython",
    "version": 3
   },
   "file_extension": ".py",
   "mimetype": "text/x-python",
   "name": "python",
   "nbconvert_exporter": "python",
   "pygments_lexer": "ipython3",
   "version": "3.7.6"
  }
 },
 "nbformat": 4,
 "nbformat_minor": 2
}

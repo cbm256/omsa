{
 "cells": [
  {
   "cell_type": "code",
   "execution_count": 1,
   "metadata": {},
   "outputs": [],
   "source": [
    "import pandas as pd\n",
    "from sklearn.linear_model import LogisticRegression\n",
    "from sklearn.linear_model import LogisticRegressionCV\n",
    "import matplotlib.pyplot as plt\n",
    "from sklearn.metrics import plot_confusion_matrix"
   ]
  },
  {
   "cell_type": "code",
   "execution_count": 2,
   "metadata": {},
   "outputs": [],
   "source": [
    "training = pd.read_csv(\"Q1_training.csv\")\n",
    "testing = pd.read_csv(\"Q1_testing.csv\")"
   ]
  },
  {
   "cell_type": "code",
   "execution_count": 3,
   "metadata": {},
   "outputs": [
    {
     "data": {
      "text/html": [
       "<div>\n",
       "<style scoped>\n",
       "    .dataframe tbody tr th:only-of-type {\n",
       "        vertical-align: middle;\n",
       "    }\n",
       "\n",
       "    .dataframe tbody tr th {\n",
       "        vertical-align: top;\n",
       "    }\n",
       "\n",
       "    .dataframe thead th {\n",
       "        text-align: right;\n",
       "    }\n",
       "</style>\n",
       "<table border=\"1\" class=\"dataframe\">\n",
       "  <thead>\n",
       "    <tr style=\"text-align: right;\">\n",
       "      <th></th>\n",
       "      <th>class</th>\n",
       "      <th>b1</th>\n",
       "      <th>b2</th>\n",
       "      <th>b3</th>\n",
       "      <th>b4</th>\n",
       "      <th>b5</th>\n",
       "      <th>b6</th>\n",
       "      <th>b7</th>\n",
       "      <th>b8</th>\n",
       "      <th>b9</th>\n",
       "      <th>...</th>\n",
       "      <th>pred_minus_obs_H_b9</th>\n",
       "      <th>pred_minus_obs_S_b1</th>\n",
       "      <th>pred_minus_obs_S_b2</th>\n",
       "      <th>pred_minus_obs_S_b3</th>\n",
       "      <th>pred_minus_obs_S_b4</th>\n",
       "      <th>pred_minus_obs_S_b5</th>\n",
       "      <th>pred_minus_obs_S_b6</th>\n",
       "      <th>pred_minus_obs_S_b7</th>\n",
       "      <th>pred_minus_obs_S_b8</th>\n",
       "      <th>pred_minus_obs_S_b9</th>\n",
       "    </tr>\n",
       "  </thead>\n",
       "  <tbody>\n",
       "    <tr>\n",
       "      <th>0</th>\n",
       "      <td>d</td>\n",
       "      <td>67</td>\n",
       "      <td>51</td>\n",
       "      <td>68</td>\n",
       "      <td>115</td>\n",
       "      <td>69</td>\n",
       "      <td>111</td>\n",
       "      <td>136</td>\n",
       "      <td>31</td>\n",
       "      <td>67</td>\n",
       "      <td>...</td>\n",
       "      <td>-9.17</td>\n",
       "      <td>-18.27</td>\n",
       "      <td>-1.80</td>\n",
       "      <td>-6.32</td>\n",
       "      <td>-20.88</td>\n",
       "      <td>-1.63</td>\n",
       "      <td>-6.13</td>\n",
       "      <td>-22.56</td>\n",
       "      <td>-5.53</td>\n",
       "      <td>-8.11</td>\n",
       "    </tr>\n",
       "    <tr>\n",
       "      <th>1</th>\n",
       "      <td>s</td>\n",
       "      <td>67</td>\n",
       "      <td>28</td>\n",
       "      <td>51</td>\n",
       "      <td>99</td>\n",
       "      <td>50</td>\n",
       "      <td>97</td>\n",
       "      <td>82</td>\n",
       "      <td>26</td>\n",
       "      <td>59</td>\n",
       "      <td>...</td>\n",
       "      <td>-2.25</td>\n",
       "      <td>-20.13</td>\n",
       "      <td>-2.11</td>\n",
       "      <td>-6.35</td>\n",
       "      <td>-21.94</td>\n",
       "      <td>-1.22</td>\n",
       "      <td>-6.13</td>\n",
       "      <td>-22.20</td>\n",
       "      <td>-3.41</td>\n",
       "      <td>-6.57</td>\n",
       "    </tr>\n",
       "    <tr>\n",
       "      <th>2</th>\n",
       "      <td>s</td>\n",
       "      <td>63</td>\n",
       "      <td>26</td>\n",
       "      <td>50</td>\n",
       "      <td>95</td>\n",
       "      <td>49</td>\n",
       "      <td>91</td>\n",
       "      <td>81</td>\n",
       "      <td>26</td>\n",
       "      <td>57</td>\n",
       "      <td>...</td>\n",
       "      <td>-0.44</td>\n",
       "      <td>-17.64</td>\n",
       "      <td>-1.81</td>\n",
       "      <td>-4.70</td>\n",
       "      <td>-19.39</td>\n",
       "      <td>-0.65</td>\n",
       "      <td>-5.01</td>\n",
       "      <td>-20.89</td>\n",
       "      <td>-3.96</td>\n",
       "      <td>-6.85</td>\n",
       "    </tr>\n",
       "    <tr>\n",
       "      <th>3</th>\n",
       "      <td>d</td>\n",
       "      <td>63</td>\n",
       "      <td>42</td>\n",
       "      <td>63</td>\n",
       "      <td>97</td>\n",
       "      <td>66</td>\n",
       "      <td>108</td>\n",
       "      <td>111</td>\n",
       "      <td>28</td>\n",
       "      <td>59</td>\n",
       "      <td>...</td>\n",
       "      <td>-2.34</td>\n",
       "      <td>-20.20</td>\n",
       "      <td>-1.89</td>\n",
       "      <td>-5.47</td>\n",
       "      <td>-21.65</td>\n",
       "      <td>-0.99</td>\n",
       "      <td>-5.71</td>\n",
       "      <td>-22.19</td>\n",
       "      <td>-3.41</td>\n",
       "      <td>-6.52</td>\n",
       "    </tr>\n",
       "    <tr>\n",
       "      <th>4</th>\n",
       "      <td>s</td>\n",
       "      <td>46</td>\n",
       "      <td>27</td>\n",
       "      <td>50</td>\n",
       "      <td>83</td>\n",
       "      <td>51</td>\n",
       "      <td>90</td>\n",
       "      <td>76</td>\n",
       "      <td>26</td>\n",
       "      <td>56</td>\n",
       "      <td>...</td>\n",
       "      <td>1.25</td>\n",
       "      <td>-18.62</td>\n",
       "      <td>-2.17</td>\n",
       "      <td>-7.11</td>\n",
       "      <td>-21.12</td>\n",
       "      <td>-1.56</td>\n",
       "      <td>-6.35</td>\n",
       "      <td>-22.19</td>\n",
       "      <td>-4.45</td>\n",
       "      <td>-7.32</td>\n",
       "    </tr>\n",
       "  </tbody>\n",
       "</table>\n",
       "<p>5 rows × 28 columns</p>\n",
       "</div>"
      ],
      "text/plain": [
       "  class  b1  b2  b3   b4  b5   b6   b7  b8  b9  ...  pred_minus_obs_H_b9  \\\n",
       "0    d   67  51  68  115  69  111  136  31  67  ...                -9.17   \n",
       "1    s   67  28  51   99  50   97   82  26  59  ...                -2.25   \n",
       "2    s   63  26  50   95  49   91   81  26  57  ...                -0.44   \n",
       "3    d   63  42  63   97  66  108  111  28  59  ...                -2.34   \n",
       "4    s   46  27  50   83  51   90   76  26  56  ...                 1.25   \n",
       "\n",
       "   pred_minus_obs_S_b1  pred_minus_obs_S_b2  pred_minus_obs_S_b3  \\\n",
       "0               -18.27                -1.80                -6.32   \n",
       "1               -20.13                -2.11                -6.35   \n",
       "2               -17.64                -1.81                -4.70   \n",
       "3               -20.20                -1.89                -5.47   \n",
       "4               -18.62                -2.17                -7.11   \n",
       "\n",
       "   pred_minus_obs_S_b4  pred_minus_obs_S_b5  pred_minus_obs_S_b6  \\\n",
       "0               -20.88                -1.63                -6.13   \n",
       "1               -21.94                -1.22                -6.13   \n",
       "2               -19.39                -0.65                -5.01   \n",
       "3               -21.65                -0.99                -5.71   \n",
       "4               -21.12                -1.56                -6.35   \n",
       "\n",
       "   pred_minus_obs_S_b7  pred_minus_obs_S_b8  pred_minus_obs_S_b9  \n",
       "0               -22.56                -5.53                -8.11  \n",
       "1               -22.20                -3.41                -6.57  \n",
       "2               -20.89                -3.96                -6.85  \n",
       "3               -22.19                -3.41                -6.52  \n",
       "4               -22.19                -4.45                -7.32  \n",
       "\n",
       "[5 rows x 28 columns]"
      ]
     },
     "execution_count": 3,
     "metadata": {},
     "output_type": "execute_result"
    }
   ],
   "source": [
    "training.head()"
   ]
  },
  {
   "cell_type": "code",
   "execution_count": 4,
   "metadata": {},
   "outputs": [],
   "source": [
    "class_dict = {c:i for c,i in zip(training[\"class\"].unique(), [0,1,2,3])}\n",
    "training.insert(0,\"classes\",training[\"class\"].apply(lambda x: class_dict[x]))\n",
    "testing.insert(0,\"classes\",testing[\"class\"].apply(lambda x: class_dict[x]))"
   ]
  },
  {
   "cell_type": "code",
   "execution_count": 5,
   "metadata": {},
   "outputs": [
    {
     "data": {
      "text/html": [
       "<div>\n",
       "<style scoped>\n",
       "    .dataframe tbody tr th:only-of-type {\n",
       "        vertical-align: middle;\n",
       "    }\n",
       "\n",
       "    .dataframe tbody tr th {\n",
       "        vertical-align: top;\n",
       "    }\n",
       "\n",
       "    .dataframe thead th {\n",
       "        text-align: right;\n",
       "    }\n",
       "</style>\n",
       "<table border=\"1\" class=\"dataframe\">\n",
       "  <thead>\n",
       "    <tr style=\"text-align: right;\">\n",
       "      <th></th>\n",
       "      <th>classes</th>\n",
       "      <th>class</th>\n",
       "      <th>b1</th>\n",
       "      <th>b2</th>\n",
       "      <th>b3</th>\n",
       "      <th>b4</th>\n",
       "      <th>b5</th>\n",
       "      <th>b6</th>\n",
       "      <th>b7</th>\n",
       "      <th>b8</th>\n",
       "      <th>...</th>\n",
       "      <th>pred_minus_obs_H_b9</th>\n",
       "      <th>pred_minus_obs_S_b1</th>\n",
       "      <th>pred_minus_obs_S_b2</th>\n",
       "      <th>pred_minus_obs_S_b3</th>\n",
       "      <th>pred_minus_obs_S_b4</th>\n",
       "      <th>pred_minus_obs_S_b5</th>\n",
       "      <th>pred_minus_obs_S_b6</th>\n",
       "      <th>pred_minus_obs_S_b7</th>\n",
       "      <th>pred_minus_obs_S_b8</th>\n",
       "      <th>pred_minus_obs_S_b9</th>\n",
       "    </tr>\n",
       "  </thead>\n",
       "  <tbody>\n",
       "    <tr>\n",
       "      <th>0</th>\n",
       "      <td>0</td>\n",
       "      <td>d</td>\n",
       "      <td>67</td>\n",
       "      <td>51</td>\n",
       "      <td>68</td>\n",
       "      <td>115</td>\n",
       "      <td>69</td>\n",
       "      <td>111</td>\n",
       "      <td>136</td>\n",
       "      <td>31</td>\n",
       "      <td>...</td>\n",
       "      <td>-9.17</td>\n",
       "      <td>-18.27</td>\n",
       "      <td>-1.80</td>\n",
       "      <td>-6.32</td>\n",
       "      <td>-20.88</td>\n",
       "      <td>-1.63</td>\n",
       "      <td>-6.13</td>\n",
       "      <td>-22.56</td>\n",
       "      <td>-5.53</td>\n",
       "      <td>-8.11</td>\n",
       "    </tr>\n",
       "    <tr>\n",
       "      <th>1</th>\n",
       "      <td>1</td>\n",
       "      <td>s</td>\n",
       "      <td>67</td>\n",
       "      <td>28</td>\n",
       "      <td>51</td>\n",
       "      <td>99</td>\n",
       "      <td>50</td>\n",
       "      <td>97</td>\n",
       "      <td>82</td>\n",
       "      <td>26</td>\n",
       "      <td>...</td>\n",
       "      <td>-2.25</td>\n",
       "      <td>-20.13</td>\n",
       "      <td>-2.11</td>\n",
       "      <td>-6.35</td>\n",
       "      <td>-21.94</td>\n",
       "      <td>-1.22</td>\n",
       "      <td>-6.13</td>\n",
       "      <td>-22.20</td>\n",
       "      <td>-3.41</td>\n",
       "      <td>-6.57</td>\n",
       "    </tr>\n",
       "    <tr>\n",
       "      <th>2</th>\n",
       "      <td>1</td>\n",
       "      <td>s</td>\n",
       "      <td>63</td>\n",
       "      <td>26</td>\n",
       "      <td>50</td>\n",
       "      <td>95</td>\n",
       "      <td>49</td>\n",
       "      <td>91</td>\n",
       "      <td>81</td>\n",
       "      <td>26</td>\n",
       "      <td>...</td>\n",
       "      <td>-0.44</td>\n",
       "      <td>-17.64</td>\n",
       "      <td>-1.81</td>\n",
       "      <td>-4.70</td>\n",
       "      <td>-19.39</td>\n",
       "      <td>-0.65</td>\n",
       "      <td>-5.01</td>\n",
       "      <td>-20.89</td>\n",
       "      <td>-3.96</td>\n",
       "      <td>-6.85</td>\n",
       "    </tr>\n",
       "    <tr>\n",
       "      <th>3</th>\n",
       "      <td>0</td>\n",
       "      <td>d</td>\n",
       "      <td>63</td>\n",
       "      <td>42</td>\n",
       "      <td>63</td>\n",
       "      <td>97</td>\n",
       "      <td>66</td>\n",
       "      <td>108</td>\n",
       "      <td>111</td>\n",
       "      <td>28</td>\n",
       "      <td>...</td>\n",
       "      <td>-2.34</td>\n",
       "      <td>-20.20</td>\n",
       "      <td>-1.89</td>\n",
       "      <td>-5.47</td>\n",
       "      <td>-21.65</td>\n",
       "      <td>-0.99</td>\n",
       "      <td>-5.71</td>\n",
       "      <td>-22.19</td>\n",
       "      <td>-3.41</td>\n",
       "      <td>-6.52</td>\n",
       "    </tr>\n",
       "    <tr>\n",
       "      <th>4</th>\n",
       "      <td>1</td>\n",
       "      <td>s</td>\n",
       "      <td>46</td>\n",
       "      <td>27</td>\n",
       "      <td>50</td>\n",
       "      <td>83</td>\n",
       "      <td>51</td>\n",
       "      <td>90</td>\n",
       "      <td>76</td>\n",
       "      <td>26</td>\n",
       "      <td>...</td>\n",
       "      <td>1.25</td>\n",
       "      <td>-18.62</td>\n",
       "      <td>-2.17</td>\n",
       "      <td>-7.11</td>\n",
       "      <td>-21.12</td>\n",
       "      <td>-1.56</td>\n",
       "      <td>-6.35</td>\n",
       "      <td>-22.19</td>\n",
       "      <td>-4.45</td>\n",
       "      <td>-7.32</td>\n",
       "    </tr>\n",
       "  </tbody>\n",
       "</table>\n",
       "<p>5 rows × 29 columns</p>\n",
       "</div>"
      ],
      "text/plain": [
       "   classes class  b1  b2  b3   b4  b5   b6   b7  b8  ...  pred_minus_obs_H_b9  \\\n",
       "0        0    d   67  51  68  115  69  111  136  31  ...                -9.17   \n",
       "1        1    s   67  28  51   99  50   97   82  26  ...                -2.25   \n",
       "2        1    s   63  26  50   95  49   91   81  26  ...                -0.44   \n",
       "3        0    d   63  42  63   97  66  108  111  28  ...                -2.34   \n",
       "4        1    s   46  27  50   83  51   90   76  26  ...                 1.25   \n",
       "\n",
       "   pred_minus_obs_S_b1  pred_minus_obs_S_b2  pred_minus_obs_S_b3  \\\n",
       "0               -18.27                -1.80                -6.32   \n",
       "1               -20.13                -2.11                -6.35   \n",
       "2               -17.64                -1.81                -4.70   \n",
       "3               -20.20                -1.89                -5.47   \n",
       "4               -18.62                -2.17                -7.11   \n",
       "\n",
       "   pred_minus_obs_S_b4  pred_minus_obs_S_b5  pred_minus_obs_S_b6  \\\n",
       "0               -20.88                -1.63                -6.13   \n",
       "1               -21.94                -1.22                -6.13   \n",
       "2               -19.39                -0.65                -5.01   \n",
       "3               -21.65                -0.99                -5.71   \n",
       "4               -21.12                -1.56                -6.35   \n",
       "\n",
       "   pred_minus_obs_S_b7  pred_minus_obs_S_b8  pred_minus_obs_S_b9  \n",
       "0               -22.56                -5.53                -8.11  \n",
       "1               -22.20                -3.41                -6.57  \n",
       "2               -20.89                -3.96                -6.85  \n",
       "3               -22.19                -3.41                -6.52  \n",
       "4               -22.19                -4.45                -7.32  \n",
       "\n",
       "[5 rows x 29 columns]"
      ]
     },
     "execution_count": 5,
     "metadata": {},
     "output_type": "execute_result"
    }
   ],
   "source": [
    "training.head()"
   ]
  },
  {
   "cell_type": "code",
   "execution_count": 6,
   "metadata": {},
   "outputs": [
    {
     "name": "stderr",
     "output_type": "stream",
     "text": [
      "/home/jfftilton/anaconda3/envs/omsa/lib/python3.7/site-packages/sklearn/linear_model/_logistic.py:940: ConvergenceWarning: lbfgs failed to converge (status=1):\n",
      "STOP: TOTAL NO. of f AND g EVALUATIONS EXCEEDS LIMIT.\n",
      "\n",
      "Increase the number of iterations (max_iter) or scale the data as shown in:\n",
      "    https://scikit-learn.org/stable/modules/preprocessing.html\n",
      "Please also refer to the documentation for alternative solver options:\n",
      "    https://scikit-learn.org/stable/modules/linear_model.html#logistic-regression\n",
      "  extra_warning_msg=_LOGISTIC_SOLVER_CONVERGENCE_MSG)\n"
     ]
    },
    {
     "data": {
      "text/plain": [
       "array([[ -0.28051696,  -0.85277484,   0.06337875,  -0.14934503,\n",
       "         -1.23175168,   2.39206239,   0.14915056,   3.93307977,\n",
       "         -2.82871046,   0.04329405,  -1.10810436,  -0.10430914,\n",
       "         -0.2301919 ,  -1.48260569,   2.55370003,   0.10102918,\n",
       "          3.71069195,  -2.7740489 ,   0.10206612,  -0.06089419,\n",
       "         -0.90867469,   0.05401552,   1.82785082,   2.12926148,\n",
       "         -0.43193217,   0.2939114 ,   0.13838855],\n",
       "       [  1.08576311,   1.67000106,  -0.75492195,   0.01767604,\n",
       "        -10.61890112,   5.90023925,  -0.90873822,   4.66018068,\n",
       "         -4.694565  ,   0.90915217,   1.5440645 ,  -0.59242371,\n",
       "          0.23191684, -10.49438818,   6.0348609 ,  -0.85228175,\n",
       "          4.31523286,  -4.64157956,   0.21467943,   1.69805909,\n",
       "         -0.59302252,   0.17584597,  -2.02959418,   1.39032212,\n",
       "          0.06180502,  -0.28026781,   0.48743599],\n",
       "       [ -0.44069626,   0.16336853,   0.28947182,   0.4980106 ,\n",
       "          3.82047608,  -4.56836969,   0.02813109,  -9.43003668,\n",
       "          7.32478565,  -0.77069476,   1.05278947,   0.17713198,\n",
       "          0.42684414,   4.11955403,  -4.87286842,  -0.10836999,\n",
       "         -8.37611356,   7.49238929,  -0.96045107,  -2.92685998,\n",
       "          1.89454175,   0.5610923 ,  -4.13587701,  -1.98428819,\n",
       "         -0.04999557,  -2.91490888,   3.43591196],\n",
       "       [ -0.36454989,  -0.98059475,   0.40207138,  -0.36634161,\n",
       "          8.03017673,  -3.72393195,   0.73145657,   0.83677622,\n",
       "          0.19848981,  -0.18175146,  -1.48874961,   0.51960087,\n",
       "         -0.42856908,   7.85743985,  -3.7156925 ,   0.85962256,\n",
       "          0.35018875,  -0.07676082,   0.64370552,   1.28969508,\n",
       "         -0.39284453,  -0.79095379,   4.33762037,  -1.53529542,\n",
       "          0.42012272,   2.90126529,  -4.0617365 ]])"
      ]
     },
     "execution_count": 6,
     "metadata": {},
     "output_type": "execute_result"
    }
   ],
   "source": [
    "clf = LogisticRegression(penalty=\"none\", random_state=0, max_iter=45000).fit(training.iloc[:,2:], training[\"classes\"])\n",
    "predicted = clf.predict_proba(testing.iloc[:,2:]).argmax(axis = 1)\n",
    "# coefficients\n",
    "clf.coef_"
   ]
  },
  {
   "cell_type": "code",
   "execution_count": 7,
   "metadata": {},
   "outputs": [
    {
     "data": {
      "text/plain": [
       "Text(0.5, 1.0, 'Logistic Regression')"
      ]
     },
     "execution_count": 7,
     "metadata": {},
     "output_type": "execute_result"
    },
    {
     "data": {
      "image/png": "[encoded data removed]",
      "text/plain": [
       "<Figure size 432x288 with 2 Axes>"
      ]
     },
     "metadata": {
      "needs_background": "light"
     },
     "output_type": "display_data"
    }
   ],
   "source": [
    "disp = plot_confusion_matrix(clf, testing.iloc[:,2:], testing[\"classes\"],\n",
    "                                 display_labels=class_dict.keys(),\n",
    "                                 cmap=plt.cm.Blues)\n",
    "disp.ax_.set_title(\"Logistic Regression\")"
   ]
  },
  {
   "cell_type": "code",
   "execution_count": 8,
   "metadata": {},
   "outputs": [
    {
     "data": {
      "text/plain": [
       "array([[-0.12678211,  0.06730095, -0.00222237,  0.01892476,  0.0541378 ,\n",
       "         0.02060145,  0.0366058 ,  0.0691596 , -0.03472624,  0.07174226,\n",
       "        -0.09867139, -0.08703979, -0.02109612, -0.01948618,  0.06955286,\n",
       "        -0.01772771, -0.03569067,  0.0800899 , -0.0616762 , -0.12761693,\n",
       "        -0.07780093,  0.07788041,  0.03041301,  0.02456876,  0.00948133,\n",
       "         0.00195885,  0.00468326],\n",
       "       [ 0.12213829,  0.03371129,  0.07511084, -0.08064668, -0.02017092,\n",
       "         0.03341802, -0.07773279,  0.00987861, -0.04959571,  0.01726161,\n",
       "         0.08849285,  0.20817988,  0.00767254,  0.04798529,  0.07628861,\n",
       "        -0.05901965, -0.09740048, -0.0399133 ,  0.1046774 ,  0.05270369,\n",
       "         0.09764397, -0.0853198 ,  0.01415838,  0.02126238,  0.07013027,\n",
       "         0.04960851,  0.03653592],\n",
       "       [ 0.12600633, -0.1818378 , -0.04705224,  0.06714677, -0.06440956,\n",
       "        -0.03526161,  0.06500854, -0.13397314, -0.01669463, -0.08513967,\n",
       "         0.1357273 , -0.07582701,  0.00423336,  0.02370085, -0.10183274,\n",
       "         0.05306025,  0.18772203,  0.0802469 , -0.15084634,  0.00464225,\n",
       "        -0.03470647,  0.06012587, -0.02252314,  0.00116947,  0.02333555,\n",
       "         0.02536443,  0.05816871],\n",
       "       [-0.1213625 ,  0.08082555, -0.02583623, -0.00542485,  0.03044269,\n",
       "        -0.01875786, -0.02388156,  0.05493493,  0.10101657, -0.00386419,\n",
       "        -0.12554876, -0.04531308,  0.00919022, -0.05219996, -0.04400872,\n",
       "         0.02368711, -0.05463088, -0.1204235 ,  0.10784514,  0.07027099,\n",
       "         0.01486343, -0.05268649, -0.02204825, -0.04700061, -0.10294715,\n",
       "        -0.07693178, -0.0993879 ]])"
      ]
     },
     "execution_count": 8,
     "metadata": {},
     "output_type": "execute_result"
    }
   ],
   "source": [
    "# ridge l2 regularization\n",
    "clf = LogisticRegressionCV(solver=\"saga\", penalty=\"l2\", random_state=0, max_iter=45000, n_jobs=-1).fit(training.iloc[:,2:], training[\"classes\"])\n",
    "predicted = clf.predict_proba(testing.iloc[:,2:]).argmax(axis = 1)\n",
    "# coefficients\n",
    "clf.coef_"
   ]
  },
  {
   "cell_type": "code",
   "execution_count": 9,
   "metadata": {},
   "outputs": [
    {
     "data": {
      "text/plain": [
       "array([0.04641589, 0.04641589, 0.04641589, 0.04641589])"
      ]
     },
     "execution_count": 9,
     "metadata": {},
     "output_type": "execute_result"
    }
   ],
   "source": [
    "# optimal tuning parameter\n",
    "clf.C_"
   ]
  },
  {
   "cell_type": "code",
   "execution_count": 10,
   "metadata": {},
   "outputs": [
    {
     "data": {
      "text/plain": [
       "Text(0.5, 1.0, 'Logistic Regression')"
      ]
     },
     "execution_count": 10,
     "metadata": {},
     "output_type": "execute_result"
    },
    {
     "data": {
      "image/png": "[encoded data removed]",
      "text/plain": [
       "<Figure size 432x288 with 2 Axes>"
      ]
     },
     "metadata": {
      "needs_background": "light"
     },
     "output_type": "display_data"
    }
   ],
   "source": [
    "disp = plot_confusion_matrix(clf, testing.iloc[:,2:], testing[\"classes\"],\n",
    "                                 display_labels=class_dict.keys(),\n",
    "                                 cmap=plt.cm.Blues)\n",
    "disp.ax_.set_title(\"Logistic Regression\")"
   ]
  },
  {
   "cell_type": "code",
   "execution_count": 11,
   "metadata": {},
   "outputs": [
    {
     "data": {
      "text/plain": [
       "array([[-0.12258709,  0.00652285,  0.        ,  0.01059801,  0.03737933,\n",
       "         0.        ,  0.04696138,  0.00614207,  0.        ,  0.07183821,\n",
       "        -0.06085327, -0.03504022, -0.0036058 ,  0.        ,  0.02472298,\n",
       "         0.        ,  0.        ,  0.06608325, -0.03825686, -0.16957079,\n",
       "        -0.04280853,  0.06477816,  0.        ,  0.        ,  0.        ,\n",
       "         0.        ,  0.        ],\n",
       "       [ 0.11967854,  0.        ,  0.03791061, -0.10942702, -0.0005549 ,\n",
       "         0.        , -0.05649495,  0.        ,  0.        ,  0.        ,\n",
       "         0.10262947,  0.27507477,  0.        ,  0.06922658,  0.03640957,\n",
       "        -0.02649287, -0.02984893, -0.00557919,  0.09546447,  0.        ,\n",
       "         0.14693297, -0.10013928,  0.        ,  0.        ,  0.06709904,\n",
       "         0.        ,  0.        ],\n",
       "       [ 0.17807962, -0.41860817,  0.        ,  0.03396625, -0.01976475,\n",
       "         0.        ,  0.00543095, -0.13324369,  0.        , -0.04802824,\n",
       "         0.059626  ,  0.        ,  0.        ,  0.        , -0.0396584 ,\n",
       "         0.        ,  0.35319807,  0.06198668, -0.15288105,  0.        ,\n",
       "         0.        ,  0.04465429,  0.        ,  0.        ,  0.        ,\n",
       "         0.        ,  0.        ],\n",
       "       [-0.1270504 ,  0.        , -0.00331761,  0.        ,  0.01000096,\n",
       "         0.        , -0.00099898,  0.        ,  0.08320775,  0.        ,\n",
       "        -0.07904414,  0.        ,  0.02780463, -0.05322318, -0.01802775,\n",
       "         0.04856473,  0.        , -0.1989077 ,  0.11319584,  0.        ,\n",
       "         0.        , -0.01555417,  0.        ,  0.        , -0.14117539,\n",
       "        -0.01995879, -0.08742209]])"
      ]
     },
     "execution_count": 11,
     "metadata": {},
     "output_type": "execute_result"
    }
   ],
   "source": [
    "# lasso l1 regularization\n",
    "clf = LogisticRegressionCV(solver=\"saga\", penalty=\"l1\", random_state=0, max_iter=45000, n_jobs=-1).fit(training.iloc[:,2:], training[\"classes\"])\n",
    "predicted = clf.predict_proba(testing.iloc[:,2:]).argmax(axis = 1)\n",
    "# coefficients\n",
    "clf.coef_"
   ]
  },
  {
   "cell_type": "code",
   "execution_count": 12,
   "metadata": {},
   "outputs": [
    {
     "data": {
      "text/plain": [
       "array([0.35938137, 0.35938137, 0.35938137, 0.35938137])"
      ]
     },
     "execution_count": 12,
     "metadata": {},
     "output_type": "execute_result"
    }
   ],
   "source": [
    "# optimal tuning parameter\n",
    "clf.C_"
   ]
  },
  {
   "cell_type": "code",
   "execution_count": 13,
   "metadata": {},
   "outputs": [
    {
     "data": {
      "text/plain": [
       "Text(0.5, 1.0, 'Logistic Regression')"
      ]
     },
     "execution_count": 13,
     "metadata": {},
     "output_type": "execute_result"
    },
    {
     "data": {
      "image/png": "[encoded data removed]",
      "text/plain": [
       "<Figure size 432x288 with 2 Axes>"
      ]
     },
     "metadata": {
      "needs_background": "light"
     },
     "output_type": "display_data"
    }
   ],
   "source": [
    "disp = plot_confusion_matrix(clf, testing.iloc[:,2:], testing[\"classes\"],\n",
    "                                 display_labels=class_dict.keys(),\n",
    "                                 cmap=plt.cm.Blues)\n",
    "disp.ax_.set_title(\"Logistic Regression\")"
   ]
  },
  {
   "cell_type": "code",
   "execution_count": 14,
   "metadata": {},
   "outputs": [],
   "source": [
    "training.to_csv(\"Q1_training_.csv\")\n",
    "testing.to_csv(\"Q1_testing_.csv\")"
   ]
  },
  {
   "cell_type": "markdown",
   "metadata": {},
   "source": [
    "### Adaprive lasso was performed in R, results are shown below\n",
    "\n",
    "#### Optimal lambda\n",
    "0.01646145\n",
    "\n",
    "#### Coefficients (easier to see in Q01.Rmd)\n",
    "                               1             1             1             1\n",
    "(Intercept)          9.466491205  3.8758409411 -6.5709409991 -6.7713911471\n",
    "b1                  -0.112966564  0.0112082666  0.1927876101 -0.0910293122\n",
    "b2                   .            .             .             .           \n",
    "b3                   .            .             .             .           \n",
    "b4                   .            .             .             .           \n",
    "b5                   0.012676416 -0.0236290175 -0.0293994553  0.0403520566\n",
    "b6                   .            .             .             .           \n",
    "b7                   0.061926086 -0.0308314421 -0.0004944274 -0.0306002164\n",
    "b8                   .            .             .             .           \n",
    "b9                  -0.101777163  0.0125850571 -0.1141821827  0.2033742883\n",
    "pred_minus_obs_H_b1  0.059994277 -0.0314464448 -0.0530574418  0.0245096099\n",
    "pred_minus_obs_H_b2 -0.196098340  0.1416156613  0.2322222084 -0.1777395300\n",
    "pred_minus_obs_H_b3 -0.023629593  0.0322763614 -0.0006256619 -0.0080211067\n",
    "pred_minus_obs_H_b4  .            .             .             .           \n",
    "pred_minus_obs_H_b5  .            .             .             .           \n",
    "pred_minus_obs_H_b6  .            .             .             .           \n",
    "pred_minus_obs_H_b7  .            .             .             .           \n",
    "pred_minus_obs_H_b8  0.003108286 -0.0505357811  0.1103766315 -0.0629491367\n",
    "pred_minus_obs_H_b9  .            .             .             .           \n",
    "pred_minus_obs_S_b1  .            .             .             .           \n",
    "pred_minus_obs_S_b2 -0.543741514 -0.0812875941  0.1960221601  0.4290069482\n",
    "pred_minus_obs_S_b3  0.003385575  0.1623945190 -0.1667280412  0.0009479475\n",
    "pred_minus_obs_S_b4  0.034388368 -0.0009357158 -0.0021483814 -0.0313042708\n",
    "pred_minus_obs_S_b5  1.234917872 -0.2451289993 -1.0778236487  0.0880347762\n",
    "pred_minus_obs_S_b6  0.058683621 -0.0396927462  0.0754839809 -0.0944748559\n",
    "pred_minus_obs_S_b7 -0.014361156  0.0278524142 -0.0159543174  0.0024630594\n",
    "pred_minus_obs_S_b8  .            .             .             .           \n",
    "pred_minus_obs_S_b9  0.034656650  0.1103835586  0.2227311410 -0.3677713498\n",
    "\n",
    "\n",
    "#### Confusion Matrix\n",
    "\n",
    "\n",
    "\n",
    "                   True\n",
    "                    d  s  h  o\n",
    "    Predicted    d 53  0  0  3\n",
    "                 s  0 58 14  1\n",
    "                 h  0  1 34  0\n",
    "                 o  1  0  0 33"
   ]
  },
  {
   "cell_type": "code",
   "execution_count": null,
   "metadata": {},
   "outputs": [],
   "source": []
  }
 ],
 "metadata": {
  "kernelspec": {
   "display_name": "omsa",
   "language": "python",
   "name": "omsa"
  },
  "language_info": {
   "codemirror_mode": {
    "name": "ipython",
    "version": 3
   },
   "file_extension": ".py",
   "mimetype": "text/x-python",
   "name": "python",
   "nbconvert_exporter": "python",
   "pygments_lexer": "ipython3",
   "version": "3.7.6"
  }
 },
 "nbformat": 4,
 "nbformat_minor": 4
}

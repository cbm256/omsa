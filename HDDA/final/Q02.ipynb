{
 "cells": [
  {
   "cell_type": "markdown",
   "metadata": {},
   "source": [
    "## Part 1: \n",
    "\n",
    "\n",
    "\\begin{align}\n",
    "L &= \\sum(M_{ij} - U_iV_j^T)^2 + \\lambda(\\sum||U_i||^2+\\sum||V_j||^2) \\\\\n",
    "\\frac{\\partial L}{\\partial U} &=-2(M-UV^T)V+2 \\lambda U \\\\\n",
    "&=U=MV(V^TV+\\lambda I)^{-1}\n",
    "\\end{align}\n",
    "\n",
    "\n",
    "### Pseudocode\n",
    "\n",
    "initialize U, V\n",
    "\n",
    "while not converged:<br />\n",
    "\n",
    "&nbsp;&nbsp;&nbsp;&nbsp;&nbsp;&nbsp; for i = 1...100 do <br />\n",
    "&nbsp;&nbsp;&nbsp;&nbsp;&nbsp;&nbsp;&nbsp;&nbsp;&nbsp;&nbsp;$ U=MV(V^TV+\\lambda I)^{-1}$\n",
    "&nbsp;&nbsp;&nbsp;&nbsp;&nbsp;&nbsp; end for <br/>\n",
    "\n",
    "&nbsp;&nbsp;&nbsp;&nbsp;&nbsp;&nbsp; for i = 1...100 do <br />\n",
    "&nbsp;&nbsp;&nbsp;&nbsp;&nbsp;&nbsp;&nbsp;&nbsp;&nbsp;&nbsp;$ V=MU(U^TU+\\lambda I)^{-1}$\n",
    "&nbsp;&nbsp;&nbsp;&nbsp;&nbsp;&nbsp; end for\n",
    "\n"
   ]
  },
  {
   "cell_type": "code",
   "execution_count": 1,
   "metadata": {},
   "outputs": [],
   "source": [
    "import numpy as np\n",
    "from sklearn.metrics import mean_squared_error\n",
    "import matplotlib.pyplot as plt\n",
    "%matplotlib inline"
   ]
  },
  {
   "cell_type": "code",
   "execution_count": 14,
   "metadata": {},
   "outputs": [],
   "source": [
    "# initialize\n",
    "train = np.genfromtxt('Q2_train.csv', delimiter=',')\n",
    "test = np.genfromtxt('Q2_test.csv', delimiter=',')\n",
    "\n",
    "train_mask = np.nonzero(train)\n",
    "test_mask = np.nonzero(test)\n",
    "\n",
    "\n",
    "i,j = train.shape\n",
    "iters = 100\n",
    "lmbda = .01\n",
    "d = 20\n",
    "\n",
    "U =  np.random.random((i,d))\n",
    "V =  np.random.random((j,d))"
   ]
  },
  {
   "cell_type": "code",
   "execution_count": 15,
   "metadata": {},
   "outputs": [],
   "source": [
    "# ALS\n",
    "\n",
    "train_mse = []\n",
    "test_mse = []\n",
    "for _ in range(100):\n",
    "    \n",
    "    for itr in range(iters):\n",
    "        U = (train@V)@np.linalg.inv(V.T@V + np.eye(d)*lmbda)\n",
    "\n",
    "    for itr in range(iters):\n",
    "        V = (train.T@U)@np.linalg.inv(U.T@U + np.eye(d)*lmbda)\n",
    "        \n",
    "    test_mse.append(mean_squared_error(test[test_mask], (U@V.T)[test_mask]))\n",
    "    train_mse.append(mean_squared_error(train[train_mask], (U@V.T)[train_mask]))"
   ]
  },
  {
   "cell_type": "code",
   "execution_count": 16,
   "metadata": {},
   "outputs": [
    {
     "data": {
      "text/plain": [
       "<matplotlib.legend.Legend at 0x7f52828851d0>"
      ]
     },
     "execution_count": 16,
     "metadata": {},
     "output_type": "execute_result"
    },
    {
     "data": {
      "image/png": "[encoded data removed]",
      "text/plain": [
       "<Figure size 432x288 with 1 Axes>"
      ]
     },
     "metadata": {
      "needs_background": "light"
     },
     "output_type": "display_data"
    }
   ],
   "source": [
    "plt.plot(test_mse, label = 'Test', linewidth = 3)\n",
    "plt.plot(train_mse, label = 'Train', linewidth = 3)\n",
    "plt.xlabel('iterations')\n",
    "plt.ylabel('MSE')\n",
    "plt.legend(loc = 'best')"
   ]
  }
 ],
 "metadata": {
  "kernelspec": {
   "display_name": "omsa",
   "language": "python",
   "name": "omsa"
  },
  "language_info": {
   "codemirror_mode": {
    "name": "ipython",
    "version": 3
   },
   "file_extension": ".py",
   "mimetype": "text/x-python",
   "name": "python",
   "nbconvert_exporter": "python",
   "pygments_lexer": "ipython3",
   "version": "3.7.6"
  }
 },
 "nbformat": 4,
 "nbformat_minor": 4
}

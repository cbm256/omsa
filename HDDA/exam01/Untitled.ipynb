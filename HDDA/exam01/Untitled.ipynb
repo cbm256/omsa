{
 "cells": [
  {
   "cell_type": "code",
   "execution_count": 2,
   "metadata": {},
   "outputs": [],
   "source": [
    "import numpy as np\n",
    "import tensorly"
   ]
  },
  {
   "cell_type": "code",
   "execution_count": 9,
   "metadata": {},
   "outputs": [],
   "source": [
    "lmbda = np.array([39.288, 10.676])\n",
    "u1 = np.array([[0.5719, 0.1469], \n",
    "                [0.5885, 0.9817],\n",
    "                [0.5715, -0.1210]])\n",
    "\n",
    "u2 = np.array([[0.5121, -0.4042],\n",
    "                [0.6284, 0.5877],\n",
    "                [0.5856, 0.7009]])\n",
    "\n",
    "u3 = np.array([[0.5605, -0.3179 ],\n",
    "                [0.4921, -0.3682 ],\n",
    "                [0.6661, 0.8737]])\n",
    "\n",
    "u4 = np.array([[0.7502, -0.9201], \n",
    "                [0.6612, 0.3917]])\n"
   ]
  },
  {
   "cell_type": "code",
   "execution_count": 10,
   "metadata": {},
   "outputs": [],
   "source": [
    "u11 = u1[:,0]\n",
    "u21 = u2[:,0]\n",
    "u31 = u3[:,0]\n",
    "u41 = u4[:,0]\n",
    "\n",
    "u12 = u1[:,1]\n",
    "u22 = u2[:,1]\n",
    "u32 = u3[:,1]\n",
    "u42 = u4[:,1]"
   ]
  },
  {
   "cell_type": "code",
   "execution_count": 11,
   "metadata": {},
   "outputs": [
    {
     "data": {
      "text/plain": [
       "(3, 3, 3, 2)"
      ]
     },
     "execution_count": 11,
     "metadata": {},
     "output_type": "execute_result"
    }
   ],
   "source": [
    "b1=lmbda[0] * np.einsum('i,j,k,l',u11,u21,u31, u41)\n",
    "b2=lmbda[1] * np.einsum('i,j,k,l',u12,u22,u32, u42)\n",
    "b3= b1+b2\n",
    "b3.shape"
   ]
  },
  {
   "cell_type": "code",
   "execution_count": 12,
   "metadata": {},
   "outputs": [
    {
     "data": {
      "text/plain": [
       "(3, 3, 3, 2)"
      ]
     },
     "execution_count": 12,
     "metadata": {},
     "output_type": "execute_result"
    }
   ],
   "source": [
    "b1.shape"
   ]
  }
 ],
 "metadata": {
  "kernelspec": {
   "display_name": "omsa",
   "language": "python",
   "name": "omsa"
  },
  "language_info": {
   "codemirror_mode": {
    "name": "ipython",
    "version": 3
   },
   "file_extension": ".py",
   "mimetype": "text/x-python",
   "name": "python",
   "nbconvert_exporter": "python",
   "pygments_lexer": "ipython3",
   "version": "3.7.6"
  }
 },
 "nbformat": 4,
 "nbformat_minor": 4
}

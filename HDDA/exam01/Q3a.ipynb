{
 "cells": [
  {
   "cell_type": "markdown",
   "metadata": {},
   "source": [
    "$$argmin||X-\\hat{X}||_F^2where\\hat{X}=\\sum^R_r\\lambda_r A_r^{(1)} \\circ A_r^{(2)}... \\circ A_r^{(d)}$$\n",
    "Assuming a third order matrix, the CP decomposition can be rewritten by factor matrices in matrix form:\n",
    "\n",
    "$$\\hat{X}_{(1)} \\approx A^{(1)}\\Lambda(A^{(3)} \\odot A^{(2)})^T$$\n",
    "$$\\hat{X}_{(2)} \\approx A^{(2)}\\Lambda(A^{(3)} \\odot A^{(1)})^T$$\n",
    "$$\\hat{X}_{(3)} \\approx A^{(3)}\\Lambda(A^{(2)} \\odot A^{(1)})^T$$\n",
    "\n",
    "Where $\\odot$ is Khatri Rao product and $X_{(1)}$ denotes the first mode of $X$ and $X$ and $A^{(i)} \\forall i \\in [d $ are known. <br />\n",
    "Since The Khatri-Rao product is the matching columnwise Kroenecker product the above Khatri-Rao products can be rewritten as vecotor Kroenecker products:\n",
    "\n",
    "\n",
    "$$\\hat{X}_{(1)} \\approx A^{(1)}\\Lambda(a_1^{(3)} \\otimes a_1^{(2)}...a_k^{(3)} \\otimes a_k^{(2)})^T$$\n",
    "$$\\hat{X}_{(2)} \\approx A^{(3)}\\Lambda(a_1^{(3)} \\otimes a_1^{(1)}...a_k^{(3)} \\otimes a_k^{(1)})^T$$\n",
    "$$\\hat{X}_{(3)} \\approx A^{(3)}\\Lambda(a_1^{(2)} \\otimes a_1^{(1)}...a_k^{(2)} \\otimes a_k^{(1)})^T$$\n",
    "\n",
    "$$argmin||X_1-\\hat{X}_1||_F^2where\\hat{X}_1=A^{(1)}\\Lambda(a_1^{(3)} \\otimes a_1^{(2)}...a_k^{(3)} \\otimes a_k^{(2)})^T$$"
   ]
  },
  {
   "cell_type": "code",
   "execution_count": null,
   "metadata": {},
   "outputs": [],
   "source": []
  }
 ],
 "metadata": {
  "kernelspec": {
   "display_name": "omsa",
   "language": "python",
   "name": "omsa"
  },
  "language_info": {
   "codemirror_mode": {
    "name": "ipython",
    "version": 3
   },
   "file_extension": ".py",
   "mimetype": "text/x-python",
   "name": "python",
   "nbconvert_exporter": "python",
   "pygments_lexer": "ipython3",
   "version": "3.7.6"
  }
 },
 "nbformat": 4,
 "nbformat_minor": 4
}

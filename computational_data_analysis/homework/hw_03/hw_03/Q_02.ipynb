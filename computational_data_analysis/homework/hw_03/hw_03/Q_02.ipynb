{
 "cells": [
  {
   "cell_type": "code",
   "execution_count": 1,
   "metadata": {},
   "outputs": [],
   "source": [
    "import matplotlib.pyplot as plt\n",
    "import numpy as np\n",
    "import pandas as pd\n",
    "%matplotlib inline  "
   ]
  },
  {
   "cell_type": "code",
   "execution_count": 2,
   "metadata": {},
   "outputs": [
    {
     "name": "stderr",
     "output_type": "stream",
     "text": [
      "/home/jfftilton/.local/lib/python3.6/site-packages/ipykernel_launcher.py:1: ParserWarning: Falling back to the 'python' engine because the 'c' engine does not support regex separators (separators > 1 char and different from '\\s+' are interpreted as regex); you can avoid this warning by specifying engine='python'.\n",
      "  \"\"\"Entry point for launching an IPython kernel.\n",
      "/home/jfftilton/.local/lib/python3.6/site-packages/ipykernel_launcher.py:2: ParserWarning: Falling back to the 'python' engine because the 'c' engine does not support regex separators (separators > 1 char and different from '\\s+' are interpreted as regex); you can avoid this warning by specifying engine='python'.\n",
      "  \n"
     ]
    }
   ],
   "source": [
    "data = pd.read_csv('data.dat', sep=\"   \", header=None).to_numpy().T\n",
    "lab = pd.read_csv('label.dat', sep=\"   \", header=None).to_numpy()"
   ]
  },
  {
   "cell_type": "code",
   "execution_count": 9,
   "metadata": {},
   "outputs": [
    {
     "data": {
      "image/png": "[encoded data removed]",
      "text/plain": [
       "<Figure size 432x288 with 2 Axes>"
      ]
     },
     "metadata": {},
     "output_type": "display_data"
    }
   ],
   "source": [
    "ex_2 = np.flip(np.rot90(data[0,:].reshape(28,28), -1), 1)\n",
    "ex_6 = np.flip(np.rot90(data[-1,:].reshape(28,28), -1), 1)\n",
    "\n",
    "\n",
    "plt.subplot(1, 2, 1)\n",
    "plt.title(\"Two\")\n",
    "plt.imshow(ex_2)\n",
    "plt.axis(\"off\")\n",
    "\n",
    "plt.subplot(1, 2, 2)\n",
    "plt.title(\"Six\")\n",
    "plt.imshow(ex_6)\n",
    "plt.axis(\"off\")\n",
    "plt.show()"
   ]
  },
  {
   "cell_type": "code",
   "execution_count": 3,
   "metadata": {},
   "outputs": [],
   "source": [
    "def initialization(X, K):\n",
    "    m,n=X.shape\n",
    "    pis = np.array([.5,.5])\n",
    "    \n",
    "    idx = np.random.randint(n, size=n)\n",
    "    mus = np.zeros(shape=(K,n))\n",
    "    for k in range(K):\n",
    "        idx = np.random.randint(m, size=int(m/K))\n",
    "        x = X[idx]\n",
    "        mu = x.mean(axis=0)\n",
    "        mus[k] = mu\n",
    "    sigmas = np.array([np.identity(n)]*K)\n",
    "    return pis, mus, sigmas\n",
    "\n",
    "def get_n(x,sigma,mu, r=35):\n",
    "    U, S, V = np.linalg.svd(sigma, \n",
    "      full_matrices=False,\n",
    "      compute_uv=True)\n",
    "    lambd = S[:r]\n",
    "    U = U[:,:r]\n",
    "    mu_approx = np.dot(U.T,mu)\n",
    "    x_approx = np.dot(U.T, x)\n",
    "    det = np.prod(lambd)\n",
    "    xm = x_approx - mu_approx\n",
    "    exponent = np.exp(-.5*np.dot(np.dot(xm.T,np.diag(lambd**-1)), xm))\n",
    "    ll = np.log(exponent) + np.log(np.sqrt(det))\n",
    "    n = exponent/np.sqrt(det)\n",
    "    return n, ll\n",
    "\n",
    "def get_mus(X,expectations):\n",
    "    n,m=X.shape\n",
    "    K = expectations.shape[1]\n",
    "    mus = np.zeros(shape=(K,m))\n",
    "    for k in range(K):\n",
    "        tau = expectations[:,k]\n",
    "        numerator = np.zeros(shape=(m))\n",
    "        for i in range(n):\n",
    "            x_i=X[i,:]\n",
    "            tau_i = tau[i]\n",
    "            numerator += tau_i * x_i\n",
    "        mu = numerator / np.sum(tau)\n",
    "        mus[k] = mu\n",
    "    return mus\n",
    "\n",
    "def get_sigmas(X,expectations,mus):\n",
    "    n,m=X.shape\n",
    "    K = expectations.shape[1]\n",
    "    sigmas = np.zeros((K, m, m))\n",
    "    for k in range(K):\n",
    "        tau = expectations[:,k]\n",
    "        mu = mus[k,:]\n",
    "        numerator = np.zeros(shape=(m,m))\n",
    "        for i in range(n):\n",
    "            x_i=X[i,:]\n",
    "            tau_i = tau[i]\n",
    "            x_i_minus_mu = (x_i - mu).reshape(m,1)\n",
    "            numerator += tau_i*np.dot(x_i_minus_mu,x_i_minus_mu.T)\n",
    "        sigmas[k] = numerator / np.sum(tau)\n",
    "            \n",
    "    return sigmas"
   ]
  },
  {
   "cell_type": "code",
   "execution_count": 4,
   "metadata": {},
   "outputs": [],
   "source": [
    "X= data[:,:]\n",
    "K = 2\n",
    "pis, mus, sigmas = initialization(X, K)\n"
   ]
  },
  {
   "cell_type": "code",
   "execution_count": 5,
   "metadata": {},
   "outputs": [
    {
     "name": "stdout",
     "output_type": "stream",
     "text": [
      "-1.2666239181708494\n",
      "-165282.3995589537\n",
      "-165282.39949833666\n",
      "-165282.0602213383\n",
      "-165028.8514952786\n",
      "-163435.4816080569\n",
      "-161225.75206170793\n",
      "-163718.54243356624\n",
      "-194731.26558527595\n",
      "-225200.22518798243\n",
      "-235717.31220631956\n",
      "-244153.57425108712\n",
      "-238629.06305630386\n",
      "-244244.68642715685\n",
      "-238730.64007943132\n",
      "-240485.7385297322\n",
      "-239486.27953980782\n",
      "-240146.66181984707\n",
      "-239124.0146420944\n",
      "-239505.5254022466\n",
      "-239492.53557620925\n",
      "-239169.14156791518\n",
      "-239597.0427873059\n",
      "-239083.098230957\n",
      "-239583.13217849395\n"
     ]
    }
   ],
   "source": [
    "max_iter=25\n",
    "m,n = X.shape\n",
    "log_likelihoods = []\n",
    "mus_list = []\n",
    "for z in range(max_iter):\n",
    "    N = np.zeros(shape=(m, K))\n",
    "    taus = np.zeros(shape=(m, K))\n",
    "    k = 0\n",
    "    log_likelihood = 0\n",
    "    # e part\n",
    "    for pi, mu, sigma in zip(pis,mus, sigmas):\n",
    "        en = np.apply_along_axis(get_n, 1, X, sigma, mu, r=50)\n",
    "        N[:,k] = en[:,0]\n",
    "        k+=1\n",
    "        log_likelihood += np.sum(en[:,1])\n",
    "    log_likelihoods.append(log_likelihood)\n",
    "    print(log_likelihood)\n",
    "    n_sum = N.sum(axis = 1)\n",
    "    taus = N*pis / n_sum.reshape(m,1)\n",
    "    # m part\n",
    "    pis = taus.sum(axis=0)/m\n",
    "    mus_list.append(mus)\n",
    "    mus = get_mus(X,taus)\n",
    "    sigmas = get_sigmas(X,taus,mus)"
   ]
  },
  {
   "cell_type": "code",
   "execution_count": 19,
   "metadata": {},
   "outputs": [
    {
     "data": {
      "text/plain": [
       "array([7.76317244e-09, 2.74405083e-08])"
      ]
     },
     "execution_count": 19,
     "metadata": {},
     "output_type": "execute_result"
    }
   ],
   "source": [
    "pis\n"
   ]
  },
  {
   "cell_type": "code",
   "execution_count": 11,
   "metadata": {
    "scrolled": false
   },
   "outputs": [
    {
     "data": {
      "image/png": "[encoded data removed]",
      "text/plain": [
       "<Figure size 432x288 with 2 Axes>"
      ]
     },
     "metadata": {},
     "output_type": "display_data"
    },
    {
     "data": {
      "image/png": "[encoded data removed]",
      "text/plain": [
       "<Figure size 432x288 with 2 Axes>"
      ]
     },
     "metadata": {},
     "output_type": "display_data"
    },
    {
     "data": {
      "image/png": "[encoded data removed]",
      "text/plain": [
       "<Figure size 432x288 with 2 Axes>"
      ]
     },
     "metadata": {},
     "output_type": "display_data"
    },
    {
     "data": {
      "image/png": "[encoded data removed]",
      "text/plain": [
       "<Figure size 432x288 with 2 Axes>"
      ]
     },
     "metadata": {},
     "output_type": "display_data"
    },
    {
     "data": {
      "image/png": "[encoded data removed]",
      "text/plain": [
       "<Figure size 432x288 with 2 Axes>"
      ]
     },
     "metadata": {},
     "output_type": "display_data"
    }
   ],
   "source": [
    "examples = [(\"2\",mus_list[1]), (\"7\", mus_list[6]),(\"8\",mus_list[7]),(\"9\", mus_list[8]),(str(len(mus_list)),mus_list[-1])]\n",
    "\n",
    "\n",
    "for mus_ in examples:\n",
    "    title, mus = mus_\n",
    "    t1 = np.flip(np.rot90(mus[0,:].reshape(28,28), -1), 1)\n",
    "    t2 = np.flip(np.rot90(mus[1,:].reshape(28,28), -1), 1)\n",
    "    plt.subplot(1, 2, 1)\n",
    "    plt.title(\"Iteration: {}\".format(title))\n",
    "    plt.imshow(t1)\n",
    "    plt.axis(\"off\")\n",
    "\n",
    "    plt.subplot(1, 2, 2)\n",
    "    plt.title(\"Iteration: {}\".format(title))\n",
    "    plt.imshow(t2)\n",
    "    plt.axis(\"off\")\n",
    "    plt.show()"
   ]
  },
  {
   "cell_type": "code",
   "execution_count": 8,
   "metadata": {},
   "outputs": [
    {
     "data": {
      "image/png": "[encoded data removed]",
      "text/plain": [
       "<Figure size 432x288 with 1 Axes>"
      ]
     },
     "metadata": {},
     "output_type": "display_data"
    }
   ],
   "source": [
    "import seaborn as sns; sns.set()\n",
    "import pandas as pd\n",
    "ax = sns.lineplot(data=pd.Series(log_likelihoods))"
   ]
  }
 ],
 "metadata": {
  "kernelspec": {
   "display_name": "cv",
   "language": "python",
   "name": "cv"
  },
  "language_info": {
   "codemirror_mode": {
    "name": "ipython",
    "version": 3
   },
   "file_extension": ".py",
   "mimetype": "text/x-python",
   "name": "python",
   "nbconvert_exporter": "python",
   "pygments_lexer": "ipython3",
   "version": "3.6.8"
  }
 },
 "nbformat": 4,
 "nbformat_minor": 2
}

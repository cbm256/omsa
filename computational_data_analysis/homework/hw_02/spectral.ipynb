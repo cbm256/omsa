{
 "cells": [
  {
   "cell_type": "code",
   "execution_count": 1,
   "metadata": {},
   "outputs": [],
   "source": [
    "import pandas as pd\n",
    "import scipy as sp\n",
    "import scipy.sparse\n",
    "import scipy.sparse.linalg\n",
    "from sklearn.metrics import confusion_matrix"
   ]
  },
  {
   "cell_type": "code",
   "execution_count": 6,
   "metadata": {},
   "outputs": [],
   "source": [
    "import numpy as np\n",
    "\n",
    "\n",
    "def get_distances(centroids, pixels):\n",
    "    distances = []\n",
    "    for centroid in centroids:\n",
    "        distances.append(np.linalg.norm((centroid - pixels), axis=1))\n",
    "    return distances\n",
    "\n",
    "\n",
    "def join_distances(distances):\n",
    "    distances = [x.reshape((x.shape[0], 1)) for x in distances]\n",
    "    distances_joined = np.concatenate(distances, axis=1)\n",
    "    return distances_joined\n",
    "\n",
    "\n",
    "def get_min_distance(distances_joined):\n",
    "    min_distances = np.min(distances_joined, axis=1)\n",
    "    return min_distances\n",
    "\n",
    "\n",
    "def get_probabilities(min_distances):\n",
    "    dis_sq = np.square(min_distances)\n",
    "    a = np.sum(dis_sq)\n",
    "    p = np.multiply(1 / a, dis_sq)\n",
    "\n",
    "    return p\n",
    "\n",
    "\n",
    "def get_centroid(centroids, pixels):\n",
    "    distances = get_distances(centroids, pixels)\n",
    "    distances_joined = join_distances(distances)\n",
    "    min_distances = get_min_distance(distances_joined)\n",
    "    p = get_probabilities(min_distances)\n",
    "    idxs = [x for x in range(pixels.shape[0])]\n",
    "    idx = np.random.choice(idxs, 1, p=p)\n",
    "    return pixels[idx]\n",
    "\n",
    "\n",
    "def k_plus_plus(pixels, K):\n",
    "    pixels_copy = pixels.copy()\n",
    "    np.random.shuffle(pixels_copy)\n",
    "    \n",
    "    centroids = pixels_copy[0, :].reshape(1, pixels_copy.shape[1])\n",
    "\n",
    "    while len(centroids) < K:\n",
    "        new_centroid = get_centroid(centroids, pixels).reshape(1, pixels_copy.shape[1])\n",
    "        centroids = np.append(centroids, new_centroid, axis=0)\n",
    "\n",
    "    return centroids\n",
    "\n",
    "\n",
    "def get_classes(centroids, pixels):\n",
    "    distances = get_distances(centroids, pixels)\n",
    "    distances_joined = join_distances(distances)\n",
    "    classes = np.argmin(distances_joined, axis=1)\n",
    "    return classes\n",
    "\n",
    "\n",
    "def get_new_centroids(centroids, pixels):\n",
    "    classes = get_classes(centroids, pixels)\n",
    "    new_centroids = np.zeros(shape=centroids.shape)\n",
    "    for i in range(len(centroids)):\n",
    "        centroid = np.mean(pixels[classes == i], axis=0)\n",
    "        new_centroids[i] = centroid\n",
    "\n",
    "    return new_centroids\n",
    "\n",
    "\n",
    "def get_centroids(pixels, K):\n",
    "    centroids = k_plus_plus(pixels, K)\n",
    "    c = np.full(centroids.shape, np.inf)\n",
    "    centroid_distances = np.linalg.norm((centroids - c), axis=1)\n",
    "    while np.max(centroid_distances) > 1:\n",
    "        new_centroids = get_new_centroids(centroids, pixels)\n",
    "        centroid_distances = np.linalg.norm((centroids - new_centroids), axis=1)\n",
    "        centroids = new_centroids\n",
    "    return centroids\n",
    "\n",
    "\n",
    "def my_kmeans(pixels, K):\n",
    "    centroids = get_centroids(pixels, K)\n",
    "    classes = get_classes(centroids, pixels)\n",
    "    return classes, centroids\n",
    "\n"
   ]
  },
  {
   "cell_type": "code",
   "execution_count": 2,
   "metadata": {},
   "outputs": [],
   "source": [
    "df = pd.read_csv('edges.txt', sep=\"\\t\", header=None, names=['org','dest'])"
   ]
  },
  {
   "cell_type": "code",
   "execution_count": 3,
   "metadata": {},
   "outputs": [],
   "source": [
    "nodes = pd.read_csv('nodes.txt', sep=\"\\t\", header=None, names=['blog','class', \"site\"])\n"
   ]
  },
  {
   "cell_type": "code",
   "execution_count": 4,
   "metadata": {},
   "outputs": [],
   "source": [
    "df['weight']=1\n",
    "df['org'] = df['org']-1\n",
    "df['dest'] = df['dest']-1"
   ]
  },
  {
   "cell_type": "code",
   "execution_count": 7,
   "metadata": {},
   "outputs": [
    {
     "name": "stderr",
     "output_type": "stream",
     "text": [
      "/home/jfftilton/anaconda3/envs/cv/lib/python3.6/site-packages/numpy/linalg/linalg.py:2480: RuntimeWarning: invalid value encountered in multiply\n",
      "  s = (x.conj() * x).real\n",
      "/home/jfftilton/.local/lib/python3.6/site-packages/ipykernel_launcher.py:65: ComplexWarning: Casting complex values to real discards the imaginary part\n"
     ]
    }
   ],
   "source": [
    "# Step 1: represent graph as adjacency matrix\n",
    "A = sp.sparse.coo_matrix((df['weight'],\n",
    "                          (df['org'], df['dest'])),\n",
    "                         shape=(1490, 1490))\n",
    "#Step 2: form a special matrix L=D-A, the graph Laplacian\n",
    "l,d = scipy.sparse.csgraph.laplacian(A, return_diag=True)\n",
    "D = sp.sparse.diags(d)\n",
    "L = D-A\n",
    "# Step 3: compute k eigenvectors, v1,v2...vk corresponding to the k smallest eigenvalues (k ≪ m)\n",
    "w,Z = sp.sparse.linalg.eigs(L, k=2, which='SR')\n",
    "# Step 4: run kmeans algorithm on Z = (v1,v2,...vk) by treating each row as a new data point\n",
    "classes,centroids = my_kmeans(Z, 2)"
   ]
  },
  {
   "cell_type": "code",
   "execution_count": 172,
   "metadata": {},
   "outputs": [
    {
     "data": {
      "text/plain": [
       "(101, 657, 57, 675)"
      ]
     },
     "execution_count": 172,
     "metadata": {},
     "output_type": "execute_result"
    }
   ],
   "source": [
    "y_true = [int(float(x)) for x in nodes[\"class\"]]\n",
    "y_pred = classes\n",
    "y_pred2 = [1 if x ==0 else 0 for x in classes]\n",
    "tn, fp, fn, tp = confusion_matrix(y_true, y_pred).ravel()\n",
    "(tn, fp, fn, tp)"
   ]
  },
  {
   "cell_type": "code",
   "execution_count": 173,
   "metadata": {},
   "outputs": [
    {
     "data": {
      "text/html": [
       "<div>\n",
       "<style scoped>\n",
       "    .dataframe tbody tr th:only-of-type {\n",
       "        vertical-align: middle;\n",
       "    }\n",
       "\n",
       "    .dataframe tbody tr th {\n",
       "        vertical-align: top;\n",
       "    }\n",
       "\n",
       "    .dataframe thead th {\n",
       "        text-align: right;\n",
       "    }\n",
       "</style>\n",
       "<table border=\"1\" class=\"dataframe\">\n",
       "  <thead>\n",
       "    <tr style=\"text-align: right;\">\n",
       "      <th></th>\n",
       "      <th>Predicted No</th>\n",
       "      <th>Predicted Yes</th>\n",
       "    </tr>\n",
       "  </thead>\n",
       "  <tbody>\n",
       "    <tr>\n",
       "      <th>Actual No</th>\n",
       "      <td>101</td>\n",
       "      <td>657</td>\n",
       "    </tr>\n",
       "    <tr>\n",
       "      <th>Actual Yes</th>\n",
       "      <td>57</td>\n",
       "      <td>675</td>\n",
       "    </tr>\n",
       "  </tbody>\n",
       "</table>\n",
       "</div>"
      ],
      "text/plain": [
       "            Predicted No  Predicted Yes\n",
       "Actual No            101            657\n",
       "Actual Yes            57            675"
      ]
     },
     "execution_count": 173,
     "metadata": {},
     "output_type": "execute_result"
    }
   ],
   "source": [
    "cm = pd.DataFrame({\"Predicted No\":[tn,fn], \"Predicted Yes\":[fp,tp]})\n",
    "cm.index = [\"Actual No\", \"Actual Yes\"]\n",
    "cm"
   ]
  },
  {
   "cell_type": "code",
   "execution_count": 174,
   "metadata": {},
   "outputs": [
    {
     "data": {
      "text/plain": [
       "47.91946308724832"
      ]
     },
     "execution_count": 174,
     "metadata": {},
     "output_type": "execute_result"
    }
   ],
   "source": [
    "false_classification_rate = (fp+fn)/1490 * 100\n",
    "false_classification_rate"
   ]
  },
  {
   "cell_type": "code",
   "execution_count": 21,
   "metadata": {},
   "outputs": [],
   "source": [
    "x = A-np.zeros(A.shape)"
   ]
  },
  {
   "cell_type": "code",
   "execution_count": 24,
   "metadata": {},
   "outputs": [
    {
     "data": {
      "text/plain": [
       "matrix([[0., 1., 0., ..., 0., 0., 0.],\n",
       "        [0., 0., 0., ..., 0., 0., 0.],\n",
       "        [0., 0., 0., ..., 0., 0., 0.],\n",
       "        ...,\n",
       "        [0., 0., 0., ..., 0., 0., 0.],\n",
       "        [0., 0., 0., ..., 1., 0., 0.],\n",
       "        [0., 0., 0., ..., 0., 0., 0.]])"
      ]
     },
     "execution_count": 24,
     "metadata": {},
     "output_type": "execute_result"
    }
   ],
   "source": [
    "x.T"
   ]
  }
 ],
 "metadata": {
  "hide_input": false,
  "kernelspec": {
   "display_name": "cv",
   "language": "python",
   "name": "cv"
  },
  "language_info": {
   "codemirror_mode": {
    "name": "ipython",
    "version": 3
   },
   "file_extension": ".py",
   "mimetype": "text/x-python",
   "name": "python",
   "nbconvert_exporter": "python",
   "pygments_lexer": "ipython3",
   "version": "3.6.8"
  }
 },
 "nbformat": 4,
 "nbformat_minor": 2
}

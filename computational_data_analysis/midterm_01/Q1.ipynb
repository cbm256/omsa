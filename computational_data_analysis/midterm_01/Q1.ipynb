{
 "cells": [
  {
   "cell_type": "code",
   "execution_count": 2,
   "metadata": {},
   "outputs": [],
   "source": [
    "from pyclustering.cluster.kmeans import kmeans, kmeans_visualizer\n",
    "from pyclustering.cluster.center_initializer import kmeans_plusplus_initializer\n",
    "from pyclustering.samples.definitions import FCPS_SAMPLES\n",
    "from pyclustering.utils import read_sample\n",
    "from pyclustering.utils.metric import distance_metric\n",
    "from pyclustering.utils.metric import type_metric\n",
    "import numpy as np"
   ]
  },
  {
   "cell_type": "code",
   "execution_count": 20,
   "metadata": {},
   "outputs": [],
   "source": [
    "X = np.array([[2, 2], [-1, 1], [3, 1],\n",
    "               [0, -1], [-2, -2]])\n",
    "initial_centers = np.array([[-3, -1], [2, 1]])\n",
    "kmeans_instance = kmeans(X, initial_centers, itermax=1)\n",
    "kmeans_instance.process()\n",
    "clusters_01 = kmeans_instance.get_clusters()\n",
    "final_centers_01 = kmeans_instance.get_centers()\n",
    "\n",
    "kmeans_instance_50 = kmeans(X, initial_centers, itermax=500)\n",
    "kmeans_instance_50.process()\n",
    "clusters_50 = kmeans_instance_50.get_clusters()\n",
    "final_centers_50 = kmeans_instance_50.get_centers()"
   ]
  },
  {
   "cell_type": "code",
   "execution_count": 21,
   "metadata": {},
   "outputs": [
    {
     "name": "stdout",
     "output_type": "stream",
     "text": [
      "[[-1.5, -0.5], [1.6666666666666667, 0.6666666666666666]] [[-1.0, -0.6666666666666666], [2.5, 1.5]]\n"
     ]
    }
   ],
   "source": [
    "print(final_centers_01, final_centers_50)"
   ]
  },
  {
   "cell_type": "code",
   "execution_count": 25,
   "metadata": {},
   "outputs": [
    {
     "name": "stdout",
     "output_type": "stream",
     "text": [
      "[[1, 4], [0, 2, 3]] [[1, 3, 4], [0, 2]]\n"
     ]
    }
   ],
   "source": [
    "print(clusters_01, clusters_50)"
   ]
  },
  {
   "cell_type": "code",
   "execution_count": 5,
   "metadata": {},
   "outputs": [],
   "source": [
    "X = np.array([[2, 2], [-1, 1], [3, 1],[0, -1], [-2, -2]])\n",
    "\n",
    "initial_centers = np.array([[-3, -1], [2, 1]])\n",
    "\n",
    "manhattan_metric = distance_metric(type_metric.MANHATTAN)\n",
    "\n",
    "kmeans_instance = kmeans(X, initial_centers, 1, metric=manhattan_metric)\n",
    "kmeans_instance.process()\n",
    "clusters = kmeans_instance.get_clusters()\n",
    "final_centers = kmeans_instance.get_centers()\n",
    "\n",
    "kmeans_instance_50 = kmeans(X, initial_centers, 50, metric=manhattan_metric)\n",
    "kmeans_instance_50.process()\n",
    "clusters_50 = kmeans_instance_50.get_clusters()\n",
    "final_centers_50 = kmeans_instance_50.get_centers()"
   ]
  },
  {
   "cell_type": "code",
   "execution_count": 10,
   "metadata": {},
   "outputs": [
    {
     "data": {
      "text/plain": [
       "[[-1.0, -0.6666666666666666], [2.5, 1.5]]"
      ]
     },
     "execution_count": 10,
     "metadata": {},
     "output_type": "execute_result"
    }
   ],
   "source": [
    "final_centers_50"
   ]
  },
  {
   "cell_type": "code",
   "execution_count": 8,
   "metadata": {},
   "outputs": [
    {
     "data": {
      "text/plain": [
       "[[1, 3, 4], [0, 2]]"
      ]
     },
     "execution_count": 8,
     "metadata": {},
     "output_type": "execute_result"
    }
   ],
   "source": [
    "clusters"
   ]
  },
  {
   "cell_type": "code",
   "execution_count": 13,
   "metadata": {},
   "outputs": [
    {
     "name": "stderr",
     "output_type": "stream",
     "text": [
      "/home/jfftilton/anaconda3/envs/cv/lib/python3.6/site-packages/sklearn/cluster/k_means_.py:969: RuntimeWarning: Explicit initial center position passed: performing only one init in k-means instead of n_init=10\n",
      "  return_n_iter=True)\n"
     ]
    },
    {
     "data": {
      "text/plain": [
       "array([1, 0, 1, 0, 0], dtype=int32)"
      ]
     },
     "execution_count": 13,
     "metadata": {},
     "output_type": "execute_result"
    }
   ],
   "source": [
    "from sklearn.cluster import KMeans\n",
    "kmeans = KMeans(n_clusters=2, init=initial_centers, max_iter = 100).fit(X)\n",
    "kmeans.labels_"
   ]
  },
  {
   "cell_type": "code",
   "execution_count": 14,
   "metadata": {},
   "outputs": [
    {
     "data": {
      "text/plain": [
       "array([[-1.        , -0.66666667],\n",
       "       [ 2.5       ,  1.5       ]])"
      ]
     },
     "execution_count": 14,
     "metadata": {},
     "output_type": "execute_result"
    }
   ],
   "source": [
    "kmeans.cluster_centers_"
   ]
  },
  {
   "cell_type": "code",
   "execution_count": null,
   "metadata": {},
   "outputs": [],
   "source": []
  }
 ],
 "metadata": {
  "hide_input": false,
  "kernelspec": {
   "display_name": "cv",
   "language": "python",
   "name": "cv"
  },
  "language_info": {
   "codemirror_mode": {
    "name": "ipython",
    "version": 3
   },
   "file_extension": ".py",
   "mimetype": "text/x-python",
   "name": "python",
   "nbconvert_exporter": "python",
   "pygments_lexer": "ipython3",
   "version": "3.6.8"
  }
 },
 "nbformat": 4,
 "nbformat_minor": 2
}

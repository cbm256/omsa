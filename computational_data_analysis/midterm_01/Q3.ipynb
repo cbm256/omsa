{
 "cells": [
  {
   "cell_type": "code",
   "execution_count": 39,
   "metadata": {},
   "outputs": [
    {
     "data": {
      "text/plain": [
       "24.743567171833075"
      ]
     },
     "execution_count": 39,
     "metadata": {},
     "output_type": "execute_result"
    }
   ],
   "source": [
    "from sklearn.metrics import mean_squared_error\n",
    "import numpy as np\n",
    "\n",
    "X = np.array([[4, -2, 4], [5, -3,5], [2,0,2], [3,-1,3]])\n",
    "m,n=X.shape\n",
    "X_centered = (X - np.mean(X, axis = 0)) / np.std(X)\n",
    "cov = np.dot(X_centered.T,X_centered)/(X_centered.shape[0]-1)\n",
    "eig_val,eig_vec=np.linalg.eig(cov)\n",
    "final_data = np.dot(eig_vec.T,X_centered.T).T\n",
    "reconstructed = np.flip((np.dot(eig_vec[:,0],final_data.T) + np.mean(X, axis = 0).reshape(n,1)).T,axis=1) * np.std(X)\n",
    "mean_squared_error(X, reconstructed)"
   ]
  },
  {
   "cell_type": "code",
   "execution_count": 41,
   "metadata": {},
   "outputs": [
    {
     "data": {
      "text/plain": [
       "<matplotlib.axes._subplots.AxesSubplot at 0x21c5026d4e0>"
      ]
     },
     "execution_count": 41,
     "metadata": {},
     "output_type": "execute_result"
    },
    {
     "data": {
      "image/png": "[encoded data removed]",
      "text/plain": [
       "<Figure size 432x288 with 1 Axes>"
      ]
     },
     "metadata": {
      "needs_background": "light"
     },
     "output_type": "display_data"
    }
   ],
   "source": [
    "import pandas as pd\n",
    "import matplotlib.pyplot as plt\n",
    "pd.DataFrame(reconstructed).plot.scatter(x=0,y=2)"
   ]
  },
  {
   "cell_type": "code",
   "execution_count": null,
   "metadata": {},
   "outputs": [],
   "source": []
  }
 ],
 "metadata": {
  "hide_input": false,
  "kernelspec": {
   "display_name": "Python 3",
   "language": "python",
   "name": "python3"
  },
  "language_info": {
   "codemirror_mode": {
    "name": "ipython",
    "version": 3
   },
   "file_extension": ".py",
   "mimetype": "text/x-python",
   "name": "python",
   "nbconvert_exporter": "python",
   "pygments_lexer": "ipython3",
   "version": "3.7.3"
  }
 },
 "nbformat": 4,
 "nbformat_minor": 2
}

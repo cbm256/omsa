{
 "cells": [
  {
   "cell_type": "code",
   "execution_count": 322,
   "metadata": {},
   "outputs": [],
   "source": [
    "from sklearn.metrics import mean_squared_error\n",
    "import numpy as np\n",
    "\n",
    "X = np.array([[2.5, 2.4],\n",
    "[0.5, 0.7],\n",
    "[2.2, 2.9],\n",
    "[1.9 ,2.2],\n",
    "[3.1 ,3.0],\n",
    "[2.3 ,2.7],\n",
    "[2 ,1.6],\n",
    "[1 ,1.1],\n",
    "[1.5 ,1.6],\n",
    "[1.1, 0.9]])\n",
    "\n",
    "X = np.array([[4, -2, 4], [5, -3,5], [2,0,2], [3,-1,3]]).reshape(4,3)\n",
    "m,n=X.shape\n",
    "X_centered = (X - np.mean(X, axis = 0)) / np.std(X, axis=0)\n",
    "cov = np.dot(X_centered.T,X_centered)/(X_centered.shape[0]-1)\n",
    "eig_val,eig_vec=np.linalg.eig(cov)\n",
    "pcs = eig_vec[:,eig_val.argsort()[::-1]]\n",
    "feature_vector = pcs[:,:1]\n",
    "final_data = np.dot(feature_vector.T, X_centered.T).T\n",
    "reconstructed = np.dot(feature_vector, final_data.T).T + np.mean(X, axis = 0).reshape(1,n) * np.std(X, axis=0)"
   ]
  },
  {
   "cell_type": "code",
   "execution_count": 324,
   "metadata": {},
   "outputs": [
    {
     "data": {
      "text/plain": [
       "3.019651807770173"
      ]
     },
     "execution_count": 324,
     "metadata": {},
     "output_type": "execute_result"
    }
   ],
   "source": [
    "pcs[:,1:].sum()"
   ]
  },
  {
   "cell_type": "code",
   "execution_count": 325,
   "metadata": {},
   "outputs": [
    {
     "data": {
      "text/plain": [
       "<matplotlib.axes._subplots.AxesSubplot at 0x7fe8188a4fd0>"
      ]
     },
     "execution_count": 325,
     "metadata": {},
     "output_type": "execute_result"
    },
    {
     "data": {
      "image/png": "[encoded data removed]",
      "text/plain": [
       "<Figure size 432x288 with 1 Axes>"
      ]
     },
     "metadata": {
      "needs_background": "light"
     },
     "output_type": "display_data"
    }
   ],
   "source": [
    "import pandas as pd\n",
    "import matplotlib.pyplot as plt\n",
    "%matplotlib inline\n",
    "pd.DataFrame(reconstructed).plot.scatter(x=0,y=1)"
   ]
  }
 ],
 "metadata": {
  "hide_input": false,
  "kernelspec": {
   "display_name": "cv",
   "language": "python",
   "name": "cv"
  },
  "language_info": {
   "codemirror_mode": {
    "name": "ipython",
    "version": 3
   },
   "file_extension": ".py",
   "mimetype": "text/x-python",
   "name": "python",
   "nbconvert_exporter": "python",
   "pygments_lexer": "ipython3",
   "version": "3.6.8"
  }
 },
 "nbformat": 4,
 "nbformat_minor": 2
}

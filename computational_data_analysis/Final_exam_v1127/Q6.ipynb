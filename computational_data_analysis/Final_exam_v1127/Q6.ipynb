{
 "cells": [
  {
   "cell_type": "code",
   "execution_count": 8,
   "metadata": {},
   "outputs": [
    {
     "data": {
      "text/html": [
       "<div>\n",
       "<style scoped>\n",
       "    .dataframe tbody tr th:only-of-type {\n",
       "        vertical-align: middle;\n",
       "    }\n",
       "\n",
       "    .dataframe tbody tr th {\n",
       "        vertical-align: top;\n",
       "    }\n",
       "\n",
       "    .dataframe thead th {\n",
       "        text-align: right;\n",
       "    }\n",
       "</style>\n",
       "<table border=\"1\" class=\"dataframe\">\n",
       "  <thead>\n",
       "    <tr style=\"text-align: right;\">\n",
       "      <th></th>\n",
       "      <th>0</th>\n",
       "      <th>1</th>\n",
       "      <th>2</th>\n",
       "      <th>3</th>\n",
       "      <th>4</th>\n",
       "      <th>5</th>\n",
       "      <th>6</th>\n",
       "      <th>7</th>\n",
       "      <th>8</th>\n",
       "      <th>9</th>\n",
       "      <th>...</th>\n",
       "      <th>247</th>\n",
       "      <th>248</th>\n",
       "      <th>249</th>\n",
       "      <th>250</th>\n",
       "      <th>251</th>\n",
       "      <th>252</th>\n",
       "      <th>253</th>\n",
       "      <th>254</th>\n",
       "      <th>255</th>\n",
       "      <th>256</th>\n",
       "    </tr>\n",
       "  </thead>\n",
       "  <tbody>\n",
       "    <tr>\n",
       "      <th>0</th>\n",
       "      <td>0</td>\n",
       "      <td>0</td>\n",
       "      <td>95</td>\n",
       "      <td>107</td>\n",
       "      <td>0</td>\n",
       "      <td>0</td>\n",
       "      <td>0</td>\n",
       "      <td>0</td>\n",
       "      <td>0</td>\n",
       "      <td>0</td>\n",
       "      <td>...</td>\n",
       "      <td>0</td>\n",
       "      <td>0</td>\n",
       "      <td>0</td>\n",
       "      <td>0</td>\n",
       "      <td>0</td>\n",
       "      <td>0</td>\n",
       "      <td>0</td>\n",
       "      <td>0</td>\n",
       "      <td>0</td>\n",
       "      <td>0</td>\n",
       "    </tr>\n",
       "    <tr>\n",
       "      <th>1</th>\n",
       "      <td>0</td>\n",
       "      <td>78</td>\n",
       "      <td>95</td>\n",
       "      <td>0</td>\n",
       "      <td>0</td>\n",
       "      <td>0</td>\n",
       "      <td>0</td>\n",
       "      <td>0</td>\n",
       "      <td>0</td>\n",
       "      <td>0</td>\n",
       "      <td>...</td>\n",
       "      <td>0</td>\n",
       "      <td>0</td>\n",
       "      <td>0</td>\n",
       "      <td>0</td>\n",
       "      <td>0</td>\n",
       "      <td>0</td>\n",
       "      <td>0</td>\n",
       "      <td>0</td>\n",
       "      <td>0</td>\n",
       "      <td>0</td>\n",
       "    </tr>\n",
       "    <tr>\n",
       "      <th>2</th>\n",
       "      <td>0</td>\n",
       "      <td>0</td>\n",
       "      <td>0</td>\n",
       "      <td>0</td>\n",
       "      <td>0</td>\n",
       "      <td>0</td>\n",
       "      <td>0</td>\n",
       "      <td>0</td>\n",
       "      <td>0</td>\n",
       "      <td>0</td>\n",
       "      <td>...</td>\n",
       "      <td>0</td>\n",
       "      <td>0</td>\n",
       "      <td>0</td>\n",
       "      <td>0</td>\n",
       "      <td>0</td>\n",
       "      <td>0</td>\n",
       "      <td>0</td>\n",
       "      <td>0</td>\n",
       "      <td>0</td>\n",
       "      <td>0</td>\n",
       "    </tr>\n",
       "    <tr>\n",
       "      <th>3</th>\n",
       "      <td>0</td>\n",
       "      <td>0</td>\n",
       "      <td>0</td>\n",
       "      <td>42</td>\n",
       "      <td>3</td>\n",
       "      <td>0</td>\n",
       "      <td>0</td>\n",
       "      <td>0</td>\n",
       "      <td>0</td>\n",
       "      <td>0</td>\n",
       "      <td>...</td>\n",
       "      <td>0</td>\n",
       "      <td>0</td>\n",
       "      <td>0</td>\n",
       "      <td>0</td>\n",
       "      <td>0</td>\n",
       "      <td>0</td>\n",
       "      <td>0</td>\n",
       "      <td>0</td>\n",
       "      <td>0</td>\n",
       "      <td>0</td>\n",
       "    </tr>\n",
       "    <tr>\n",
       "      <th>4</th>\n",
       "      <td>0</td>\n",
       "      <td>0</td>\n",
       "      <td>0</td>\n",
       "      <td>0</td>\n",
       "      <td>0</td>\n",
       "      <td>0</td>\n",
       "      <td>0</td>\n",
       "      <td>0</td>\n",
       "      <td>0</td>\n",
       "      <td>0</td>\n",
       "      <td>...</td>\n",
       "      <td>0</td>\n",
       "      <td>0</td>\n",
       "      <td>0</td>\n",
       "      <td>0</td>\n",
       "      <td>0</td>\n",
       "      <td>0</td>\n",
       "      <td>0</td>\n",
       "      <td>0</td>\n",
       "      <td>0</td>\n",
       "      <td>0</td>\n",
       "    </tr>\n",
       "  </tbody>\n",
       "</table>\n",
       "<p>5 rows × 257 columns</p>\n",
       "</div>"
      ],
      "text/plain": [
       "   0    1    2    3    4    5    6    7    8    9    ...  247  248  249  250  \\\n",
       "0    0    0   95  107    0    0    0    0    0    0  ...    0    0    0    0   \n",
       "1    0   78   95    0    0    0    0    0    0    0  ...    0    0    0    0   \n",
       "2    0    0    0    0    0    0    0    0    0    0  ...    0    0    0    0   \n",
       "3    0    0    0   42    3    0    0    0    0    0  ...    0    0    0    0   \n",
       "4    0    0    0    0    0    0    0    0    0    0  ...    0    0    0    0   \n",
       "\n",
       "   251  252  253  254  255  256  \n",
       "0    0    0    0    0    0    0  \n",
       "1    0    0    0    0    0    0  \n",
       "2    0    0    0    0    0    0  \n",
       "3    0    0    0    0    0    0  \n",
       "4    0    0    0    0    0    0  \n",
       "\n",
       "[5 rows x 257 columns]"
      ]
     },
     "execution_count": 8,
     "metadata": {},
     "output_type": "execute_result"
    }
   ],
   "source": [
    "import pandas as pd\n",
    "import numpy as np\n",
    "import scipy\n",
    "from scipy.stats import norm\n",
    "df = pd.read_csv(\"usps-2cls.csv\", header= None)\n",
    "\n",
    "df.head()"
   ]
  },
  {
   "cell_type": "code",
   "execution_count": 127,
   "metadata": {},
   "outputs": [],
   "source": [
    "class Bayes:\n",
    "    def fit(self,X,y):\n",
    "        classes = np.unique(y)\n",
    "        cls_dict={}\n",
    "        for cls in classes:\n",
    "            x_cls = X[y==cls]\n",
    "            loc = x_cls.mean(axis=0)\n",
    "            scale = np.std(x_cls, axis=0)\n",
    "            dist = norm(loc,scale)\n",
    "            cls_dict.update({cls:{\"dist\":dist}})\n",
    "        self.cls_dict = cls_dict\n",
    "    def pdf(self, dist, x):\n",
    "        return (dist.pdf(x)*1000).prod() #*1000 for numerical instability\n",
    "    def pred(self, x):\n",
    "        scores=[self.pdf(x=x, **v) for v in self.cls_dict.values()]\n",
    "        return np.argmax(scores)\n",
    "    def predict(self, X):\n",
    "        return list(map(self.pred, X))\n",
    "        "
   ]
  },
  {
   "cell_type": "code",
   "execution_count": 164,
   "metadata": {},
   "outputs": [],
   "source": [
    "from sklearn.model_selection import train_test_split\n",
    "def get_score(X,y, model, p):\n",
    "    test_size = 1-p\n",
    "    X_train, X_test, y_train, y_test = train_test_split(X, y, test_size=test_size)\n",
    "    model.fit(X_train, y_train)\n",
    "    y_pred_test = model.predict(X_test)\n",
    "    y_pred_train = model.predict(X_train)\n",
    "    test = accuracy_score(y_test, y_pred_test)\n",
    "    train = accuracy_score(y_train, y_pred_train)\n",
    "    return train,test\n"
   ]
  },
  {
   "cell_type": "code",
   "execution_count": 129,
   "metadata": {},
   "outputs": [],
   "source": [
    "n = 100"
   ]
  },
  {
   "cell_type": "code",
   "execution_count": 165,
   "metadata": {},
   "outputs": [],
   "source": [
    "X = df.iloc[:,:-1].to_numpy()\n",
    "y = df.iloc[:,-1].to_numpy()\n",
    "score_dict = {\"p\":[], \"train\":[], \"test\":[]}\n",
    "for p in [.1,.2,.5,.8,.9]:\n",
    "    train_sc = []\n",
    "    test_sc = []\n",
    "    for i in range(n):\n",
    "        bayes = Bayes() \n",
    "        train,test = get_score(X,y, bayes, p)\n",
    "        train_sc.append(train)\n",
    "        test_sc.append(test)\n",
    "    train = np.round(sum(train_sc)/len(train_sc), 2)\n",
    "    test = np.round(sum(test_sc)/len(test_sc), 2)\n",
    "    score_dict[\"p\"].append(p)\n",
    "    score_dict[\"train\"].append(1-train)\n",
    "    score_dict[\"test\"].append(1-test)\n"
   ]
  },
  {
   "cell_type": "code",
   "execution_count": 166,
   "metadata": {},
   "outputs": [
    {
     "name": "stdout",
     "output_type": "stream",
     "text": [
      "\\begin{tabular}{lrrr}\n",
      "\\toprule\n",
      "{} &    p &  train &  test \\\\\n",
      "\\midrule\n",
      "0 &  0.1 &   0.50 &  0.50 \\\\\n",
      "1 &  0.2 &   0.50 &  0.50 \\\\\n",
      "2 &  0.5 &   0.47 &  0.47 \\\\\n",
      "3 &  0.8 &   0.29 &  0.29 \\\\\n",
      "4 &  0.9 &   0.19 &  0.19 \\\\\n",
      "\\bottomrule\n",
      "\\end{tabular}\n",
      "\n"
     ]
    }
   ],
   "source": [
    "print(pd.DataFrame(score_dict).to_latex())"
   ]
  },
  {
   "cell_type": "code",
   "execution_count": 172,
   "metadata": {},
   "outputs": [
    {
     "name": "stdout",
     "output_type": "stream",
     "text": [
      "scores for k = 5\n",
      "scores for k = 10\n",
      "scores for k = 15\n",
      "scores for k = 30\n"
     ]
    }
   ],
   "source": [
    "# knn\n",
    "from sklearn.neighbors import KNeighborsClassifier\n",
    "kneighbor_dict = {}\n",
    "for k in [5,10,15,30]:\n",
    "    print(f\"scores for k = {k}\")\n",
    "    score_dict = {\"p\":[], \"train\":[], \"test\":[]}\n",
    "    for p in [.1,.2,.5,.8,.9]:\n",
    "        train_sc = []\n",
    "        test_sc = []\n",
    "        for i in range(n):\n",
    "            knn = KNeighborsClassifier(n_neighbors = k)  \n",
    "            train,test = get_score(X,y, knn, p)\n",
    "            train_sc.append(train)\n",
    "            test_sc.append(test)\n",
    "        train = np.round(sum(train_sc)/len(train_sc), 2)\n",
    "        test = np.round(sum(test_sc)/len(test_sc), 2)\n",
    "        score_dict[\"p\"].append(p)\n",
    "        score_dict[\"train\"].append(1-train)\n",
    "        score_dict[\"test\"].append(1-test)\n",
    "    kneighbor_dict.update({k:score_dict})\n"
   ]
  },
  {
   "cell_type": "code",
   "execution_count": 173,
   "metadata": {},
   "outputs": [],
   "source": [
    "new_dict ={}\n",
    "for key, value in kneighbor_dict.items():\n",
    "    for k,v in value.items():\n",
    "        if k ==\"p\":\n",
    "            continue\n",
    "        new_dict.update({(f\"k={key}\", k): v})"
   ]
  },
  {
   "cell_type": "code",
   "execution_count": 174,
   "metadata": {},
   "outputs": [
    {
     "data": {
      "text/plain": [
       "{5: {'p': [0.1, 0.2, 0.5, 0.8, 0.9],\n",
       "  'train': [0.050000000000000044,\n",
       "   0.030000000000000027,\n",
       "   0.020000000000000018,\n",
       "   0.020000000000000018,\n",
       "   0.020000000000000018],\n",
       "  'test': [0.08999999999999997,\n",
       "   0.06000000000000005,\n",
       "   0.040000000000000036,\n",
       "   0.030000000000000027,\n",
       "   0.030000000000000027]},\n",
       " 10: {'p': [0.1, 0.2, 0.5, 0.8, 0.9],\n",
       "  'train': [0.08999999999999997,\n",
       "   0.06000000000000005,\n",
       "   0.040000000000000036,\n",
       "   0.030000000000000027,\n",
       "   0.030000000000000027],\n",
       "  'test': [0.13,\n",
       "   0.08999999999999997,\n",
       "   0.050000000000000044,\n",
       "   0.040000000000000036,\n",
       "   0.030000000000000027]},\n",
       " 15: {'p': [0.1, 0.2, 0.5, 0.8, 0.9],\n",
       "  'train': [0.08999999999999997,\n",
       "   0.06000000000000005,\n",
       "   0.040000000000000036,\n",
       "   0.030000000000000027,\n",
       "   0.030000000000000027],\n",
       "  'test': [0.10999999999999999,\n",
       "   0.07999999999999996,\n",
       "   0.050000000000000044,\n",
       "   0.040000000000000036,\n",
       "   0.030000000000000027]},\n",
       " 30: {'p': [0.1, 0.2, 0.5, 0.8, 0.9],\n",
       "  'train': [0.14,\n",
       "   0.09999999999999998,\n",
       "   0.06000000000000005,\n",
       "   0.050000000000000044,\n",
       "   0.050000000000000044],\n",
       "  'test': [0.16000000000000003,\n",
       "   0.10999999999999999,\n",
       "   0.06999999999999995,\n",
       "   0.050000000000000044,\n",
       "   0.050000000000000044]}}"
      ]
     },
     "execution_count": 174,
     "metadata": {},
     "output_type": "execute_result"
    }
   ],
   "source": [
    "kneighbor_dict"
   ]
  },
  {
   "cell_type": "code",
   "execution_count": 157,
   "metadata": {},
   "outputs": [
    {
     "data": {
      "text/plain": [
       "[0.1, 0.2, 0.5, 0.8, 0.9]"
      ]
     },
     "execution_count": 157,
     "metadata": {},
     "output_type": "execute_result"
    }
   ],
   "source": [
    "kneighbor_dict[5][\"p\"]"
   ]
  },
  {
   "cell_type": "code",
   "execution_count": 175,
   "metadata": {},
   "outputs": [
    {
     "name": "stdout",
     "output_type": "stream",
     "text": [
      "\\begin{tabular}{lrrrrrrrr}\n",
      "\\toprule\n",
      "{} & \\multicolumn{2}{l}{k=5} & \\multicolumn{2}{l}{k=10} & \\multicolumn{2}{l}{k=15} & \\multicolumn{2}{l}{k=30} \\\\\n",
      "{} & train &  test & train &  test & train &  test & train &  test \\\\\n",
      "p   &       &       &       &       &       &       &       &       \\\\\n",
      "\\midrule\n",
      "0.1 &  0.05 &  0.09 &  0.09 &  0.13 &  0.09 &  0.11 &  0.14 &  0.16 \\\\\n",
      "0.2 &  0.03 &  0.06 &  0.06 &  0.09 &  0.06 &  0.08 &  0.10 &  0.11 \\\\\n",
      "0.5 &  0.02 &  0.04 &  0.04 &  0.05 &  0.04 &  0.05 &  0.06 &  0.07 \\\\\n",
      "0.8 &  0.02 &  0.03 &  0.03 &  0.04 &  0.03 &  0.04 &  0.05 &  0.05 \\\\\n",
      "0.9 &  0.02 &  0.03 &  0.03 &  0.03 &  0.03 &  0.03 &  0.05 &  0.05 \\\\\n",
      "\\bottomrule\n",
      "\\end{tabular}\n",
      "\n"
     ]
    }
   ],
   "source": [
    "r = pd.DataFrame(new_dict)\n",
    "r.index = kneighbor_dict[5][\"p\"]\n",
    "r.index.name = \"p\"\n",
    "print(r.to_latex())"
   ]
  },
  {
   "cell_type": "code",
   "execution_count": null,
   "metadata": {},
   "outputs": [],
   "source": []
  }
 ],
 "metadata": {
  "kernelspec": {
   "display_name": "cv",
   "language": "python",
   "name": "cv"
  },
  "language_info": {
   "codemirror_mode": {
    "name": "ipython",
    "version": 3
   },
   "file_extension": ".py",
   "mimetype": "text/x-python",
   "name": "python",
   "nbconvert_exporter": "python",
   "pygments_lexer": "ipython3",
   "version": "3.6.8"
  }
 },
 "nbformat": 4,
 "nbformat_minor": 2
}

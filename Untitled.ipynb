{
 "cells": [
  {
   "cell_type": "code",
   "execution_count": 6,
   "metadata": {},
   "outputs": [
    {
     "data": {
      "text/plain": [
       "2016-07-01 00:00:00   -2.129724\n",
       "2016-07-01 00:15:00   -1.268466\n",
       "2016-07-01 00:30:00   -1.970500\n",
       "2016-07-01 00:45:00   -2.259055\n",
       "2016-07-01 01:00:00   -0.349286\n",
       "Freq: 15T, Name: HelloTimeSeries, dtype: float64"
      ]
     },
     "execution_count": 6,
     "metadata": {},
     "output_type": "execute_result"
    }
   ],
   "source": [
    "import pandas as pd\n",
    "import numpy as np\n",
    "import matplotlib.pyplot as plt\n",
    "\n",
    "# I want 7 days of 24 hours with 60 minutes each\n",
    "periods = 7 * 24 * 60\n",
    "tidx = pd.date_range('2016-07-01', periods=periods, freq='15min')\n",
    "#                     ^                                   ^\n",
    "#                     |                                   |\n",
    "#                 Start Date        Frequency Code for Minute\n",
    "# This should get me 7 Days worth of minutes in a datetimeindex\n",
    "\n",
    "# Generate random data with numpy.  We'll seed the random\n",
    "# number generator so that others can see the same results.\n",
    "# Otherwise, you don't have to seed it.\n",
    "np.random.seed([3,1415])\n",
    "\n",
    "# This will pick a number of normally distributed random numbers\n",
    "# where the number is specified by periods\n",
    "data = np.random.randn(periods)\n",
    "\n",
    "ts = pd.Series(data=data, index=tidx, name='HelloTimeSeries')\n",
    "\n",
    "ts.describe()\n",
    "ts.head()"
   ]
  },
  {
   "cell_type": "code",
   "execution_count": 7,
   "metadata": {},
   "outputs": [
    {
     "data": {
      "text/plain": [
       "2016-07-01 00:00:00         NaN\n",
       "2016-07-01 00:15:00   -1.789563\n",
       "2016-07-01 00:30:00   -1.832674\n",
       "2016-07-01 00:45:00   -1.526280\n",
       "2016-07-01 01:00:00   -0.878432\n",
       "2016-07-01 01:15:00   -0.020002\n",
       "2016-07-01 01:30:00    0.212688\n",
       "2016-07-01 01:45:00    0.460128\n",
       "2016-07-01 02:00:00    0.611637\n",
       "2016-07-01 02:15:00    0.292640\n",
       "2016-07-01 02:30:00    0.171649\n",
       "2016-07-01 02:45:00   -0.202780\n",
       "2016-07-01 03:00:00   -0.138666\n",
       "2016-07-01 03:15:00   -0.559988\n",
       "2016-07-01 03:30:00   -0.489994\n",
       "2016-07-01 03:45:00   -0.102425\n",
       "2016-07-01 04:00:00   -0.299952\n",
       "2016-07-01 04:15:00   -0.048652\n",
       "2016-07-01 04:30:00   -0.164192\n",
       "2016-07-01 04:45:00    0.017379\n",
       "2016-07-01 05:00:00    0.311667\n",
       "2016-07-01 05:15:00    0.062758\n",
       "2016-07-01 05:30:00   -0.107947\n",
       "2016-07-01 05:45:00   -0.251608\n",
       "2016-07-01 06:00:00    0.218227\n",
       "2016-07-01 06:15:00    0.906034\n",
       "2016-07-01 06:30:00    0.650357\n",
       "2016-07-01 06:45:00    0.037780\n",
       "2016-07-01 07:00:00    0.117644\n",
       "2016-07-01 07:15:00    0.514565\n",
       "                         ...   \n",
       "2016-10-13 16:30:00   -0.021429\n",
       "2016-10-13 16:45:00    0.353875\n",
       "2016-10-13 17:00:00    0.448682\n",
       "2016-10-13 17:15:00   -0.000089\n",
       "2016-10-13 17:30:00    0.333085\n",
       "2016-10-13 17:45:00    0.741447\n",
       "2016-10-13 18:00:00    1.290810\n",
       "2016-10-13 18:15:00    0.694418\n",
       "2016-10-13 18:30:00   -0.282963\n",
       "2016-10-13 18:45:00   -0.479443\n",
       "2016-10-13 19:00:00   -0.546460\n",
       "2016-10-13 19:15:00   -0.305481\n",
       "2016-10-13 19:30:00   -0.046760\n",
       "2016-10-13 19:45:00    0.363587\n",
       "2016-10-13 20:00:00    0.765619\n",
       "2016-10-13 20:15:00    0.270638\n",
       "2016-10-13 20:30:00    0.189355\n",
       "2016-10-13 20:45:00   -0.275644\n",
       "2016-10-13 21:00:00    0.149582\n",
       "2016-10-13 21:15:00    0.069332\n",
       "2016-10-13 21:30:00    0.299995\n",
       "2016-10-13 21:45:00   -0.256621\n",
       "2016-10-13 22:00:00   -0.046345\n",
       "2016-10-13 22:15:00   -0.217960\n",
       "2016-10-13 22:30:00   -0.683066\n",
       "2016-10-13 22:45:00   -1.182624\n",
       "2016-10-13 23:00:00   -1.305012\n",
       "2016-10-13 23:15:00   -0.704600\n",
       "2016-10-13 23:30:00   -0.800924\n",
       "2016-10-13 23:45:00         NaN\n",
       "Freq: 15T, Name: HelloTimeSeries, Length: 10080, dtype: float64"
      ]
     },
     "execution_count": 7,
     "metadata": {},
     "output_type": "execute_result"
    }
   ],
   "source": [
    "ts.rolling(window = 3, center = True).mean()"
   ]
  }
 ],
 "metadata": {
  "kernelspec": {
   "display_name": "Python3 General ds env",
   "language": "python",
   "name": "ds"
  },
  "language_info": {
   "codemirror_mode": {
    "name": "ipython",
    "version": 3
   },
   "file_extension": ".py",
   "mimetype": "text/x-python",
   "name": "python",
   "nbconvert_exporter": "python",
   "pygments_lexer": "ipython3",
   "version": "3.6.9"
  }
 },
 "nbformat": 4,
 "nbformat_minor": 2
}

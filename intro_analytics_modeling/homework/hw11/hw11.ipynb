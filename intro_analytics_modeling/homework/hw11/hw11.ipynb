{
 "cells": [
  {
   "cell_type": "markdown",
   "metadata": {},
   "source": [
    "# HW 11 \n",
    "\n",
    "## Question 15.2\n",
    "\n",
    "In the videos, we saw the “diet problem”. (The diet problem is one of the first large-scale optimization\n",
    "problems to be studied in practice. Back in the 1930’s and 40’s, the Army wanted to meet the nutritional\n",
    "requirements of its soldiers while minimizing the cost.) In this homework you get to solve a diet problem with real data. The data is given in the file diet.xls."
   ]
  },
  {
   "cell_type": "code",
   "execution_count": 1,
   "metadata": {
    "collapsed": false,
    "deletable": true,
    "editable": true
   },
   "outputs": [
    {
     "data": {
      "text/plain": [
       "{'Calcium_mg': {'maximum': 1500, 'minimum': 700},\n",
       " 'Calories': {'maximum': 2500, 'minimum': 1500},\n",
       " 'Carbohydrates_g': {'maximum': 450, 'minimum': 130},\n",
       " 'Cholesterol_mg': {'maximum': 240, 'minimum': 30},\n",
       " 'Dietary_Fiber_g': {'maximum': 250, 'minimum': 125},\n",
       " 'Iron_mg': {'maximum': 40, 'minimum': 10},\n",
       " 'Protein_g': {'maximum': 100, 'minimum': 60},\n",
       " 'Sodium_mg': {'maximum': 2000, 'minimum': 800},\n",
       " 'Total_Fat_g': {'maximum': 70, 'minimum': 20},\n",
       " 'Vit_A_IU': {'maximum': 10000, 'minimum': 1000},\n",
       " 'Vit_C_IU': {'maximum': 5000, 'minimum': 400}}"
      ]
     },
     "execution_count": 1,
     "metadata": {},
     "output_type": "execute_result"
    }
   ],
   "source": [
    "import pandas as pd\n",
    "\n",
    "daily_intake = {'Calories':{'minimum':1500,'maximum':2500},\n",
    "                'Cholesterol_mg':{'minimum':30,'maximum':240},\n",
    "                'Total_Fat_g':{'minimum':20,'maximum':70}, \n",
    "                'Sodium_mg':{'minimum':800,'maximum':2000},\n",
    "                'Carbohydrates_g':{'minimum':130,'maximum':450}, \n",
    "                'Dietary_Fiber_g':{'minimum':125,'maximum':250},\n",
    "                'Protein_g':{'minimum':60,'maximum':100},\n",
    "                'Vit_A_IU':{'minimum':1000,'maximum':10000},\n",
    "                'Vit_C_IU':{'minimum':400,'maximum':5000},\n",
    "                'Calcium_mg':{'minimum':700,'maximum':1500},\n",
    "                'Iron_mg':{'minimum':10,'maximum':40}\n",
    "               }\n",
    "daily_intake"
   ]
  },
  {
   "cell_type": "code",
   "execution_count": 2,
   "metadata": {
    "collapsed": false,
    "deletable": true,
    "editable": true
   },
   "outputs": [
    {
     "data": {
      "text/html": [
       "<div>\n",
       "<table border=\"1\" class=\"dataframe\">\n",
       "  <thead>\n",
       "    <tr style=\"text-align: right;\">\n",
       "      <th></th>\n",
       "      <th>Foods</th>\n",
       "      <th>Price/ Serving</th>\n",
       "      <th>Serving Size</th>\n",
       "      <th>Calories</th>\n",
       "      <th>Cholesterol mg</th>\n",
       "      <th>Total_Fat g</th>\n",
       "      <th>Sodium mg</th>\n",
       "      <th>Carbohydrates g</th>\n",
       "      <th>Dietary_Fiber g</th>\n",
       "      <th>Protein g</th>\n",
       "      <th>Vit_A IU</th>\n",
       "      <th>Vit_C IU</th>\n",
       "      <th>Calcium mg</th>\n",
       "      <th>Iron mg</th>\n",
       "    </tr>\n",
       "  </thead>\n",
       "  <tbody>\n",
       "    <tr>\n",
       "      <th>0</th>\n",
       "      <td>Frozen Broccoli</td>\n",
       "      <td>$0.16</td>\n",
       "      <td>10 Oz Pkg</td>\n",
       "      <td>73.8</td>\n",
       "      <td>0.0</td>\n",
       "      <td>0.8</td>\n",
       "      <td>68.2</td>\n",
       "      <td>13.6</td>\n",
       "      <td>8.5</td>\n",
       "      <td>8.0</td>\n",
       "      <td>5867.4</td>\n",
       "      <td>160.2</td>\n",
       "      <td>159.0</td>\n",
       "      <td>2.3</td>\n",
       "    </tr>\n",
       "    <tr>\n",
       "      <th>1</th>\n",
       "      <td>Carrots,Raw</td>\n",
       "      <td>$0.07</td>\n",
       "      <td>1/2 Cup Shredded</td>\n",
       "      <td>23.7</td>\n",
       "      <td>0.0</td>\n",
       "      <td>0.1</td>\n",
       "      <td>19.2</td>\n",
       "      <td>5.6</td>\n",
       "      <td>1.6</td>\n",
       "      <td>0.6</td>\n",
       "      <td>15471.0</td>\n",
       "      <td>5.1</td>\n",
       "      <td>14.9</td>\n",
       "      <td>0.3</td>\n",
       "    </tr>\n",
       "    <tr>\n",
       "      <th>2</th>\n",
       "      <td>Celery, Raw</td>\n",
       "      <td>$0.04</td>\n",
       "      <td>1 Stalk</td>\n",
       "      <td>6.4</td>\n",
       "      <td>0.0</td>\n",
       "      <td>0.1</td>\n",
       "      <td>34.8</td>\n",
       "      <td>1.5</td>\n",
       "      <td>0.7</td>\n",
       "      <td>0.3</td>\n",
       "      <td>53.6</td>\n",
       "      <td>2.8</td>\n",
       "      <td>16.0</td>\n",
       "      <td>0.2</td>\n",
       "    </tr>\n",
       "    <tr>\n",
       "      <th>3</th>\n",
       "      <td>Frozen Corn</td>\n",
       "      <td>$0.18</td>\n",
       "      <td>1/2 Cup</td>\n",
       "      <td>72.2</td>\n",
       "      <td>0.0</td>\n",
       "      <td>0.6</td>\n",
       "      <td>2.5</td>\n",
       "      <td>17.1</td>\n",
       "      <td>2.0</td>\n",
       "      <td>2.5</td>\n",
       "      <td>106.6</td>\n",
       "      <td>5.2</td>\n",
       "      <td>3.3</td>\n",
       "      <td>0.3</td>\n",
       "    </tr>\n",
       "    <tr>\n",
       "      <th>4</th>\n",
       "      <td>Lettuce,Iceberg,Raw</td>\n",
       "      <td>$0.02</td>\n",
       "      <td>1 Leaf</td>\n",
       "      <td>2.6</td>\n",
       "      <td>0.0</td>\n",
       "      <td>0.0</td>\n",
       "      <td>1.8</td>\n",
       "      <td>0.4</td>\n",
       "      <td>0.3</td>\n",
       "      <td>0.2</td>\n",
       "      <td>66.0</td>\n",
       "      <td>0.8</td>\n",
       "      <td>3.8</td>\n",
       "      <td>0.1</td>\n",
       "    </tr>\n",
       "  </tbody>\n",
       "</table>\n",
       "</div>"
      ],
      "text/plain": [
       "                 Foods Price/ Serving      Serving Size  Calories  \\\n",
       "0      Frozen Broccoli         $0.16          10 Oz Pkg      73.8   \n",
       "1          Carrots,Raw         $0.07   1/2 Cup Shredded      23.7   \n",
       "2          Celery, Raw         $0.04            1 Stalk       6.4   \n",
       "3          Frozen Corn         $0.18            1/2 Cup      72.2   \n",
       "4  Lettuce,Iceberg,Raw         $0.02             1 Leaf       2.6   \n",
       "\n",
       "   Cholesterol mg  Total_Fat g  Sodium mg  Carbohydrates g  Dietary_Fiber g  \\\n",
       "0             0.0          0.8       68.2             13.6              8.5   \n",
       "1             0.0          0.1       19.2              5.6              1.6   \n",
       "2             0.0          0.1       34.8              1.5              0.7   \n",
       "3             0.0          0.6        2.5             17.1              2.0   \n",
       "4             0.0          0.0        1.8              0.4              0.3   \n",
       "\n",
       "   Protein g  Vit_A IU  Vit_C IU  Calcium mg  Iron mg  \n",
       "0        8.0    5867.4     160.2       159.0      2.3  \n",
       "1        0.6   15471.0       5.1        14.9      0.3  \n",
       "2        0.3      53.6       2.8        16.0      0.2  \n",
       "3        2.5     106.6       5.2         3.3      0.3  \n",
       "4        0.2      66.0       0.8         3.8      0.1  "
      ]
     },
     "execution_count": 2,
     "metadata": {},
     "output_type": "execute_result"
    }
   ],
   "source": [
    "diet = pd.read_csv('diet.csv')\n",
    "diet.head()"
   ]
  },
  {
   "cell_type": "code",
   "execution_count": 3,
   "metadata": {
    "collapsed": false,
    "deletable": true,
    "editable": true
   },
   "outputs": [
    {
     "data": {
      "text/html": [
       "<div>\n",
       "<table border=\"1\" class=\"dataframe\">\n",
       "  <thead>\n",
       "    <tr style=\"text-align: right;\">\n",
       "      <th></th>\n",
       "      <th>Foods</th>\n",
       "      <th>Price/ Serving</th>\n",
       "      <th>Serving Size</th>\n",
       "      <th>Calories</th>\n",
       "      <th>Cholesterol mg</th>\n",
       "      <th>Total_Fat g</th>\n",
       "      <th>Sodium mg</th>\n",
       "      <th>Carbohydrates g</th>\n",
       "      <th>Dietary_Fiber g</th>\n",
       "      <th>Protein g</th>\n",
       "      <th>Vit_A IU</th>\n",
       "      <th>Vit_C IU</th>\n",
       "      <th>Calcium mg</th>\n",
       "      <th>Iron mg</th>\n",
       "    </tr>\n",
       "  </thead>\n",
       "  <tbody>\n",
       "    <tr>\n",
       "      <th>62</th>\n",
       "      <td>Crm Mshrm Soup,W/Mlk</td>\n",
       "      <td>$0.65</td>\n",
       "      <td>1 C (8 Fl Oz)</td>\n",
       "      <td>203.4</td>\n",
       "      <td>19.8</td>\n",
       "      <td>13.6</td>\n",
       "      <td>1076.3</td>\n",
       "      <td>15.0</td>\n",
       "      <td>0.5</td>\n",
       "      <td>6.1</td>\n",
       "      <td>153.8</td>\n",
       "      <td>2.2</td>\n",
       "      <td>178.6</td>\n",
       "      <td>0.6</td>\n",
       "    </tr>\n",
       "    <tr>\n",
       "      <th>63</th>\n",
       "      <td>Beanbacn Soup,W/Watr</td>\n",
       "      <td>$0.67</td>\n",
       "      <td>1 C (8 Fl Oz)</td>\n",
       "      <td>172.0</td>\n",
       "      <td>2.5</td>\n",
       "      <td>5.9</td>\n",
       "      <td>951.3</td>\n",
       "      <td>22.8</td>\n",
       "      <td>8.6</td>\n",
       "      <td>7.9</td>\n",
       "      <td>888.0</td>\n",
       "      <td>1.5</td>\n",
       "      <td>81.0</td>\n",
       "      <td>2.0</td>\n",
       "    </tr>\n",
       "    <tr>\n",
       "      <th>64</th>\n",
       "      <td>NaN</td>\n",
       "      <td>NaN</td>\n",
       "      <td>NaN</td>\n",
       "      <td>NaN</td>\n",
       "      <td>NaN</td>\n",
       "      <td>NaN</td>\n",
       "      <td>NaN</td>\n",
       "      <td>NaN</td>\n",
       "      <td>NaN</td>\n",
       "      <td>NaN</td>\n",
       "      <td>NaN</td>\n",
       "      <td>NaN</td>\n",
       "      <td>NaN</td>\n",
       "      <td>NaN</td>\n",
       "    </tr>\n",
       "    <tr>\n",
       "      <th>65</th>\n",
       "      <td>NaN</td>\n",
       "      <td>NaN</td>\n",
       "      <td>NaN</td>\n",
       "      <td>NaN</td>\n",
       "      <td>NaN</td>\n",
       "      <td>NaN</td>\n",
       "      <td>NaN</td>\n",
       "      <td>NaN</td>\n",
       "      <td>NaN</td>\n",
       "      <td>NaN</td>\n",
       "      <td>NaN</td>\n",
       "      <td>NaN</td>\n",
       "      <td>NaN</td>\n",
       "      <td>NaN</td>\n",
       "    </tr>\n",
       "    <tr>\n",
       "      <th>66</th>\n",
       "      <td>NaN</td>\n",
       "      <td>NaN</td>\n",
       "      <td>NaN</td>\n",
       "      <td>NaN</td>\n",
       "      <td>NaN</td>\n",
       "      <td>NaN</td>\n",
       "      <td>NaN</td>\n",
       "      <td>NaN</td>\n",
       "      <td>NaN</td>\n",
       "      <td>NaN</td>\n",
       "      <td>NaN</td>\n",
       "      <td>NaN</td>\n",
       "      <td>NaN</td>\n",
       "      <td>NaN</td>\n",
       "    </tr>\n",
       "  </tbody>\n",
       "</table>\n",
       "</div>"
      ],
      "text/plain": [
       "                   Foods Price/ Serving   Serving Size  Calories  \\\n",
       "62  Crm Mshrm Soup,W/Mlk         $0.65   1 C (8 Fl Oz)     203.4   \n",
       "63  Beanbacn Soup,W/Watr         $0.67   1 C (8 Fl Oz)     172.0   \n",
       "64                   NaN            NaN            NaN       NaN   \n",
       "65                   NaN            NaN            NaN       NaN   \n",
       "66                   NaN            NaN            NaN       NaN   \n",
       "\n",
       "    Cholesterol mg  Total_Fat g  Sodium mg  Carbohydrates g  Dietary_Fiber g  \\\n",
       "62            19.8         13.6     1076.3             15.0              0.5   \n",
       "63             2.5          5.9      951.3             22.8              8.6   \n",
       "64             NaN          NaN        NaN              NaN              NaN   \n",
       "65             NaN          NaN        NaN              NaN              NaN   \n",
       "66             NaN          NaN        NaN              NaN              NaN   \n",
       "\n",
       "    Protein g  Vit_A IU  Vit_C IU  Calcium mg  Iron mg  \n",
       "62        6.1     153.8       2.2       178.6      0.6  \n",
       "63        7.9     888.0       1.5        81.0      2.0  \n",
       "64        NaN       NaN       NaN         NaN      NaN  \n",
       "65        NaN       NaN       NaN         NaN      NaN  \n",
       "66        NaN       NaN       NaN         NaN      NaN  "
      ]
     },
     "execution_count": 3,
     "metadata": {},
     "output_type": "execute_result"
    }
   ],
   "source": [
    "diet.tail()"
   ]
  },
  {
   "cell_type": "code",
   "execution_count": 4,
   "metadata": {
    "collapsed": false,
    "deletable": true,
    "editable": true
   },
   "outputs": [],
   "source": [
    "#quick string clean up\n",
    "diet.dropna(inplace = True)\n",
    "diet['Foods'] = [x.replace(' ','_').replace(',','').replace('/','').replace('-','_') for x in diet['Foods']]\n",
    "diet['Price/ Serving'] = [x.replace('$','') for x in diet['Price/ Serving']]\n",
    "diet['Price/ Serving']= diet['Price/ Serving'].astype('float',inplace = True)\n",
    "#used for constraints later\n",
    "diet['is_protein'] = 0\n",
    "diet['is_protein'] = diet.apply(lambda x:  1 if x['Protein g'] >20 else 0 , axis = 1)\n"
   ]
  },
  {
   "cell_type": "markdown",
   "metadata": {},
   "source": [
    "### 1. Formulate an optimization model (a linear program) to find the cheapest diet that satisfies the maximum and minimum daily nutrition constraints, and solve it using PuLP. Turn in your code and the solution. (The optimal solution should be a diet of air-popped popcorn, poached eggs, oranges, raw iceberg lettuce, raw celery, and frozen broccoli. UGH!)"
   ]
  },
  {
   "cell_type": "code",
   "execution_count": 5,
   "metadata": {
    "collapsed": false,
    "deletable": true,
    "editable": true
   },
   "outputs": [],
   "source": [
    "from pulp import *"
   ]
  },
  {
   "cell_type": "code",
   "execution_count": 6,
   "metadata": {
    "collapsed": false,
    "deletable": true,
    "editable": true
   },
   "outputs": [],
   "source": [
    "problem = LpProblem('Diet Problem', LpMinimize)\n",
    "#create variables for percentage of food eaten\n",
    "percent = LpVariable.dicts(\"perc\",diet['Foods'],0)\n",
    "#create binary variable for various constraints\n",
    "used = LpVariable.dicts(\"used\",diet['Foods'],0,1, cat = 'Binary')\n"
   ]
  },
  {
   "cell_type": "code",
   "execution_count": 7,
   "metadata": {
    "collapsed": false,
    "deletable": true,
    "editable": true
   },
   "outputs": [],
   "source": [
    "#build the objective function and add it to problem\n",
    "problem +=lpSum([diet[diet['Foods'] == k]['Price/ Serving']*v for k,v in percent.items()])"
   ]
  },
  {
   "cell_type": "code",
   "execution_count": 8,
   "metadata": {
    "collapsed": false,
    "deletable": true,
    "editable": true
   },
   "outputs": [],
   "source": [
    "#build nutritional constraints \n",
    "from collections import defaultdict\n",
    "const_dict = defaultdict(float)\n",
    "for k,v in percent.items():\n",
    "    row = diet[diet['Foods']==k].loc[:,'Calories':'Iron mg']\n",
    "    for i,vals in row.items():\n",
    "        const_dict[i]+= v*vals.values[0]"
   ]
  },
  {
   "cell_type": "code",
   "execution_count": 9,
   "metadata": {
    "collapsed": false,
    "deletable": true,
    "editable": true
   },
   "outputs": [],
   "source": [
    "#add constraints to model with minimums and maximums\n",
    "for key,value in const_dict.items():\n",
    "    k = key.replace(' ','_').replace(',','').replace('/','').replace('-','_')\n",
    "    dly_intk_min = daily_intake[k]['minimum']\n",
    "    dly_intk_max = daily_intake[k]['maximum']\n",
    "    problem+= value >= dly_intk_min, '{}_min_requirement'.format(k)\n",
    "    problem+= value <= dly_intk_max, '{}_max_requirement'.format(k)\n",
    "    "
   ]
  },
  {
   "cell_type": "markdown",
   "metadata": {},
   "source": [
    "### Answer"
   ]
  },
  {
   "cell_type": "code",
   "execution_count": 10,
   "metadata": {
    "collapsed": false
   },
   "outputs": [
    {
     "name": "stdout",
     "output_type": "stream",
     "text": [
      "Status: Optimal\n",
      "perc_Celery_Raw = 52.64371\n",
      "perc_Frozen_Broccoli = 0.25960653\n",
      "perc_LettuceIcebergRaw = 63.988506\n",
      "perc_Oranges = 2.2929389\n",
      "perc_Poached_Eggs = 0.14184397\n",
      "perc_PopcornAir_Popped = 13.869322\n"
     ]
    }
   ],
   "source": [
    "problem.writeLP(\"DietModel.lp\")\n",
    "problem.solve()\n",
    "print(\"Status:\", LpStatus[problem.status])\n",
    "for v in problem.variables():\n",
    "    if v.varValue>0:\n",
    "        if 'perc' in v.name:\n",
    "             print(v.name, \"=\", v.varValue)"
   ]
  },
  {
   "cell_type": "markdown",
   "metadata": {},
   "source": [
    "### 2. Please add to your model the following constraints (which might require adding more variables) and solve the new model:\n",
    "    a. If a food is selected, then a minimum of 1/10 serving must be chosen. (Hint: now you will need two variables for each food i: whether it is chosen, and how much is part of the diet. You’ll also need to write a constraint to link them.)\n",
    "    b. Many people dislike celery and frozen broccoli. So at most one, but not both, can be selected.\n",
    "    c. To get day-to-day variety in protein, at least 3 kinds of meat/poultry/fish/eggs must be selected. [If something is ambiguous (e.g., should bean-and-bacon soup be considered meat?), just call it whatever you think is appropriate – I want you to learn how to write this type of constraint, but I don’t really care whether we agree on how to classify foods!]"
   ]
  },
  {
   "cell_type": "code",
   "execution_count": 11,
   "metadata": {
    "collapsed": false,
    "deletable": true,
    "editable": true
   },
   "outputs": [],
   "source": [
    "#new constraints\n",
    "for k,v in used.items():\n",
    "    problem += percent[k] >= used[k]*0.1 #the a part\n",
    "    problem += percent[k] <= used[k]*1e4\n",
    "    row = diet[diet['Foods']==k]['is_protein']\n",
    "    \n",
    "problem += lpSum([used['Frozen_Broccoli'], used['Celery_Raw']]) == 1 #the b part\n",
    "problem += lpSum([diet[diet['Foods'] == food]['is_protein']*used[food] for food in diet['Foods']]) == 3, 'Protein' #the c part"
   ]
  },
  {
   "cell_type": "markdown",
   "metadata": {},
   "source": [
    "### Answer"
   ]
  },
  {
   "cell_type": "code",
   "execution_count": 12,
   "metadata": {
    "collapsed": false,
    "deletable": true,
    "editable": true
   },
   "outputs": [
    {
     "name": "stdout",
     "output_type": "stream",
     "text": [
      "Status: Optimal\n",
      "perc_Celery_Raw = 41.384617\n",
      "perc_LettuceIcebergRaw = 88.060874\n",
      "perc_Oranges = 3.0624731\n",
      "perc_Peanut_Butter = 1.5864874\n",
      "perc_Poached_Eggs = 0.1\n",
      "perc_PopcornAir_Popped = 13.206329\n",
      "perc_Roasted_Chicken = 0.1\n",
      "perc_Taco = 0.1\n",
      "perc_White_Tuna_in_Water = 0.1\n"
     ]
    }
   ],
   "source": [
    "problem.writeLP(\"DietModel.lp\")\n",
    "problem.solve()\n",
    "print(\"Status:\", LpStatus[problem.status])\n",
    "for v in problem.variables():\n",
    "    if v.varValue>0:\n",
    "        if 'perc' in v.name:\n",
    "             print(v.name, \"=\", v.varValue)"
   ]
  },
  {
   "cell_type": "markdown",
   "metadata": {},
   "source": [
    "# Extra Diet Large"
   ]
  },
  {
   "cell_type": "code",
   "execution_count": 13,
   "metadata": {
    "collapsed": false
   },
   "outputs": [
    {
     "data": {
      "text/html": [
       "<div>\n",
       "<table border=\"1\" class=\"dataframe\">\n",
       "  <thead>\n",
       "    <tr style=\"text-align: right;\">\n",
       "      <th></th>\n",
       "      <th>Long_Desc</th>\n",
       "      <th>Protein</th>\n",
       "      <th>Carbohydrate, by difference</th>\n",
       "      <th>Energy</th>\n",
       "      <th>Water</th>\n",
       "      <th>Energy.1</th>\n",
       "      <th>Calcium, Ca</th>\n",
       "      <th>Iron, Fe</th>\n",
       "      <th>Magnesium, Mg</th>\n",
       "      <th>Phosphorus, P</th>\n",
       "      <th>...</th>\n",
       "      <th>Riboflavin</th>\n",
       "      <th>Niacin</th>\n",
       "      <th>Pantothenic acid</th>\n",
       "      <th>Vitamin B-6</th>\n",
       "      <th>Folate, total</th>\n",
       "      <th>Vitamin B-12</th>\n",
       "      <th>Vitamin K (phylloquinone)</th>\n",
       "      <th>Cholesterol</th>\n",
       "      <th>Fatty acids, total trans</th>\n",
       "      <th>Fatty acids, total saturated</th>\n",
       "    </tr>\n",
       "  </thead>\n",
       "  <tbody>\n",
       "    <tr>\n",
       "      <th>0</th>\n",
       "      <td>NaN</td>\n",
       "      <td>NaN</td>\n",
       "      <td>NaN</td>\n",
       "      <td>NaN</td>\n",
       "      <td>NaN</td>\n",
       "      <td>NaN</td>\n",
       "      <td>NaN</td>\n",
       "      <td>NaN</td>\n",
       "      <td>NaN</td>\n",
       "      <td>NaN</td>\n",
       "      <td>...</td>\n",
       "      <td>NaN</td>\n",
       "      <td>NaN</td>\n",
       "      <td>NaN</td>\n",
       "      <td>NaN</td>\n",
       "      <td>NaN</td>\n",
       "      <td>NaN</td>\n",
       "      <td>NaN</td>\n",
       "      <td>NaN</td>\n",
       "      <td>NaN</td>\n",
       "      <td>NaN</td>\n",
       "    </tr>\n",
       "    <tr>\n",
       "      <th>1</th>\n",
       "      <td>NaN</td>\n",
       "      <td>56</td>\n",
       "      <td>130</td>\n",
       "      <td>2400</td>\n",
       "      <td>3700</td>\n",
       "      <td>2400.0</td>\n",
       "      <td>1000</td>\n",
       "      <td>8</td>\n",
       "      <td>270</td>\n",
       "      <td>700</td>\n",
       "      <td>...</td>\n",
       "      <td>1.3</td>\n",
       "      <td>16</td>\n",
       "      <td>5</td>\n",
       "      <td>1.3</td>\n",
       "      <td>400</td>\n",
       "      <td>2.4</td>\n",
       "      <td>120</td>\n",
       "      <td>NaN</td>\n",
       "      <td>NaN</td>\n",
       "      <td>NaN</td>\n",
       "    </tr>\n",
       "    <tr>\n",
       "      <th>2</th>\n",
       "      <td>NaN</td>\n",
       "      <td>g/d</td>\n",
       "      <td>g/d</td>\n",
       "      <td>kcal</td>\n",
       "      <td>g</td>\n",
       "      <td>NaN</td>\n",
       "      <td>mg/d</td>\n",
       "      <td>mg/d</td>\n",
       "      <td>mg/d</td>\n",
       "      <td>mg/d</td>\n",
       "      <td>...</td>\n",
       "      <td>mg/d</td>\n",
       "      <td>mg/d</td>\n",
       "      <td>mg/d</td>\n",
       "      <td>mg/d</td>\n",
       "      <td>microg/d</td>\n",
       "      <td>microg/d</td>\n",
       "      <td>microg/d</td>\n",
       "      <td>NaN</td>\n",
       "      <td>NaN</td>\n",
       "      <td>NaN</td>\n",
       "    </tr>\n",
       "    <tr>\n",
       "      <th>3</th>\n",
       "      <td>NaN</td>\n",
       "      <td>1000000</td>\n",
       "      <td>1000000</td>\n",
       "      <td>1000000</td>\n",
       "      <td>1000000</td>\n",
       "      <td>1000000.0</td>\n",
       "      <td>2500</td>\n",
       "      <td>45</td>\n",
       "      <td>400</td>\n",
       "      <td>4000</td>\n",
       "      <td>...</td>\n",
       "      <td>1000000</td>\n",
       "      <td>35</td>\n",
       "      <td>1000000</td>\n",
       "      <td>100</td>\n",
       "      <td>1000</td>\n",
       "      <td>1000000</td>\n",
       "      <td>1000000</td>\n",
       "      <td>NaN</td>\n",
       "      <td>NaN</td>\n",
       "      <td>NaN</td>\n",
       "    </tr>\n",
       "  </tbody>\n",
       "</table>\n",
       "<p>4 rows × 31 columns</p>\n",
       "</div>"
      ],
      "text/plain": [
       "  Long_Desc  Protein Carbohydrate, by difference   Energy    Water   Energy.1  \\\n",
       "0       NaN      NaN                         NaN      NaN      NaN        NaN   \n",
       "1       NaN       56                         130     2400     3700     2400.0   \n",
       "2       NaN      g/d                         g/d     kcal        g        NaN   \n",
       "3       NaN  1000000                     1000000  1000000  1000000  1000000.0   \n",
       "\n",
       "  Calcium, Ca Iron, Fe Magnesium, Mg Phosphorus, P  \\\n",
       "0         NaN      NaN           NaN           NaN   \n",
       "1        1000        8           270           700   \n",
       "2        mg/d     mg/d          mg/d          mg/d   \n",
       "3        2500       45           400          4000   \n",
       "\n",
       "              ...              Riboflavin Niacin Pantothenic acid Vitamin B-6  \\\n",
       "0             ...                     NaN    NaN              NaN         NaN   \n",
       "1             ...                     1.3     16                5         1.3   \n",
       "2             ...                    mg/d   mg/d             mg/d        mg/d   \n",
       "3             ...                 1000000     35          1000000         100   \n",
       "\n",
       "  Folate, total Vitamin B-12 Vitamin K (phylloquinone) Cholesterol  \\\n",
       "0           NaN          NaN                       NaN         NaN   \n",
       "1           400          2.4                       120         NaN   \n",
       "2      microg/d     microg/d                  microg/d         NaN   \n",
       "3          1000      1000000                   1000000         NaN   \n",
       "\n",
       "  Fatty acids, total trans Fatty acids, total saturated  \n",
       "0                      NaN                          NaN  \n",
       "1                      NaN                          NaN  \n",
       "2                      NaN                          NaN  \n",
       "3                      NaN                          NaN  \n",
       "\n",
       "[4 rows x 31 columns]"
      ]
     },
     "execution_count": 13,
     "metadata": {},
     "output_type": "execute_result"
    }
   ],
   "source": [
    "diet_large = pd.read_csv('diet_large.csv')\n",
    "daily_intake = diet_large[-4:].reset_index(drop = True)\n",
    "diet_large = diet_large [:-4]\n",
    "daily_intake"
   ]
  },
  {
   "cell_type": "code",
   "execution_count": 14,
   "metadata": {
    "collapsed": false
   },
   "outputs": [
    {
     "data": {
      "text/plain": [
       "{'Calcium, Ca': {'maximum': 2500.0, 'minimum': 1000.0},\n",
       " 'Carbohydrate, by difference': {'maximum': 1000000.0, 'minimum': 130.0},\n",
       " 'Copper, Cu': {'maximum': 10.0, 'minimum': 0.9},\n",
       " 'Energy': {'maximum': 1000000.0, 'minimum': 2400.0},\n",
       " 'Energy.1': {'maximum': 1000000.0, 'minimum': 2400.0},\n",
       " 'Folate, total': {'maximum': 1000.0, 'minimum': 400.0},\n",
       " 'Iron, Fe': {'maximum': 45.0, 'minimum': 8.0},\n",
       " 'Magnesium, Mg': {'maximum': 400.0, 'minimum': 270.0},\n",
       " 'Manganese, Mn': {'maximum': 11.0, 'minimum': 2.3},\n",
       " 'Niacin': {'maximum': 35.0, 'minimum': 16.0},\n",
       " 'Pantothenic acid': {'maximum': 1000000.0, 'minimum': 5.0},\n",
       " 'Phosphorus, P': {'maximum': 4000.0, 'minimum': 700.0},\n",
       " 'Potassium, K': {'maximum': 1000000.0, 'minimum': 4700.0},\n",
       " 'Protein': {'maximum': 1000000.0, 'minimum': 56.0},\n",
       " 'Riboflavin': {'maximum': 1000000.0, 'minimum': 1.3},\n",
       " 'Selenium, Se': {'maximum': 400.0, 'minimum': 55.0},\n",
       " 'Sodium, Na': {'maximum': 2300.0, 'minimum': 1500.0},\n",
       " 'Thiamin': {'maximum': 1000000.0, 'minimum': 0.0012},\n",
       " 'Vitamin A, RAE': {'maximum': 3000.0, 'minimum': 900.0},\n",
       " 'Vitamin B-12': {'maximum': 1000000.0, 'minimum': 2.4},\n",
       " 'Vitamin B-6': {'maximum': 100.0, 'minimum': 1.3},\n",
       " 'Vitamin C, total ascorbic acid': {'maximum': 2000.0, 'minimum': 90.0},\n",
       " 'Vitamin D': {'maximum': 2000.0, 'minimum': 200.0},\n",
       " 'Vitamin E (alpha-tocopherol)': {'maximum': 1000.0, 'minimum': 15.0},\n",
       " 'Vitamin K (phylloquinone)': {'maximum': 1000000.0, 'minimum': 120.0},\n",
       " 'Water': {'maximum': 1000000.0, 'minimum': 3700.0},\n",
       " 'Zinc, Zn': {'maximum': 40.0, 'minimum': 11.0}}"
      ]
     },
     "execution_count": 14,
     "metadata": {},
     "output_type": "execute_result"
    }
   ],
   "source": [
    "import numpy as np\n",
    "daily_intake_dict = {}\n",
    "for column in list(daily_intake.columns)[1:]:\n",
    "    minimum = float(daily_intake[column][1])\n",
    "    maximum = float(daily_intake[column][3])\n",
    "    if np.isnan(minimum):\n",
    "        continue\n",
    "    daily_intake_dict.update({column:{'minimum':minimum,'maximum':maximum}})\n",
    "daily_intake_dict\n"
   ]
  },
  {
   "cell_type": "code",
   "execution_count": 15,
   "metadata": {
    "collapsed": true
   },
   "outputs": [],
   "source": [
    "diet_large['Long_Desc'] = [x.replace(' ','_').replace(',','').replace('/','').replace('-','_') for x in diet_large['Long_Desc']]\n",
    "diet_large.dropna(inplace = True)"
   ]
  },
  {
   "cell_type": "code",
   "execution_count": 16,
   "metadata": {
    "collapsed": true
   },
   "outputs": [],
   "source": [
    "problem = LpProblem('Diet_Large_Problem', LpMinimize)\n",
    "\n",
    "\n",
    "#Create the variables\n",
    "intake = LpVariable.dicts(\"intake\",diet_large['Long_Desc'],0)\n",
    "#create binary variable for various constraints\n",
    "used = LpVariable.dicts(\"used\",diet_large['Long_Desc'],0,1, cat = 'Binary')\n",
    "#build the objective function and add it to problem\n",
    "problem +=lpSum([diet_large[diet_large['Long_Desc'] == k]['Cholesterol']*v for k,v in intake.items()])"
   ]
  },
  {
   "cell_type": "code",
   "execution_count": 17,
   "metadata": {
    "collapsed": true
   },
   "outputs": [],
   "source": [
    "#build constraints \n",
    "from collections import defaultdict\n",
    "const_dict = defaultdict(float)\n",
    "\n",
    "for k,v in intake.items():\n",
    "    row = diet_large[diet_large['Long_Desc']==k].loc[:,'Protein':'Vitamin K (phylloquinone)']\n",
    "    for i,vals in row.items():\n",
    "        const_dict[i]+= v*float(vals.values[0])"
   ]
  },
  {
   "cell_type": "code",
   "execution_count": 18,
   "metadata": {
    "collapsed": false
   },
   "outputs": [],
   "source": [
    "#add constraints to model with minimums and maximums\n",
    "for key,value in const_dict.items():\n",
    "    k = key.replace(' ','_').replace(',','').replace('/','').replace('-','_')\n",
    "    try:\n",
    "        dly_intk_min = daily_intake_dict[k]['minimum']\n",
    "    except:\n",
    "        continue\n",
    "    dly_intk_max = daily_intake_dict[k]['maximum']\n",
    "    problem+= value >= dly_intk_min, '{}_min_requirement'.format(k)\n",
    "    problem+= value <= dly_intk_max, '{}_max_requirement'.format(k)\n",
    "    "
   ]
  },
  {
   "cell_type": "markdown",
   "metadata": {},
   "source": [
    "### Answer"
   ]
  },
  {
   "cell_type": "code",
   "execution_count": 20,
   "metadata": {
    "collapsed": false
   },
   "outputs": [
    {
     "name": "stdout",
     "output_type": "stream",
     "text": [
      "Status: Optimal\n",
      "intake_Cereals_ready_to_eat_wheat_shredded_plain_sugar_and_salt_fr = 5.5460735\n",
      "intake_Milk_chocolate_beverage_hot_cocoa_homemade = 44.400738\n"
     ]
    }
   ],
   "source": [
    "problem.writeLP(\"DietModelLarge.lp\")\n",
    "problem.solve()\n",
    "print(\"Status:\", LpStatus[problem.status])\n",
    "for v in problem.variables():\n",
    "    if v.varValue>0:\n",
    "        #if 'intake' in v.name:\n",
    "        print(v.name, \"=\", v.varValue)"
   ]
  }
 ],
 "metadata": {
  "kernelspec": {
   "display_name": "Python 3",
   "language": "python",
   "name": "python3"
  },
  "language_info": {
   "codemirror_mode": {
    "name": "ipython",
    "version": 3
   },
   "file_extension": ".py",
   "mimetype": "text/x-python",
   "name": "python",
   "nbconvert_exporter": "python",
   "pygments_lexer": "ipython3",
   "version": "3.6.0"
  }
 },
 "nbformat": 4,
 "nbformat_minor": 2
}

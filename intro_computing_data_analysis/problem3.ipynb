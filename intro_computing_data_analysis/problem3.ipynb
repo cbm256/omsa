{
 "cells": [
  {
   "cell_type": "markdown",
   "metadata": {
    "nbgrader": {
     "grade": false,
     "locked": true,
     "solution": false
    }
   },
   "source": [
    "# Problem 3: Semi-supervised Learning\n",
    "\n",
    "In this problem, we will consider _semi-supervised learning_, which falls between _unsupervised learning_ (i.e., learning from unlabeled datasets, like k-means) and _supervised learning_ (i.e., learning from completely labeled training data like the logistic regression algorithm).\n",
    "\n",
    "Under the so-called _transductive semi-supervised formulation_, given a combination of labeled and unlabeled data, our goal is to use labeled and unlabeled data to assign labels to unlabeled data.\n",
    "\n",
    "We will use the handwritten digit dataset which some of you may have seen previously. The data is a set of $8\\times 8$ images reshaped as a vector of size 1x64 and each image represent a digit between 0 to 9. \n",
    "\n",
    "**Exercise 0** (0 points). Run the following code cell, which loads the digit dataset."
   ]
  },
  {
   "cell_type": "code",
   "execution_count": 1,
   "metadata": {
    "collapsed": true,
    "nbgrader": {
     "grade": false,
     "locked": true,
     "solution": false
    }
   },
   "outputs": [],
   "source": [
    "import numpy as np\n",
    "from sklearn.datasets import load_digits\n",
    "from sklearn.preprocessing import scale\n",
    "\n",
    "digits = load_digits()\n",
    "\n",
    "X = scale(digits.data)\n",
    "y = digits.target\n",
    "\n",
    "n_total_samples = len(y)\n",
    "n_labeled_points = n_total_samples - 800\n",
    "\n",
    "indices = np.arange(n_total_samples)\n",
    "unlabeled_set = indices[n_labeled_points:]\n",
    "\n",
    "y_train = np.copy(y)\n",
    "y_train[unlabeled_set] = -1"
   ]
  },
  {
   "cell_type": "code",
   "execution_count": 2,
   "metadata": {
    "collapsed": true,
    "nbgrader": {
     "grade": false,
     "locked": true,
     "solution": false
    }
   },
   "outputs": [],
   "source": [
    "import pandas as pd\n",
    "from pandas.util import hash_pandas_object\n",
    "\n",
    "def canonicalize_tibble(X):\n",
    "    # Enforce Property 1:\n",
    "    var_names = sorted(X.columns)\n",
    "    Y = X[var_names].copy()\n",
    "\n",
    "    # Enforce Property 2:\n",
    "    Y.sort_values(by=var_names, inplace=True)\n",
    "    \n",
    "    # Enforce Property 3:\n",
    "    Y.reset_index(drop=True, inplace=True)\n",
    "    \n",
    "    return Y\n",
    "\n",
    "def solutions_are_equivalent(student_soln, B_hash):\n",
    "    \"\"\"Given two arrays, returns True iff they are\n",
    "    equivalent.\n",
    "    \"\"\"\n",
    "    df = pd.DataFrame(np.squeeze(student_soln))\n",
    "    return hash_pandas_object(df).sum() == B_hash\n",
    "\n",
    "def sorted_solutions_are_equivalent(student_soln, B_hash):\n",
    "    \"\"\"Given two arrays, returns True iff their sorted versions are\n",
    "    equivalent.\n",
    "    \"\"\"\n",
    "    df = pd.DataFrame(np.squeeze(student_soln))\n",
    "    return hash_pandas_object(canonicalize_tibble(df)).sum() == B_hash"
   ]
  },
  {
   "cell_type": "markdown",
   "metadata": {
    "nbgrader": {
     "grade": false,
     "locked": true,
     "solution": false
    }
   },
   "source": [
    "Here are the first five and last five images in the digit dataset. The plot shows the images with the correct label (first row) and unlabeled images (second row). Observe that `-1` is used for unlabeled points."
   ]
  },
  {
   "cell_type": "code",
   "execution_count": 3,
   "metadata": {
    "nbgrader": {
     "grade": false,
     "locked": true,
     "solution": false
    },
    "scrolled": true
   },
   "outputs": [
    {
     "data": {
      "image/png": "[encoded data removed]",
      "text/plain": [
       "<matplotlib.figure.Figure at 0x7fe0a4b6c710>"
      ]
     },
     "metadata": {},
     "output_type": "display_data"
    }
   ],
   "source": [
    "%matplotlib inline\n",
    "import matplotlib.pyplot as plt\n",
    "\n",
    "fig = plt.figure(figsize=(7, 5))\n",
    "index = [0,1,2,3,4,len(y)-1,len(y)-2,len(y)-3,len(y)-4,len(y)-5]\n",
    "for i, ii in enumerate(index):\n",
    "    image = digits.images[ii]\n",
    "    sub = fig.add_subplot(2, 5, i+1)\n",
    "    sub.imshow(image, cmap=plt.cm.gray_r)\n",
    "    plt.xticks([])\n",
    "    plt.yticks([])\n",
    "    sub.set_title('Label: %i' %(y_train[ii]))\n",
    "plt.show()"
   ]
  },
  {
   "cell_type": "markdown",
   "metadata": {
    "nbgrader": {
     "grade": false,
     "locked": true,
     "solution": false
    }
   },
   "source": [
    "# Part 0: K-means clustering\n",
    "In this part, we will use k-means clustering to label the unlabeled data. Here is the process:\n",
    "1. First, cluster all images (labeled + unlabeled) using k-means clustering algorithm.\n",
    "2. Then, find the most common label in each cluster (excluding -1 labels).\n",
    "3. Finally, assign the most common label in each cluster to all unlabeled data inside the corresponding cluster"
   ]
  },
  {
   "cell_type": "markdown",
   "metadata": {
    "collapsed": true,
    "nbgrader": {
     "grade": false,
     "locked": true,
     "solution": false
    }
   },
   "source": [
    "**Exercise 1** (2 points). Let's start with k-means clustering on the digits dataset. Suppose you are given a $n \\times 64$ matrix of images (i.e., the data matrix $X$) and a $k \\times 64$ matrix of initial centers. Implement a function, `find_clusters`, that uses the k-means clustering algorithm to assign a \"cluster label\" to each image. In other words, your function should return a 1-D Numpy array $y$ of length $n$ such that  $0 \\leq y[i] < k$ indicates the index of the cluster the i'th image is closest to. "
   ]
  },
  {
   "cell_type": "code",
   "execution_count": 35,
   "metadata": {
    "collapsed": true
   },
   "outputs": [],
   "source": [
    "def compute_d2(X, centers):\n",
    "    m = len(X)\n",
    "    k = len(centers)\n",
    "    \n",
    "    S = np.empty((m, k))\n",
    "    for i in range(m):\n",
    "        \n",
    "        S[i,:] = np.linalg.norm(X[i,:]-centers,ord = 2, axis =1)**2\n",
    "    #\n",
    "    # YOUR CODE HERE\n",
    "    #\n",
    "\n",
    "    return S\n",
    "\n",
    "def assign_cluster_labels(S):\n",
    "    #\n",
    "    # YOUR CODE HERE\n",
    "    #\n",
    "    return np.argmin(S,axis = 1)\n",
    "    \n",
    "def update_centers(X, y):\n",
    "    # X[:m, :d] == m points, each of dimension d\n",
    "    # y[:m] == cluster labels\n",
    "    m, d = X.shape\n",
    "    k = max(y) + 1\n",
    "    assert m == len(y)\n",
    "    assert (min(y) >= 0)\n",
    "    \n",
    "    centers = np.empty((k, d))\n",
    "    for j in range(k):\n",
    "        # Compute the new center of cluster j,\n",
    "        # i.e., centers[j, :d].\n",
    "        #\n",
    "        # YOUR CODE HERE\n",
    "        #\n",
    "        centers[j,:] = X[y == j].mean(axis = 0)\n",
    "        \n",
    "    return centers\n",
    "\n",
    "def WCSS(S):\n",
    "    #\n",
    "    # YOUR CODE HERE\n",
    "    #\n",
    "    return np.sum(np.amin(S,axis =1))\n",
    "\n",
    "def has_converged(old_centers, centers):\n",
    "    return set([tuple(x) for x in old_centers]) == set([tuple(x) for x in centers])\n",
    "\n",
    "def kmeans(X, k,\n",
    "           starting_centers=None,\n",
    "           max_steps=np.inf):\n",
    "    if starting_centers is None:\n",
    "        centers = init_centers(X, k)\n",
    "    else:\n",
    "        centers = starting_centers\n",
    "        \n",
    "    converged = False\n",
    "    labels = np.zeros(len(X))\n",
    "    i = 1\n",
    "    while (not converged) and (i <= max_steps):\n",
    "        old_centers = centers\n",
    "        #\n",
    "        # YOUR CODE HERE\n",
    "        #\n",
    "        S = compute_d2(X, centers)\n",
    "        labels = assign_cluster_labels(S)\n",
    "        new_centers = update_centers(X, labels)\n",
    "        if has_converged(centers, new_centers):\n",
    "            break\n",
    "        else: centers = new_centers\n",
    "    \n",
    "        print (\"iteration\", i, \"WCSS = \", WCSS (S))\n",
    "        i += 1\n",
    "    return labels\n"
   ]
  },
  {
   "cell_type": "code",
   "execution_count": 36,
   "metadata": {
    "nbgrader": {
     "grade": false,
     "locked": false,
     "solution": false
    }
   },
   "outputs": [],
   "source": [
    "\n",
    "def find_clusters(X, centers):\n",
    "#\n",
    "# YOUR CODE HERE\n",
    "#\n",
    "    k = len(centers)\n",
    "    return kmeans(X, k,starting_centers=centers,max_steps=np.inf)\n",
    "\n"
   ]
  },
  {
   "cell_type": "code",
   "execution_count": 37,
   "metadata": {
    "nbgrader": {
     "grade": true,
     "locked": true,
     "solution": false
    }
   },
   "outputs": [
    {
     "name": "stdout",
     "output_type": "stream",
     "text": [
      "iteration 1 WCSS =  5027.140003779882\n",
      "iteration 2 WCSS =  3232.611165074488\n",
      "iteration 3 WCSS =  3045.548170365336\n",
      "iteration 4 WCSS =  2995.6254708304486\n",
      "iteration 5 WCSS =  2960.5376974102514\n",
      "student solution [0 1 2 3 4 5 6 7 8 9 0 1 6 3 4 5 6 7 8 5 0 1 8 3 4 9 6 7 8 5 0 3 5 5 6 5 0\n",
      " 5 8 3 8 4 1 7 7 3 9 1 0 0 2 2 7 8 2 0 1 2 6 3 3 7 3 3 4 6 6 6 4 8 1 5 0 5\n",
      " 9 2 8 2 0 0 1 7 6 3 8 1 7 1 6 3 1 3 3 1 7 6 8 4 3 8]\n",
      "\n",
      "(Passed!)\n"
     ]
    }
   ],
   "source": [
    "# (0 Point) `find_cluters_dummy`: Test cell 1\n",
    "labels_1 = find_clusters(X[:100],X[:10])\n",
    "print(\"student solution\", labels_1)\n",
    "\n",
    "labels_solution = np.load(\"../resource/asnlib/publicdata/find_clusters_solution.npy\")\n",
    "#labels_solution = np.load(\"find_clusters_solution.npy\")\n",
    "\n",
    "\n",
    "assert labels_1.shape == (len(X[:100]),)\n",
    "assert len(set(labels_1.tolist())) == 10\n",
    "\n",
    "assert np.array_equal(labels_1, labels_solution)\n",
    "assert np.array_equiv(labels_1, labels_solution)\n",
    "\n",
    "print(\"\\n(Passed!)\")"
   ]
  },
  {
   "cell_type": "code",
   "execution_count": 38,
   "metadata": {
    "nbgrader": {
     "grade": true,
     "grade_id": "find_clusters",
     "locked": true,
     "points": "2",
     "solution": false
    }
   },
   "outputs": [
    {
     "name": "stdout",
     "output_type": "stream",
     "text": [
      "iteration 1 WCSS =  95769.99214585326\n",
      "iteration 2 WCSS =  65579.7687630061\n",
      "iteration 3 WCSS =  62402.04950475562\n",
      "iteration 4 WCSS =  60668.746286474176\n",
      "iteration 5 WCSS =  59593.53740497369\n",
      "iteration 6 WCSS =  59143.219899730524\n",
      "iteration 7 WCSS =  58823.052476022574\n",
      "iteration 8 WCSS =  58639.03691241062\n",
      "iteration 9 WCSS =  58489.2147749179\n",
      "iteration 10 WCSS =  58268.991317214706\n",
      "iteration 11 WCSS =  58090.496780476984\n",
      "iteration 12 WCSS =  57996.002335863566\n",
      "iteration 13 WCSS =  57947.437402881595\n",
      "iteration 14 WCSS =  57939.470053314115\n",
      "student solution [0 1 2 ... 8 5 8]\n",
      "\n",
      "(Passed!)\n"
     ]
    }
   ],
   "source": [
    "# (2 points) `find_clusters`: Test cell\n",
    "labels = find_clusters(X, X[:20])\n",
    "print(\"student solution\", labels)\n",
    "\n",
    "assert labels.shape == (len(X),)\n",
    "assert len(set(labels.tolist())) == 20\n",
    "\n",
    "assert solutions_are_equivalent(labels, -1087113538337893740)\n",
    "\n",
    "print(\"\\n(Passed!)\")"
   ]
  },
  {
   "cell_type": "markdown",
   "metadata": {
    "nbgrader": {
     "grade": false,
     "locked": true,
     "solution": false
    }
   },
   "source": [
    "**Exercise 2** (1 point). Given a cluster index for all images, `clustering`, and image labels, `y`, return a Numpy array of length `k`, such that the `i`-th element of this array indicates the most common label among **labeled images** in the `i`-th cluster. In the case of a tie for the most common label, return the value of the smallest label. If a cluster does not contain any labeled images, assign a label of `-1` to that cluster.\n",
    "\n",
    "For example, suppose you execute the following.\n",
    "\n",
    "```python\n",
    "clustering = np.array([ 8, 5, 5, 8, 6, 7,  4, 1, 8, 7, 5,  8, 8])\n",
    "y =          np.array([-1, 5, 6, 9, 6, 7, -1, 1, -1, 7, 6, -1, 3])\n",
    "z = find_max_common_label_in_cluster(clustering, y, 10)\n",
    "print(z)  # Output will be: [-1  1 -1 -1 -1  6  6  7  3 -1]\n",
    "```\n",
    "\n",
    "Consider every element where `clustering == 5`; these are the points assigned to Cluster 5. The corresponding labels, `y[clustering == 5]`, are `[5, 6, 6]`. Thus, the most common label in Cluster 5 is 6. Therefore, `z[5] == 6`.\n",
    "\n",
    "Next, consider every element where `clustering == 4`. There is just one such point: `y[clustering == 4] == [-1]`, which is an unlabeled point. Therefore, `z[4] == -1`.\n",
    "\n",
    "Now consider `clustering == 8`. Observe that `y[clustering == 8] == [-1,  9, -1, -1,  3]`. Among the **labeled** points, `3` and `9` occur once each, so they are tied in frequency. In this case, you should return the smallest label, 3.\n",
    "\n",
    "Lastly, observe that `clustering` contains no instances of 0, 1, 2, 3, or 9. The corresponding outputs in `z` have been set to -1."
   ]
  },
  {
   "cell_type": "code",
   "execution_count": null,
   "metadata": {
    "collapsed": true
   },
   "outputs": [],
   "source": [
    "def find_max_common_label_in_cluster(clustering, y, k):\n",
    "#\n",
    "# YOUR CODE HERE\n",
    "#\n"
   ]
  },
  {
   "cell_type": "code",
   "execution_count": null,
   "metadata": {
    "collapsed": true,
    "nbgrader": {
     "grade": true,
     "locked": true,
     "solution": false
    }
   },
   "outputs": [],
   "source": [
    "# (0 point) `find_max_common_label_in_cluster_dummy`: Test cell\n",
    "representatives_1 = find_max_common_label_in_cluster(labels_1,y_train[:100],10)\n",
    "\n",
    "print(\"student solution\", representatives_1)\n",
    "\n",
    "assert len(representatives_1) == 10\n",
    "#representatives_solution = np.load(\"find_max_common_in_cluster_solution.npy\")\n",
    "representatives_solution = np.load(\"../resource/asnlib/publicdata/find_max_common_in_cluster_solution.npy\")\n",
    "assert np.array_equal(representatives_1, representatives_solution)\n",
    "assert np.array_equiv(representatives_1, representatives_solution)\n",
    "\n",
    "print(\"\\n(Passed!)\")"
   ]
  },
  {
   "cell_type": "code",
   "execution_count": null,
   "metadata": {
    "collapsed": true,
    "nbgrader": {
     "grade": true,
     "grade_id": "find_max_common_label_in_cluster",
     "locked": true,
     "points": "1",
     "solution": false
    }
   },
   "outputs": [],
   "source": [
    "# (1 point) `find_max_common_label_in_cluster`: Test cell\n",
    "representatives = find_max_common_label_in_cluster(labels,y_train,20)\n",
    "\n",
    "print(\"student solution\", representatives)\n",
    "\n",
    "assert len(representatives) == 20\n",
    "\n",
    "assert solutions_are_equivalent(representatives, 1882766301811886818)\n",
    "\n",
    "print(\"\\n(Passed!)\")"
   ]
  },
  {
   "cell_type": "markdown",
   "metadata": {
    "nbgrader": {
     "grade": false,
     "locked": true,
     "solution": false
    }
   },
   "source": [
    "**Exercise 3** (2 points). Given a  $n \\times 64$ matrix of images (i.e., the $X$ matrix), a vector of labels (for unlabeled data $y_{\\mathrm{train}}[i]$ is equal to -1), and an initial value of cluster centers, write a function to update the label of unlabeled images. Your function should use the functions in Exercises 1 and 2 to find the clusters and the most common label in each cluster. Then, your function should update $y_{\\mathrm{train}}$ for unlabeled images by the most common label of its cluster.  Your function should return a vector $y$ of length $n$ such that $y[i]$ indicates the label of each image. Your function should only update unlabeled data."
   ]
  },
  {
   "cell_type": "code",
   "execution_count": null,
   "metadata": {
    "collapsed": true
   },
   "outputs": [],
   "source": [
    "def update_labels_1(y_train, X, centers):\n",
    "#\n",
    "# YOUR CODE HERE\n",
    "#\n"
   ]
  },
  {
   "cell_type": "code",
   "execution_count": null,
   "metadata": {
    "collapsed": true,
    "nbgrader": {
     "grade": true,
     "grade_id": "update_labels_1",
     "locked": true,
     "points": "2",
     "solution": false
    },
    "scrolled": true
   },
   "outputs": [],
   "source": [
    "# `update_labels_1`: Test cell\n",
    "predicted_labels = update_labels_1(y_train,X,X[:20])\n",
    "\n",
    "print(\"student solution\", predicted_labels)\n",
    "\n",
    "print(\"instructor's partial solution\", np.load(\"../resource/asnlib/publicdata/update_labels_partial_solution.npy\"))\n",
    "update_labels1_solution = np.load(\"../resource/asnlib/publicdata/update_labels_partial_solution.npy\")\n",
    "\n",
    "assert predicted_labels.shape == y_train.shape\n",
    "assert len(set(predicted_labels.tolist())) == 11\n",
    "\n",
    "assert solutions_are_equivalent(predicted_labels, 3384812290756396889)\n",
    "\n",
    "print(\"\\n(Passed!)\")"
   ]
  },
  {
   "cell_type": "markdown",
   "metadata": {
    "nbgrader": {
     "grade": false,
     "locked": true,
     "solution": false
    }
   },
   "source": [
    "# Part 1: K-nearest neighbors\n",
    "\n",
    "In this part, we will implement a completely supervised algorithm to label unlabeled images. That is, given a combination of labeled and unlabeled data, we use only labeled data to identify the label of unlabeled data.\n",
    "\n",
    "For this purpose, we will use k-nearest neighbors. That is, for each unlabeled image, we will first find the $k$ labeled neighbors closest to that image, and determine a label based on those neighbors."
   ]
  },
  {
   "cell_type": "markdown",
   "metadata": {
    "nbgrader": {
     "grade": false,
     "locked": true,
     "solution": false
    }
   },
   "source": [
    "**Exercise 4** (1 point). Given one image, as a vector $\\mathrm{img}$, and a $n \\times 64$ matrix $X$ of labeled images, implement the function `k_nearest_neighbor` so that it finds the $k$ labeled points (from $X$) that are closest to $\\mathrm{img}$. Your function should return the **index** (i.e., row numbers) of these points in $X$. Use Euclidean distance to calculate the distance between two images."
   ]
  },
  {
   "cell_type": "code",
   "execution_count": null,
   "metadata": {
    "collapsed": true
   },
   "outputs": [],
   "source": [
    "def k_nearest_neighbor(X, img, k):\n",
    "#\n",
    "# YOUR CODE HERE\n",
    "#\n"
   ]
  },
  {
   "cell_type": "code",
   "execution_count": null,
   "metadata": {
    "collapsed": true,
    "nbgrader": {
     "grade": true,
     "locked": true,
     "solution": false
    }
   },
   "outputs": [],
   "source": [
    "# (0 points) `k_nearest_neighbor_dummy`: Test cell\n",
    "\n",
    "neighbours_1 = k_nearest_neighbor(X[:n_labeled_points],X[n_labeled_points+1],20)\n",
    "print(\"student solution\", neighbours_1)\n",
    "\n",
    "\n",
    "k_nearest_neighbor_solution_1 = np.load(\"../resource/asnlib/publicdata/k_nearest_neighbor_solution_1.npy\")\n",
    "\n",
    "assert len(neighbours_1) == 20, \"Neighbors don't match!\" \n",
    "assert set(k_nearest_neighbor_solution_1)==set(neighbours_1), \"Neighbors don't match!\" \n",
    "\n",
    "print(\"\\n(Passed!)\")"
   ]
  },
  {
   "cell_type": "code",
   "execution_count": null,
   "metadata": {
    "collapsed": true,
    "nbgrader": {
     "grade": true,
     "grade_id": "k_nearest_neighbor",
     "locked": true,
     "points": "1",
     "solution": false
    }
   },
   "outputs": [],
   "source": [
    "# (1 point) `k_nearest_neighbor`: Test cell\n",
    "neighbours_2 = k_nearest_neighbor(X[:n_labeled_points],X[n_labeled_points+100],10)\n",
    "print(\"student solution\", neighbours_2)\n",
    "\n",
    "assert len(neighbours_2) == 10, \"Neighbors don't match!\" \n",
    "assert sorted_solutions_are_equivalent(neighbours_2, 6404842348927980110), \"Neighbors don't match!\" \n",
    "\n",
    "print(\"\\n(Passed!)\")"
   ]
  },
  {
   "cell_type": "markdown",
   "metadata": {
    "nbgrader": {
     "grade": false,
     "locked": true,
     "solution": false
    }
   },
   "source": [
    "**Exercise 5** (1 point). Suppose you are given the array of all labels (`y_train`) and an array of indices (`group`). Complete the function `most_common_label(y_train, group)` so that it determines and returns the most common label. In case of a tie for the most common label, return the value of the smallest label. \n",
    "\n",
    "For instance,\n",
    "\n",
    "```python\n",
    "   most_common_label(np.array([4, 2, 1, 1, 3, 2, 4, 2, 2, 2, 4]), np.array([2, 3, 5, 6])) == 1\n",
    "```"
   ]
  },
  {
   "cell_type": "code",
   "execution_count": null,
   "metadata": {
    "collapsed": true
   },
   "outputs": [],
   "source": [
    "def most_common_label(y_train, group):\n",
    "#\n",
    "# YOUR CODE HERE\n",
    "#\n"
   ]
  },
  {
   "cell_type": "code",
   "execution_count": null,
   "metadata": {
    "collapsed": true,
    "nbgrader": {
     "grade": true,
     "grade_id": "most_common_label",
     "locked": true,
     "points": "1",
     "solution": false
    }
   },
   "outputs": [],
   "source": [
    "# `most_common_label`: Test cell\n",
    "\n",
    "###test 1\n",
    "common_label_1 = most_common_label(y_train, neighbours_1)\n",
    "print(\"test 1: student solution is\", common_label_1)\n",
    "\n",
    "assert common_label_1 == np.load(\"../resource/asnlib/publicdata/common_label_solution_1.npy\"), \"label is not correct!\" \n",
    "\n",
    "###test 2\n",
    "common_label_2 = most_common_label(y_train, neighbours_2)\n",
    "print(\"test 2: student solution is\", common_label_2)\n",
    "assert common_label_2 == np.load(\"../resource/asnlib/publicdata/common_label_solution_2.npy\"), \"label is not correct!\" \n",
    "\n",
    "print(\"\\n(Passed!)\")"
   ]
  },
  {
   "cell_type": "markdown",
   "metadata": {
    "nbgrader": {
     "grade": false,
     "locked": true,
     "solution": false
    }
   },
   "source": [
    "**Exercise 6** (2 points). Given a matrix of labeled images (i.e. $X_{\\mathrm{labeled}}$) and a vector of coressponding labels (i.e. $y_{\\mathrm{train}}$), use the functions in questions 4 and 5 to find the most common neighbor, $mcn$, of each unlabeled image $uimg$, in $X_{\\mathrm{unlabeled}}$, and assign $mcn$ as a label for $uimg$. Your function should generate a (column) vector $y_{\\mathrm{test}}$ such that $y_{\\mathrm{test}}[i]$ stores the label of $X_{\\mathrm{unlabeled}}[i]$."
   ]
  },
  {
   "cell_type": "code",
   "execution_count": null,
   "metadata": {
    "collapsed": true
   },
   "outputs": [],
   "source": [
    "def update_labels_2(y_train, X_labeled, X_unlabeled, k):\n",
    "#\n",
    "# YOUR CODE HERE\n",
    "#\n"
   ]
  },
  {
   "cell_type": "code",
   "execution_count": null,
   "metadata": {
    "collapsed": true,
    "nbgrader": {
     "grade": true,
     "grade_id": "update_labels_2",
     "locked": true,
     "points": "2",
     "solution": false
    }
   },
   "outputs": [],
   "source": [
    "# `update_labels_2`: Test cell\n",
    "\n",
    "predicted_labels = update_labels_2(y_train,X[:n_labeled_points],X[n_labeled_points:],20)\n",
    "\n",
    "assert len(predicted_labels) == len(X[n_labeled_points:])\n",
    "assert len(set(predicted_labels.tolist())) == 10\n",
    "\n",
    "update_labels2_solution = np.load(\"../resource/asnlib/publicdata/update_labels_2_partial_solution.npy\")\n",
    "#update_labels2_solution = np.load(\"update_labels_2_partial_solution.npy\")\n",
    "\n",
    "assert np.array_equal(predicted_labels[:400], update_labels2_solution), \"Labels are incorrect\"\n",
    "assert np.array_equiv(predicted_labels[:400],  update_labels2_solution),\"Labels are incorrect\"\n",
    "\n",
    "assert solutions_are_equivalent(predicted_labels, -5480449408506454971) \n",
    "print(\"\\n(Passed!)\")"
   ]
  },
  {
   "cell_type": "markdown",
   "metadata": {
    "nbgrader": {
     "grade": false,
     "locked": true,
     "solution": false
    }
   },
   "source": [
    "**Exercise 7** (1 point). Now let's check the accuracy of labeling for these two methods. We calculate accuracy using the following formula:\n",
    "\n",
    "$\\mathrm{accuracy} = \\frac{\\mathrm{number \\; of \\; correctly \\; labeled \\; test \\; data}}{\\mathrm{number \\; of \\; test \\; data}}$\n",
    "\n",
    "Given the predicted labels, $y_{\\mathrm{test}}$, and the correct labels $y$, your function should return the accuracy of this labeling. You may assume the labels array $y$ only contains labels for unlabeled images."
   ]
  },
  {
   "cell_type": "code",
   "execution_count": null,
   "metadata": {
    "collapsed": true
   },
   "outputs": [],
   "source": [
    "def calculate_accuracy(y_test, y):\n",
    "    #\n",
    "    # YOUR CODE HERE\n",
    "    #\n"
   ]
  },
  {
   "cell_type": "code",
   "execution_count": null,
   "metadata": {
    "collapsed": true,
    "nbgrader": {
     "grade": true,
     "grade_id": "calculate_accuracy",
     "locked": true,
     "points": "1",
     "solution": false
    }
   },
   "outputs": [],
   "source": [
    "# `calculate_accuracy`: Test cell\n",
    "\n",
    "n_total_samples = len(y)\n",
    "n_labeled_points = n_total_samples - 1000\n",
    "indices = np.arange(n_total_samples)\n",
    "unlabeled_set = indices[n_labeled_points:]\n",
    "\n",
    "###test 1\n",
    "y_train_1 = np.copy(y)\n",
    "y_train_1[unlabeled_set] = -1\n",
    "y_1 = update_labels_1(y_train_1, X, X[:100])\n",
    "first_method_accuarcy = calculate_accuracy(y_1[n_labeled_points:], y[n_labeled_points:])\n",
    "print(\"The first method accuracy is 0.89\")\n",
    "assert (abs(first_method_accuarcy - 0.89) <= 1e-5), \"Accuarcy is not correct!\"\n",
    "\n",
    "###test 2\n",
    "y_train_2 = np.copy(y)\n",
    "y_train_2[unlabeled_set] = -1\n",
    "y_2 = update_labels_2(y_train_2[:n_labeled_points], X[:n_labeled_points],X[n_labeled_points:], 100)\n",
    "second_method_accuarcy = calculate_accuracy(y_2, y[n_labeled_points:])\n",
    "print(\"The second method accuracy is 0.858\")\n",
    "assert (abs(second_method_accuarcy - 0.858) <= 1e-5), \"Accuarcy is not correct!\"\n",
    "\n",
    "print(\"\\n(Passed!)\")"
   ]
  },
  {
   "cell_type": "markdown",
   "metadata": {
    "collapsed": true,
    "nbgrader": {
     "grade": false,
     "locked": true,
     "solution": false
    }
   },
   "source": [
    "**Fin!** Remember to test your solutions by running them as the autograder will: restart the kernel and run all cells from \"top-to-bottom.\" Also remember to submit to the autograder; otherwise, you will **not** get credit for your hard work!"
   ]
  }
 ],
 "metadata": {
  "kernelspec": {
   "display_name": "Python 3",
   "language": "python",
   "name": "python3"
  },
  "language_info": {
   "codemirror_mode": {
    "name": "ipython",
    "version": 3
   },
   "file_extension": ".py",
   "mimetype": "text/x-python",
   "name": "python",
   "nbconvert_exporter": "python",
   "pygments_lexer": "ipython3",
   "version": "3.6.3"
  }
 },
 "nbformat": 4,
 "nbformat_minor": 2
}

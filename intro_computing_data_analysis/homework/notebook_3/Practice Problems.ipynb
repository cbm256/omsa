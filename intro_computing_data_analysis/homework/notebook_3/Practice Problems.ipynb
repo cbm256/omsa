{
 "cells": [
  {
   "cell_type": "markdown",
   "metadata": {},
   "source": [
    "Exercise 0: Odd Person Out. Suppose you roll two, fair, six-sided dice. What is the probability that\n",
    "their sum is even?"
   ]
  },
  {
   "cell_type": "code",
   "execution_count": 23,
   "metadata": {},
   "outputs": [
    {
     "data": {
      "text/plain": [
       "0.8"
      ]
     },
     "execution_count": 23,
     "metadata": {},
     "output_type": "execute_result"
    }
   ],
   "source": [
    "from itertools import permutations, combinations\n",
    "\n",
    "dice = [1,2,3,4,5,6]\n",
    "perms = permutations(dice, 2)\n",
    "evens = [x*y for x,y in perms if x*y%2 ==0]\n",
    "perms = [(x,y) for x,y in permutations(dice, 2)]\n",
    "len(evens)/len(perms)"
   ]
  },
  {
   "cell_type": "markdown",
   "metadata": {},
   "source": []
  },
  {
   "cell_type": "code",
   "execution_count": 26,
   "metadata": {},
   "outputs": [
    {
     "data": {
      "text/plain": [
       "2598960"
      ]
     },
     "execution_count": 26,
     "metadata": {},
     "output_type": "execute_result"
    }
   ],
   "source": [
    "values = [str(x) for x in range(2,11)] + ['J','Q','K','A']\n",
    "suits = ['H','S','C','D']\n",
    "cards = []\n",
    "for suit in suits:\n",
    "    for val in values:\n",
    "        cards.append(val+suit)\n",
    "combos = [x for x in combinations(cards, 5)]\n",
    "len(combos)"
   ]
  }
 ],
 "metadata": {
  "kernelspec": {
   "display_name": "Python 3",
   "language": "python",
   "name": "python3"
  },
  "language_info": {
   "codemirror_mode": {
    "name": "ipython",
    "version": 3
   },
   "file_extension": ".py",
   "mimetype": "text/x-python",
   "name": "python",
   "nbconvert_exporter": "python",
   "pygments_lexer": "ipython3",
   "version": "3.6.3"
  }
 },
 "nbformat": 4,
 "nbformat_minor": 2
}

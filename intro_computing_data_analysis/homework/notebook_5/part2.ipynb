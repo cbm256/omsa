{
 "cells": [
  {
   "cell_type": "markdown",
   "metadata": {
    "nbgrader": {
     "grade": false,
     "locked": true,
     "solution": false
    }
   },
   "source": [
    "# Part 2 of 2 (OPTIONAL): An extreme case of regular expression processing\n",
    "\n",
    "> This part is **OPTIONAL**. That is, while there are exercises, they are worth 0 points each. Rather, this notebook is designed for those of you who may have a deeper interest in computational aspects of the course material and would like to explore that.\n",
    "\n",
    "There is a beautiful theory underlying regular expressions, and efficient regular expression processing is regarded as one of the classic problems of computer science. In the last part of this lab, you will explore a bit of that theory, albeit by experiment.\n",
    "\n",
    "In particular, the code cells below will walk you through a simple example of the potentially **hidden cost** of regular expression parsing. And if you really want to geek out, look at the article on which this example is taken: https://swtch.com/~rsc/regexp/regexp1.html"
   ]
  },
  {
   "cell_type": "markdown",
   "metadata": {
    "nbgrader": {
     "grade": false,
     "locked": true,
     "solution": false
    }
   },
   "source": [
    "## Quick review\n",
    "\n",
    "**Exercise 0** (ungraded) Let $a^n$ be a shorthand notation for a string in which $a$ is repeated $n$ times. For example, $a^3$ is the same as $aaa$ and $a^6$ is the same as $aaaaaa$. Write a function to generate the string for $a^n$, given a string $a$ and an integer $n \\geq 1$."
   ]
  },
  {
   "cell_type": "code",
   "execution_count": 1,
   "metadata": {
    "collapsed": true,
    "nbgrader": {
     "grade": false,
     "grade_id": "rep_str",
     "locked": false,
     "schema_version": 1,
     "solution": true
    }
   },
   "outputs": [],
   "source": [
    "def rep_str (a, n):\n",
    "    \"\"\"Returns a string consisting of an input string repeated a given number of times.\"\"\"\n",
    "    assert type(a) is str and n >= 1\n",
    "    #\n",
    "    # YOUR CODE HERE\n",
    "    #\n",
    "    return a*n"
   ]
  },
  {
   "cell_type": "code",
   "execution_count": 2,
   "metadata": {
    "nbgrader": {
     "grade": true,
     "grade_id": "rep_str_test",
     "locked": true,
     "points": 0,
     "schema_version": 1,
     "solution": false
    }
   },
   "outputs": [
    {
     "name": "stdout",
     "output_type": "stream",
     "text": [
      "Testing: 'a'^3 -> 'aaa'\n",
      "Testing: 'cat'^4 -> 'catcatcatcat'\n",
      "Testing: ''^100 -> ''\n",
      "Testing: 'yxno'^7\n",
      "Testing: 'e'^4\n",
      "Testing: 'ekheh'^5\n",
      "Testing: 'pahkz'^6\n",
      "Testing: 'pb'^3\n",
      "Testing: 'ofv'^10\n",
      "Testing: 'ven'^7\n",
      "Testing: 'blhv'^6\n",
      "Testing: 'kmkg'^9\n",
      "Testing: 'ncpuk'^7\n",
      "\n",
      "(Passed!)\n"
     ]
    }
   ],
   "source": [
    "# Test cell: `rep_str_test`\n",
    "\n",
    "def check_fixed(a, n, ans):\n",
    "    msg = \"Testing: '{}'^{} -> '{}'\".format(a, n, ans)\n",
    "    print(msg)\n",
    "    assert rep_str(a, n) == ans, \"Case failed!\"\n",
    "    \n",
    "check_fixed('a', 3, 'aaa')\n",
    "check_fixed('cat', 4, 'catcatcatcat')\n",
    "check_fixed('', 100, '')\n",
    "\n",
    "def check_rand():\n",
    "    from random import choice, randint\n",
    "    a = ''.join([choice([chr(k) for k in range(ord('a'), ord('z')+1)]) for _ in range(randint(1, 5))])\n",
    "    n = randint(1, 10)\n",
    "    msg = \"Testing: '{}'^{}\".format(a, n)\n",
    "    print(msg)\n",
    "    s_you = rep_str(a, n)\n",
    "    for k in range(0, n*len(a), len(a)):\n",
    "        assert s_you[k:(k+len(a))] == a, \"Your result, '{}', is not correct at position {} [{}].\".format(s_you, k)\n",
    "    \n",
    "for _ in range(10):\n",
    "    check_rand()\n",
    "\n",
    "print(\"\\n(Passed!)\")"
   ]
  },
  {
   "cell_type": "markdown",
   "metadata": {
    "nbgrader": {
     "grade": false,
     "locked": true,
     "solution": false
    }
   },
   "source": [
    "## An initial experiment\n",
    "\n",
    "Intuitively, you should expect (or hope) that the time to determine whether a string of length $n$ matches a given pattern will be proportional to $n$. Let's see if this holds when matching simple input strings of repeated letters against a pattern designed to match such strings."
   ]
  },
  {
   "cell_type": "code",
   "execution_count": 3,
   "metadata": {
    "collapsed": true,
    "nbgrader": {
     "grade": false,
     "locked": true,
     "solution": false
    }
   },
   "outputs": [],
   "source": [
    "import re"
   ]
  },
  {
   "cell_type": "code",
   "execution_count": 4,
   "metadata": {},
   "outputs": [
    {
     "name": "stdout",
     "output_type": "stream",
     "text": [
      "Matching input 'aaa' against pattern '^a{3}$'...\n",
      "Average time per match per `n`: 304.6 ns\n"
     ]
    }
   ],
   "source": [
    "# Set up an input problem\n",
    "n = 3\n",
    "s_n = rep_str ('a', n) # Input string\n",
    "pattern = '^a{%d}$' % n # Pattern to match it exactly\n",
    "\n",
    "# Test it\n",
    "print (\"Matching input '{}' against pattern '{}'...\".format (s_n, pattern))\n",
    "assert re.match (pattern, s_n) is not None\n",
    "\n",
    "# Benchmark it & report time, normalized to 'n'\n",
    "timing = %timeit -q -o re.match (pattern, s_n)\n",
    "t_avg = sum (timing.all_runs) / len (timing.all_runs) / timing.loops / n * 1e9\n",
    "print (\"Average time per match per `n`: {:.1f} ns\".format (t_avg))"
   ]
  },
  {
   "cell_type": "markdown",
   "metadata": {
    "nbgrader": {
     "grade": false,
     "locked": true,
     "solution": false
    }
   },
   "source": [
    "Before moving on, be sure you understand what the above benchmark is doing. For more on the Jupyter \"magic\" command, `%timeit`, see: http://ipython.readthedocs.io/en/stable/interactive/magics.html?highlight=magic#magic-magic"
   ]
  },
  {
   "cell_type": "markdown",
   "metadata": {
    "nbgrader": {
     "grade": false,
     "locked": true,
     "solution": false
    }
   },
   "source": [
    "**Exercise 1** (ungraded) Repeat the above experiment for various values of `n`. To help keep track of the results, feel free to create new code cells that repeat the benchmark for different values of `n`. Explain what you observe. Can you conclude that matching simple regular expression patterns of the form `^a{n}$` against input strings of the form $a^n$ does, indeed, scale linearly?"
   ]
  },
  {
   "cell_type": "code",
   "execution_count": 10,
   "metadata": {
    "nbgrader": {
     "grade": false,
     "grade_id": "experiment1",
     "locked": false,
     "schema_version": 1,
     "solution": true
    }
   },
   "outputs": [
    {
     "name": "stdout",
     "output_type": "stream",
     "text": [
      "n: 1 Time: 914.2624442870978\n",
      "n: 10 Time: 93.0287321571086\n",
      "n: 100 Time: 10.321231349984632\n",
      "n: 1000 Time: 1.688852121428811\n",
      "n: 10000 Time: 0.8530548641449839\n",
      "n: 100000 Time: 0.7582716582837747\n",
      "n: 1000000 Time: 0.6521199181411897\n",
      "n: 10000000 Time: 0.6499929771421843\n",
      "n: 100000000 Time: 0.6497395772852802\n",
      "n: 1000000000 Time: 0.6554804834283589\n"
     ]
    }
   ],
   "source": [
    "n_list = []\n",
    "avg = []\n",
    "\n",
    "for i in range(10):\n",
    "    n = 1*10**i\n",
    "    n_list.append(n)\n",
    "    s_n = rep_str ('a', n) # Input string\n",
    "    pattern = '^a{%d}$' % n # Pattern to match it exactly\n",
    "    timing = %timeit -q -o re.match (pattern, s_n)\n",
    "    t_avg = sum (timing.all_runs) / len (timing.all_runs) / timing.loops / n * 1e9\n",
    "    print('n: {} Time: {}'.format(n, t_avg))\n",
    "    avg.append(t_avg)"
   ]
  },
  {
   "cell_type": "code",
   "execution_count": 9,
   "metadata": {},
   "outputs": [
    {
     "data": {
      "text/plain": [
       "<matplotlib.axes._subplots.AxesSubplot at 0x7f4159ace7f0>"
      ]
     },
     "execution_count": 9,
     "metadata": {},
     "output_type": "execute_result"
    },
    {
     "data": {
      "image/png": "[encoded data removed]",
      "text/plain": [
       "<matplotlib.figure.Figure at 0x7f415b325a90>"
      ]
     },
     "metadata": {},
     "output_type": "display_data"
    }
   ],
   "source": [
    "import pandas as pd\n",
    "import matplotlib.pyplot as plt\n",
    "%matplotlib inline\n",
    "\n",
    "df = pd.DataFrame({'n':n_list, 'time':avg})\n",
    "df.sort_values(by = 'time')\n",
    "df.plot.scatter(x='n', y='time')"
   ]
  },
  {
   "cell_type": "markdown",
   "metadata": {
    "nbgrader": {
     "grade": false,
     "grade_id": "results1",
     "locked": true,
     "points": 0,
     "schema_version": 1,
     "solution": false
    }
   },
   "source": [
    "**Answer.** To see asymptotically linear behavior, you'll need to try some fairly large values of $n$, e.g., a thousand, ten thousand, a hundred thousand, and a million. Even then, it may **appear** as though the time continues to decrease, but that does not mean you have not reached an asymptote; why not?\n",
    "\n",
    "> Regarding the latter question, suppose matching time as a function of input size is $t(n) = \\alpha + \\beta n$, so that the time per match per $n$ is $t(n)/n$."
   ]
  },
  {
   "cell_type": "markdown",
   "metadata": {
    "nbgrader": {
     "grade": false,
     "locked": true,
     "solution": false
    }
   },
   "source": [
    "## A more complex pattern\n",
    "\n",
    "Consider a regular expression of the form:\n",
    "\n",
    "$$(a?)^n(a^n) \\quad$$\n",
    "\n",
    "For instance, $n=3$, the regular expression pattern is `(a?){3}a{3} == a?a?a?aaa`. Start by convincing yourself that an input string of the form,\n",
    "\n",
    "$$a^n = \\underbrace{aa\\cdots a}_{n \\mbox{ occurrences}}$$\n",
    "\n",
    "should match this pattern. Here is some code to set up an experiment to benchmark this case."
   ]
  },
  {
   "cell_type": "code",
   "execution_count": 11,
   "metadata": {},
   "outputs": [
    {
     "name": "stdout",
     "output_type": "stream",
     "text": [
      "[n=3] Matching pattern '^(a?){3}(a{3})$' against input 'aaa'...\n",
      "==> Time per run per `n`: 395.72887461933226 ns\n"
     ]
    }
   ],
   "source": [
    "def setup_inputs(n):\n",
    "    \"\"\"Sets up the 'complex pattern example' above.\"\"\"\n",
    "    s_n = rep_str('a', n)\n",
    "    p_n = \"^(a?){%d}(a{%d})$\" % (n, n)\n",
    "    print (\"[n={}] Matching pattern '{}' against input '{}'...\".format(n, p_n, s_n))\n",
    "    assert re.match(p_n, s_n) is not None\n",
    "    return (p_n, s_n)\n",
    "\n",
    "n = 3\n",
    "p_n, s_n = setup_inputs(n)\n",
    "timing = %timeit -q -o re.match(p_n, s_n)\n",
    "t_n = sum(timing.all_runs) / len(timing.all_runs) / timing.loops / n * 1e9\n",
    "print (\"==> Time per run per `n`: {} ns\".format(t_n))"
   ]
  },
  {
   "cell_type": "markdown",
   "metadata": {
    "nbgrader": {
     "grade": false,
     "locked": true,
     "solution": false
    }
   },
   "source": [
    "**Exercise 3** (ungraded) Repeat the above experiment but for different values of $n$, such as $n \\in \\{3, 6, 9, 12, 15, 18\\}$. As before, feel free to use the code cell below or make new code cells to contain the code for your experiments. Summarize what you observe. How does the execution time vary with $n$? Can you explain this behavior?"
   ]
  },
  {
   "cell_type": "code",
   "execution_count": 13,
   "metadata": {
    "nbgrader": {
     "grade": false,
     "grade_id": "experiment2",
     "locked": false,
     "schema_version": 1,
     "solution": true
    }
   },
   "outputs": [
    {
     "name": "stdout",
     "output_type": "stream",
     "text": [
      "[n=1] Matching pattern '^(a?){1}(a{1})$' against input 'a'...\n",
      "n: 1 Time: 932.1170075730022\n",
      "[n=10] Matching pattern '^(a?){10}(a{10})$' against input 'aaaaaaaaaa'...\n",
      "n: 10 Time: 5684.83273144271\n",
      "[n=100] Matching pattern '^(a?){100}(a{100})$' against input 'aaaaaaaaaaaaaaaaaaaaaaaaaaaaaaaaaaaaaaaaaaaaaaaaaaaaaaaaaaaaaaaaaaaaaaaaaaaaaaaaaaaaaaaaaaaaaaaaaaaa'...\n"
     ]
    },
    {
     "ename": "KeyboardInterrupt",
     "evalue": "",
     "output_type": "error",
     "traceback": [
      "\u001b[0;31m---------------------------------------------------------------------------\u001b[0m",
      "\u001b[0;31mKeyboardInterrupt\u001b[0m                         Traceback (most recent call last)",
      "\u001b[0;32m<ipython-input-13-1ac963dfaf91>\u001b[0m in \u001b[0;36m<module>\u001b[0;34m()\u001b[0m\n\u001b[1;32m     11\u001b[0m     \u001b[0mn\u001b[0m \u001b[0;34m=\u001b[0m \u001b[0;36m1\u001b[0m\u001b[0;34m*\u001b[0m\u001b[0;36m10\u001b[0m\u001b[0;34m**\u001b[0m\u001b[0mi\u001b[0m\u001b[0;34m\u001b[0m\u001b[0m\n\u001b[1;32m     12\u001b[0m     \u001b[0mn_list\u001b[0m\u001b[0;34m.\u001b[0m\u001b[0mappend\u001b[0m\u001b[0;34m(\u001b[0m\u001b[0mn\u001b[0m\u001b[0;34m)\u001b[0m\u001b[0;34m\u001b[0m\u001b[0m\n\u001b[0;32m---> 13\u001b[0;31m     \u001b[0mp_n\u001b[0m\u001b[0;34m,\u001b[0m \u001b[0ms_n\u001b[0m \u001b[0;34m=\u001b[0m \u001b[0msetup_inputs\u001b[0m\u001b[0;34m(\u001b[0m\u001b[0mn\u001b[0m\u001b[0;34m)\u001b[0m\u001b[0;34m\u001b[0m\u001b[0m\n\u001b[0m\u001b[1;32m     14\u001b[0m     \u001b[0mtiming\u001b[0m \u001b[0;34m=\u001b[0m \u001b[0mget_ipython\u001b[0m\u001b[0;34m(\u001b[0m\u001b[0;34m)\u001b[0m\u001b[0;34m.\u001b[0m\u001b[0mrun_line_magic\u001b[0m\u001b[0;34m(\u001b[0m\u001b[0;34m'timeit'\u001b[0m\u001b[0;34m,\u001b[0m \u001b[0;34m'-q -o re.match(p_n, s_n)'\u001b[0m\u001b[0;34m)\u001b[0m\u001b[0;34m\u001b[0m\u001b[0m\n\u001b[1;32m     15\u001b[0m     \u001b[0mt_n\u001b[0m \u001b[0;34m=\u001b[0m \u001b[0msum\u001b[0m\u001b[0;34m(\u001b[0m\u001b[0mtiming\u001b[0m\u001b[0;34m.\u001b[0m\u001b[0mall_runs\u001b[0m\u001b[0;34m)\u001b[0m \u001b[0;34m/\u001b[0m \u001b[0mlen\u001b[0m\u001b[0;34m(\u001b[0m\u001b[0mtiming\u001b[0m\u001b[0;34m.\u001b[0m\u001b[0mall_runs\u001b[0m\u001b[0;34m)\u001b[0m \u001b[0;34m/\u001b[0m \u001b[0mtiming\u001b[0m\u001b[0;34m.\u001b[0m\u001b[0mloops\u001b[0m \u001b[0;34m/\u001b[0m \u001b[0mn\u001b[0m \u001b[0;34m*\u001b[0m \u001b[0;36m1e9\u001b[0m\u001b[0;34m\u001b[0m\u001b[0m\n",
      "\u001b[0;32m<ipython-input-11-c2c8fc1ed8a7>\u001b[0m in \u001b[0;36msetup_inputs\u001b[0;34m(n)\u001b[0m\n\u001b[1;32m      4\u001b[0m     \u001b[0mp_n\u001b[0m \u001b[0;34m=\u001b[0m \u001b[0;34m\"^(a?){%d}(a{%d})$\"\u001b[0m \u001b[0;34m%\u001b[0m \u001b[0;34m(\u001b[0m\u001b[0mn\u001b[0m\u001b[0;34m,\u001b[0m \u001b[0mn\u001b[0m\u001b[0;34m)\u001b[0m\u001b[0;34m\u001b[0m\u001b[0m\n\u001b[1;32m      5\u001b[0m     \u001b[0mprint\u001b[0m \u001b[0;34m(\u001b[0m\u001b[0;34m\"[n={}] Matching pattern '{}' against input '{}'...\"\u001b[0m\u001b[0;34m.\u001b[0m\u001b[0mformat\u001b[0m\u001b[0;34m(\u001b[0m\u001b[0mn\u001b[0m\u001b[0;34m,\u001b[0m \u001b[0mp_n\u001b[0m\u001b[0;34m,\u001b[0m \u001b[0ms_n\u001b[0m\u001b[0;34m)\u001b[0m\u001b[0;34m)\u001b[0m\u001b[0;34m\u001b[0m\u001b[0m\n\u001b[0;32m----> 6\u001b[0;31m     \u001b[0;32massert\u001b[0m \u001b[0mre\u001b[0m\u001b[0;34m.\u001b[0m\u001b[0mmatch\u001b[0m\u001b[0;34m(\u001b[0m\u001b[0mp_n\u001b[0m\u001b[0;34m,\u001b[0m \u001b[0ms_n\u001b[0m\u001b[0;34m)\u001b[0m \u001b[0;32mis\u001b[0m \u001b[0;32mnot\u001b[0m \u001b[0;32mNone\u001b[0m\u001b[0;34m\u001b[0m\u001b[0m\n\u001b[0m\u001b[1;32m      7\u001b[0m     \u001b[0;32mreturn\u001b[0m \u001b[0;34m(\u001b[0m\u001b[0mp_n\u001b[0m\u001b[0;34m,\u001b[0m \u001b[0ms_n\u001b[0m\u001b[0;34m)\u001b[0m\u001b[0;34m\u001b[0m\u001b[0m\n\u001b[1;32m      8\u001b[0m \u001b[0;34m\u001b[0m\u001b[0m\n",
      "\u001b[0;32m/usr/local/lib/python3.6/re.py\u001b[0m in \u001b[0;36mmatch\u001b[0;34m(pattern, string, flags)\u001b[0m\n\u001b[1;32m    170\u001b[0m     \"\"\"Try to apply the pattern at the start of the string, returning\n\u001b[1;32m    171\u001b[0m     a match object, or None if no match was found.\"\"\"\n\u001b[0;32m--> 172\u001b[0;31m     \u001b[0;32mreturn\u001b[0m \u001b[0m_compile\u001b[0m\u001b[0;34m(\u001b[0m\u001b[0mpattern\u001b[0m\u001b[0;34m,\u001b[0m \u001b[0mflags\u001b[0m\u001b[0;34m)\u001b[0m\u001b[0;34m.\u001b[0m\u001b[0mmatch\u001b[0m\u001b[0;34m(\u001b[0m\u001b[0mstring\u001b[0m\u001b[0;34m)\u001b[0m\u001b[0;34m\u001b[0m\u001b[0m\n\u001b[0m\u001b[1;32m    173\u001b[0m \u001b[0;34m\u001b[0m\u001b[0m\n\u001b[1;32m    174\u001b[0m \u001b[0;32mdef\u001b[0m \u001b[0mfullmatch\u001b[0m\u001b[0;34m(\u001b[0m\u001b[0mpattern\u001b[0m\u001b[0;34m,\u001b[0m \u001b[0mstring\u001b[0m\u001b[0;34m,\u001b[0m \u001b[0mflags\u001b[0m\u001b[0;34m=\u001b[0m\u001b[0;36m0\u001b[0m\u001b[0;34m)\u001b[0m\u001b[0;34m:\u001b[0m\u001b[0;34m\u001b[0m\u001b[0m\n",
      "\u001b[0;31mKeyboardInterrupt\u001b[0m: "
     ]
    }
   ],
   "source": [
    "# Use this code cell (and others, if you wish) to set up an experiment\n",
    "# to test whether matching simple patterns behaves at worst linearly\n",
    "# in the length of the input.\n",
    "\n",
    "#\n",
    "# YOUR CODE HERE\n",
    "#\n",
    "n_list = []\n",
    "avg = []\n",
    "for i in range(10):\n",
    "    n = 1*10**i\n",
    "    n_list.append(n)\n",
    "    p_n, s_n = setup_inputs(n)\n",
    "    timing = %timeit -q -o re.match(p_n, s_n)\n",
    "    t_n = sum(timing.all_runs) / len(timing.all_runs) / timing.loops / n * 1e9\n",
    "    print('n: {} Time: {}'.format(n, t_n))\n",
    "    avg.append(t_n)"
   ]
  },
  {
   "cell_type": "markdown",
   "metadata": {
    "nbgrader": {
     "grade": false,
     "grade_id": "results2",
     "locked": true,
     "points": 0,
     "schema_version": 1,
     "solution": false
    }
   },
   "source": [
    "**Answer.** Here, you should observe something more like polynomial growth. Here are some results we collected, for instance.\n",
    "\n",
    "|    n    |  t (ns)    |\n",
    "|---------|------------|\n",
    "|       3 | 945.8      |\n",
    "|       6 | 1611.7     |\n",
    "|       9 | 7040.1     |\n",
    "|      12 | 41166.1    |\n",
    "|      15 | 254927.4   |\n",
    "|      18 | 1724843.9  |"
   ]
  },
  {
   "cell_type": "markdown",
   "metadata": {
    "collapsed": true,
    "nbgrader": {
     "grade": false,
     "locked": true,
     "solution": false
    }
   },
   "source": [
    "**Fin!** This cell marks the end of Part 2, which is the final part of this assignment. Don't forget to save, restart and rerun all cells, and submit it."
   ]
  }
 ],
 "metadata": {
  "celltoolbar": "Create Assignment",
  "kernelspec": {
   "display_name": "Python 3.6 (beta)",
   "language": "python",
   "name": "python36"
  },
  "language_info": {
   "codemirror_mode": {
    "name": "ipython",
    "version": 3
   },
   "file_extension": ".py",
   "mimetype": "text/x-python",
   "name": "python",
   "nbconvert_exporter": "python",
   "pygments_lexer": "ipython3",
   "version": "3.6.4"
  }
 },
 "nbformat": 4,
 "nbformat_minor": 1
}
